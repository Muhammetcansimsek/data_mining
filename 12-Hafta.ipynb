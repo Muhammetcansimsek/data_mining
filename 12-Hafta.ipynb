{
 "cells": [
  {
   "cell_type": "code",
   "execution_count": 1,
   "id": "928c6416-7748-4f4a-b85d-3d9270c3641c",
   "metadata": {},
   "outputs": [
    {
     "data": {
      "text/plain": [
       "job_sat\n",
       "Very satisfied           879\n",
       "Slightly satisfied       680\n",
       "Slightly dissatisfied    342\n",
       "Neither                  201\n",
       "Very dissatisfied        159\n",
       "Name: count, dtype: int64"
      ]
     },
     "execution_count": 1,
     "metadata": {},
     "output_type": "execute_result"
    }
   ],
   "source": [
    "import pandas as pd\n",
    "import numpy as np\n",
    "import matplotlib.pyplot as plt\n",
    "import scipy.stats as stats\n",
    "\n",
    "df_stck = pd.read_feather(\"resources/stack_overflow.feather\")\n",
    "df_stck['job_sat'].value_counts()"
   ]
  },
  {
   "cell_type": "markdown",
   "id": "463c6407-e15f-4d1f-ab60-80c3dfad07f8",
   "metadata": {},
   "source": [
    "**Analysis of variance(ANOVA)**\n",
    "\n",
    "ANOVA testleri, gruplar arasında farklılık olup olmadığını belirler. Anlamlılık düzeyi 0.2 olarak belirlenir. Bu değer birçok durumda olduğundan daha büyüktür, ancak daha sonra farklı sayıdaki grupları karşılaştırmanın sonuçlarını anlamaya yardımcı olacaktır. Birden fazla gruptaki değerleri karşılaştırmak için pingouin anova yöntemi kullanılacak. Verileri stack_overflow, bağımlı değişken olan dv'yi `converted_comp` ve aralarında hesaplama yapılacak grup sütunu `job_sat` olarak belirlenir. p-değeri, p-unc sütununda saklanır; bu sütun, alfa değerinden yüzde 20 daha küçük olan 0.0013 noktasıdır. Bu, iş tatmini kategorilerinden en az ikisinin ücret düzeyleri arasında önemli farklılıklar olduğu anlamına gelir, ancak bu bize hangi iki kategori olduğunu söylemez."
   ]
  },
  {
   "cell_type": "code",
   "execution_count": 2,
   "id": "59157bbc-f645-4550-bc8b-2b9d73021f88",
   "metadata": {},
   "outputs": [
    {
     "data": {
      "text/html": [
       "<div>\n",
       "<style scoped>\n",
       "    .dataframe tbody tr th:only-of-type {\n",
       "        vertical-align: middle;\n",
       "    }\n",
       "\n",
       "    .dataframe tbody tr th {\n",
       "        vertical-align: top;\n",
       "    }\n",
       "\n",
       "    .dataframe thead th {\n",
       "        text-align: right;\n",
       "    }\n",
       "</style>\n",
       "<table border=\"1\" class=\"dataframe\">\n",
       "  <thead>\n",
       "    <tr style=\"text-align: right;\">\n",
       "      <th></th>\n",
       "      <th>Contrast</th>\n",
       "      <th>A</th>\n",
       "      <th>B</th>\n",
       "      <th>Paired</th>\n",
       "      <th>Parametric</th>\n",
       "      <th>T</th>\n",
       "      <th>dof</th>\n",
       "      <th>alternative</th>\n",
       "      <th>p-unc</th>\n",
       "      <th>BF10</th>\n",
       "      <th>hedges</th>\n",
       "    </tr>\n",
       "  </thead>\n",
       "  <tbody>\n",
       "    <tr>\n",
       "      <th>0</th>\n",
       "      <td>job_sat</td>\n",
       "      <td>Very dissatisfied</td>\n",
       "      <td>Slightly dissatisfied</td>\n",
       "      <td>False</td>\n",
       "      <td>True</td>\n",
       "      <td>1.129951</td>\n",
       "      <td>247.570187</td>\n",
       "      <td>two-sided</td>\n",
       "      <td>0.259590</td>\n",
       "      <td>0.197</td>\n",
       "      <td>0.119131</td>\n",
       "    </tr>\n",
       "    <tr>\n",
       "      <th>1</th>\n",
       "      <td>job_sat</td>\n",
       "      <td>Very dissatisfied</td>\n",
       "      <td>Neither</td>\n",
       "      <td>False</td>\n",
       "      <td>True</td>\n",
       "      <td>0.545948</td>\n",
       "      <td>321.165726</td>\n",
       "      <td>two-sided</td>\n",
       "      <td>0.585481</td>\n",
       "      <td>0.135</td>\n",
       "      <td>0.058537</td>\n",
       "    </tr>\n",
       "    <tr>\n",
       "      <th>2</th>\n",
       "      <td>job_sat</td>\n",
       "      <td>Very dissatisfied</td>\n",
       "      <td>Slightly satisfied</td>\n",
       "      <td>False</td>\n",
       "      <td>True</td>\n",
       "      <td>1.243665</td>\n",
       "      <td>187.153329</td>\n",
       "      <td>two-sided</td>\n",
       "      <td>0.215179</td>\n",
       "      <td>0.208</td>\n",
       "      <td>0.145624</td>\n",
       "    </tr>\n",
       "    <tr>\n",
       "      <th>3</th>\n",
       "      <td>job_sat</td>\n",
       "      <td>Very dissatisfied</td>\n",
       "      <td>Very satisfied</td>\n",
       "      <td>False</td>\n",
       "      <td>True</td>\n",
       "      <td>-0.747379</td>\n",
       "      <td>221.666205</td>\n",
       "      <td>two-sided</td>\n",
       "      <td>0.455627</td>\n",
       "      <td>0.126</td>\n",
       "      <td>-0.063479</td>\n",
       "    </tr>\n",
       "    <tr>\n",
       "      <th>4</th>\n",
       "      <td>job_sat</td>\n",
       "      <td>Slightly dissatisfied</td>\n",
       "      <td>Neither</td>\n",
       "      <td>False</td>\n",
       "      <td>True</td>\n",
       "      <td>-0.602209</td>\n",
       "      <td>367.730081</td>\n",
       "      <td>two-sided</td>\n",
       "      <td>0.547406</td>\n",
       "      <td>0.118</td>\n",
       "      <td>-0.055707</td>\n",
       "    </tr>\n",
       "    <tr>\n",
       "      <th>5</th>\n",
       "      <td>job_sat</td>\n",
       "      <td>Slightly dissatisfied</td>\n",
       "      <td>Slightly satisfied</td>\n",
       "      <td>False</td>\n",
       "      <td>True</td>\n",
       "      <td>0.038264</td>\n",
       "      <td>569.926329</td>\n",
       "      <td>two-sided</td>\n",
       "      <td>0.969491</td>\n",
       "      <td>0.074</td>\n",
       "      <td>0.002719</td>\n",
       "    </tr>\n",
       "    <tr>\n",
       "      <th>6</th>\n",
       "      <td>job_sat</td>\n",
       "      <td>Slightly dissatisfied</td>\n",
       "      <td>Very satisfied</td>\n",
       "      <td>False</td>\n",
       "      <td>True</td>\n",
       "      <td>-3.076222</td>\n",
       "      <td>821.303063</td>\n",
       "      <td>two-sided</td>\n",
       "      <td>0.002166</td>\n",
       "      <td>7.43</td>\n",
       "      <td>-0.173247</td>\n",
       "    </tr>\n",
       "    <tr>\n",
       "      <th>7</th>\n",
       "      <td>job_sat</td>\n",
       "      <td>Neither</td>\n",
       "      <td>Slightly satisfied</td>\n",
       "      <td>False</td>\n",
       "      <td>True</td>\n",
       "      <td>0.700752</td>\n",
       "      <td>258.204546</td>\n",
       "      <td>two-sided</td>\n",
       "      <td>0.484088</td>\n",
       "      <td>0.114</td>\n",
       "      <td>0.068513</td>\n",
       "    </tr>\n",
       "    <tr>\n",
       "      <th>8</th>\n",
       "      <td>job_sat</td>\n",
       "      <td>Neither</td>\n",
       "      <td>Very satisfied</td>\n",
       "      <td>False</td>\n",
       "      <td>True</td>\n",
       "      <td>-1.662901</td>\n",
       "      <td>328.326639</td>\n",
       "      <td>two-sided</td>\n",
       "      <td>0.097286</td>\n",
       "      <td>0.337</td>\n",
       "      <td>-0.120115</td>\n",
       "    </tr>\n",
       "    <tr>\n",
       "      <th>9</th>\n",
       "      <td>job_sat</td>\n",
       "      <td>Slightly satisfied</td>\n",
       "      <td>Very satisfied</td>\n",
       "      <td>False</td>\n",
       "      <td>True</td>\n",
       "      <td>-4.009935</td>\n",
       "      <td>1478.622799</td>\n",
       "      <td>two-sided</td>\n",
       "      <td>0.000064</td>\n",
       "      <td>158.564</td>\n",
       "      <td>-0.192931</td>\n",
       "    </tr>\n",
       "  </tbody>\n",
       "</table>\n",
       "</div>"
      ],
      "text/plain": [
       "  Contrast                      A                      B  Paired  Parametric  \\\n",
       "0  job_sat      Very dissatisfied  Slightly dissatisfied   False        True   \n",
       "1  job_sat      Very dissatisfied                Neither   False        True   \n",
       "2  job_sat      Very dissatisfied     Slightly satisfied   False        True   \n",
       "3  job_sat      Very dissatisfied         Very satisfied   False        True   \n",
       "4  job_sat  Slightly dissatisfied                Neither   False        True   \n",
       "5  job_sat  Slightly dissatisfied     Slightly satisfied   False        True   \n",
       "6  job_sat  Slightly dissatisfied         Very satisfied   False        True   \n",
       "7  job_sat                Neither     Slightly satisfied   False        True   \n",
       "8  job_sat                Neither         Very satisfied   False        True   \n",
       "9  job_sat     Slightly satisfied         Very satisfied   False        True   \n",
       "\n",
       "          T          dof alternative     p-unc     BF10    hedges  \n",
       "0  1.129951   247.570187   two-sided  0.259590    0.197  0.119131  \n",
       "1  0.545948   321.165726   two-sided  0.585481    0.135  0.058537  \n",
       "2  1.243665   187.153329   two-sided  0.215179    0.208  0.145624  \n",
       "3 -0.747379   221.666205   two-sided  0.455627    0.126 -0.063479  \n",
       "4 -0.602209   367.730081   two-sided  0.547406    0.118 -0.055707  \n",
       "5  0.038264   569.926329   two-sided  0.969491    0.074  0.002719  \n",
       "6 -3.076222   821.303063   two-sided  0.002166     7.43 -0.173247  \n",
       "7  0.700752   258.204546   two-sided  0.484088    0.114  0.068513  \n",
       "8 -1.662901   328.326639   two-sided  0.097286    0.337 -0.120115  \n",
       "9 -4.009935  1478.622799   two-sided  0.000064  158.564 -0.192931  "
      ]
     },
     "execution_count": 2,
     "metadata": {},
     "output_type": "execute_result"
    }
   ],
   "source": [
    "import pingouin\n",
    "\n",
    "pingouin.pairwise_tests(data=df_stck, dv='converted_comp', between='job_sat', padjust='none')"
   ]
  },
  {
   "cell_type": "markdown",
   "id": "421e4f2e-95cb-490f-8e01-5189ed4ecdff",
   "metadata": {},
   "source": [
    "**Pairwise tests**\n",
    "\n",
    "Hangi kategorilerin farklı olduğunu belirlemek için, beş memnuniyet kategorisinin tamamını karşılaştırarak her bir çift sırayla test edilmelidir. Beş maddelik bir setten iki madde seçmenin on yolu vardır, dolayısıyla gerçekleştirilmesi gereken on test vardır.\n",
    "Anlamlılık düzeyi 0.2'dir.\n",
    "\n",
    "- $\\mu_{\\text{very\\_dissatisfied}} \\neq \\mu_{\\text{slightly\\_dissatisfied}}$     \n",
    "\n",
    "- $\\mu_{\\text{very\\_dissatisfied}} \\neq \\mu_{\\text{neither}}$\n",
    "\n",
    "- $\\mu_{\\text{very\\_dissatisfied}} \\neq \\mu_{\\text{slightly\\_satisfied}}$\n",
    "\n",
    "- $\\mu_{\\text{very\\_dissatisfied}} \\neq \\mu_{\\text{very\\_satisfied}}$\n",
    "\n",
    "- $\\mu_{\\text{very\\_dissatisfied}} \\neq \\mu_{\\text{slightly\\_dissatisfied}}$\n",
    "\n",
    "- $\\mu_{\\text{slightly\\_dissatisfied}} \\neq \\mu_{\\text{slightly\\_satisfied}}$\n",
    "\n",
    "- $\\mu_{\\text{slightly\\_dissatisfied}} \\neq \\mu_{\\text{very\\_satisfied}}$\n",
    "\n",
    "- $\\mu_{\\text{neither}} \\neq \\mu_{\\text{slightly\\_satisfied}}$\n",
    "\n",
    "- $\\mu_{\\text{neither}} \\neq \\mu_{\\text{very\\_satisfied}}$\n",
    "\n",
    "- $\\mu_{\\text{slightly\\_satisfied}} \\neq \\mu_{\\text{very\\_satisfied}}$"
   ]
  },
  {
   "cell_type": "code",
   "execution_count": 3,
   "id": "48dbfaf8-8dff-4fae-98fc-ff4ec05df56f",
   "metadata": {},
   "outputs": [
    {
     "data": {
      "text/plain": [
       "age_cat\n",
       "Under 30       0.535604\n",
       "At least 30    0.464396\n",
       "Name: proportion, dtype: float64"
      ]
     },
     "execution_count": 3,
     "metadata": {},
     "output_type": "execute_result"
    }
   ],
   "source": [
    "alpha = 0.1\n",
    "df_stck['age_cat'].value_counts(normalize=True)"
   ]
  },
  {
   "cell_type": "code",
   "execution_count": 2,
   "id": "9c743390-3ae1-43f8-8822-e3aaac355793",
   "metadata": {},
   "outputs": [
    {
     "data": {
      "text/plain": [
       "0.5356037151702786"
      ]
     },
     "execution_count": 2,
     "metadata": {},
     "output_type": "execute_result"
    }
   ],
   "source": [
    "p_hat = (df_stck['age_cat'] == 'Under 30').mean()\n",
    "p_hat"
   ]
  },
  {
   "cell_type": "code",
   "execution_count": 3,
   "id": "5ee70752-b219-44a5-ab04-a0908bc01d5d",
   "metadata": {},
   "outputs": [
    {
     "data": {
      "text/plain": [
       "2261"
      ]
     },
     "execution_count": 3,
     "metadata": {},
     "output_type": "execute_result"
    }
   ],
   "source": [
    "p_0 = 0.5\n",
    "n = len(df_stck)\n",
    "n"
   ]
  },
  {
   "cell_type": "code",
   "execution_count": 6,
   "id": "fc0a57fe-619c-40cf-977d-35c7476749c7",
   "metadata": {},
   "outputs": [
    {
     "data": {
      "text/plain": [
       "3.385911440783663"
      ]
     },
     "execution_count": 6,
     "metadata": {},
     "output_type": "execute_result"
    }
   ],
   "source": [
    "import numpy as np\n",
    "\n",
    "pay = p_hat - p_0\n",
    "payda = np.sqrt(p_0 * (1 - p_0) / n)\n",
    "z_score = pay / payda \n",
    "z_score"
   ]
  },
  {
   "cell_type": "markdown",
   "id": "1d1929a3-4a11-4383-b6a3-72e917618500",
   "metadata": {},
   "source": [
    "**Calculating the p-value**"
   ]
  },
  {
   "cell_type": "code",
   "execution_count": 7,
   "id": "076e9c44-81f4-42d0-89aa-2d4497d4efaf",
   "metadata": {},
   "outputs": [
    {
     "data": {
      "text/plain": [
       "0.0007094227368100725"
      ]
     },
     "execution_count": 7,
     "metadata": {},
     "output_type": "execute_result"
    }
   ],
   "source": [
    "from scipy.stats import norm\n",
    "p_value = 2 * (1 - norm.cdf(z_score))\n",
    "p_value"
   ]
  },
  {
   "cell_type": "code",
   "execution_count": 8,
   "id": "c04e96ad-59a5-4874-8260-22bf7aa37e84",
   "metadata": {},
   "outputs": [
    {
     "data": {
      "text/plain": [
       "True"
      ]
     },
     "execution_count": 8,
     "metadata": {},
     "output_type": "execute_result"
    }
   ],
   "source": [
    "p_value < alpha"
   ]
  },
  {
   "cell_type": "code",
   "execution_count": 9,
   "id": "8d647b21-fa11-498c-9f8a-acc2b12c03e5",
   "metadata": {},
   "outputs": [],
   "source": [
    "alpha = 0.05"
   ]
  },
  {
   "cell_type": "code",
   "execution_count": 10,
   "id": "c49b3c5f-7acb-4b55-92de-91e7695de2dd",
   "metadata": {},
   "outputs": [
    {
     "data": {
      "text/plain": [
       "age_cat      hobbyist\n",
       "At least 30  Yes          812\n",
       "             No           238\n",
       "Under 30     Yes         1021\n",
       "             No           190\n",
       "Name: count, dtype: int64"
      ]
     },
     "execution_count": 10,
     "metadata": {},
     "output_type": "execute_result"
    }
   ],
   "source": [
    "df_stck.groupby('age_cat')['hobbyist'].value_counts()"
   ]
  },
  {
   "cell_type": "code",
   "execution_count": 11,
   "id": "ec57ce0b-1046-4ed0-8ab7-74ded0f42424",
   "metadata": {},
   "outputs": [
    {
     "data": {
      "text/plain": [
       "(-4.223691463320559, 2.403330142685068e-05)"
      ]
     },
     "execution_count": 11,
     "metadata": {},
     "output_type": "execute_result"
    }
   ],
   "source": [
    "n_hobbyist = np.array([812, 1021])\n",
    "n_rows = np.array([812 + 238, 1021 + 190])\n",
    "\n",
    "from statsmodels.stats.proportion import proportions_ztest\n",
    "\n",
    "z_score, p_value = proportions_ztest(count=n_hobbyist, nobs=n_rows, \n",
    "                                     alternative='two-sided')\n",
    "\n",
    "(z_score, p_value)"
   ]
  },
  {
   "cell_type": "code",
   "execution_count": 12,
   "id": "4b94d792-5ce9-4b51-9c5e-ba8940e44041",
   "metadata": {},
   "outputs": [
    {
     "data": {
      "text/html": [
       "<div>\n",
       "<style scoped>\n",
       "    .dataframe tbody tr th:only-of-type {\n",
       "        vertical-align: middle;\n",
       "    }\n",
       "\n",
       "    .dataframe tbody tr th {\n",
       "        vertical-align: top;\n",
       "    }\n",
       "\n",
       "    .dataframe thead th {\n",
       "        text-align: right;\n",
       "    }\n",
       "</style>\n",
       "<table border=\"1\" class=\"dataframe\">\n",
       "  <thead>\n",
       "    <tr style=\"text-align: right;\">\n",
       "      <th></th>\n",
       "      <th>test</th>\n",
       "      <th>lambda</th>\n",
       "      <th>chi2</th>\n",
       "      <th>dof</th>\n",
       "      <th>pval</th>\n",
       "      <th>cramer</th>\n",
       "      <th>power</th>\n",
       "    </tr>\n",
       "  </thead>\n",
       "  <tbody>\n",
       "    <tr>\n",
       "      <th>0</th>\n",
       "      <td>pearson</td>\n",
       "      <td>1.000000</td>\n",
       "      <td>17.839570</td>\n",
       "      <td>1.0</td>\n",
       "      <td>0.000024</td>\n",
       "      <td>0.088826</td>\n",
       "      <td>0.988205</td>\n",
       "    </tr>\n",
       "    <tr>\n",
       "      <th>1</th>\n",
       "      <td>cressie-read</td>\n",
       "      <td>0.666667</td>\n",
       "      <td>17.818114</td>\n",
       "      <td>1.0</td>\n",
       "      <td>0.000024</td>\n",
       "      <td>0.088773</td>\n",
       "      <td>0.988126</td>\n",
       "    </tr>\n",
       "    <tr>\n",
       "      <th>2</th>\n",
       "      <td>log-likelihood</td>\n",
       "      <td>0.000000</td>\n",
       "      <td>17.802653</td>\n",
       "      <td>1.0</td>\n",
       "      <td>0.000025</td>\n",
       "      <td>0.088734</td>\n",
       "      <td>0.988069</td>\n",
       "    </tr>\n",
       "    <tr>\n",
       "      <th>3</th>\n",
       "      <td>freeman-tukey</td>\n",
       "      <td>-0.500000</td>\n",
       "      <td>17.815060</td>\n",
       "      <td>1.0</td>\n",
       "      <td>0.000024</td>\n",
       "      <td>0.088765</td>\n",
       "      <td>0.988115</td>\n",
       "    </tr>\n",
       "    <tr>\n",
       "      <th>4</th>\n",
       "      <td>mod-log-likelihood</td>\n",
       "      <td>-1.000000</td>\n",
       "      <td>17.848099</td>\n",
       "      <td>1.0</td>\n",
       "      <td>0.000024</td>\n",
       "      <td>0.088848</td>\n",
       "      <td>0.988236</td>\n",
       "    </tr>\n",
       "    <tr>\n",
       "      <th>5</th>\n",
       "      <td>neyman</td>\n",
       "      <td>-2.000000</td>\n",
       "      <td>17.976656</td>\n",
       "      <td>1.0</td>\n",
       "      <td>0.000022</td>\n",
       "      <td>0.089167</td>\n",
       "      <td>0.988694</td>\n",
       "    </tr>\n",
       "  </tbody>\n",
       "</table>\n",
       "</div>"
      ],
      "text/plain": [
       "                 test    lambda       chi2  dof      pval    cramer     power\n",
       "0             pearson  1.000000  17.839570  1.0  0.000024  0.088826  0.988205\n",
       "1        cressie-read  0.666667  17.818114  1.0  0.000024  0.088773  0.988126\n",
       "2      log-likelihood  0.000000  17.802653  1.0  0.000025  0.088734  0.988069\n",
       "3       freeman-tukey -0.500000  17.815060  1.0  0.000024  0.088765  0.988115\n",
       "4  mod-log-likelihood -1.000000  17.848099  1.0  0.000024  0.088848  0.988236\n",
       "5              neyman -2.000000  17.976656  1.0  0.000022  0.089167  0.988694"
      ]
     },
     "execution_count": 12,
     "metadata": {},
     "output_type": "execute_result"
    }
   ],
   "source": [
    "import pingouin\n",
    "\n",
    "expected, observed, stats = pingouin.chi2_independence(data=df_stck, x='hobbyist', \n",
    "                                                       y='age_cat', \n",
    "                                                       correction=False)\n",
    "\n",
    "stats"
   ]
  },
  {
   "cell_type": "code",
   "execution_count": 13,
   "id": "b687b88e-de1b-493f-a095-2956e7ee08b6",
   "metadata": {},
   "outputs": [
    {
     "data": {
      "text/plain": [
       "age_cat\n",
       "Under 30       1211\n",
       "At least 30    1050\n",
       "Name: count, dtype: int64"
      ]
     },
     "execution_count": 13,
     "metadata": {},
     "output_type": "execute_result"
    }
   ],
   "source": [
    "df_stck['age_cat'].value_counts()"
   ]
  },
  {
   "cell_type": "code",
   "execution_count": 14,
   "id": "52c7318c-0a19-4dd4-af40-05ce0f00e12a",
   "metadata": {},
   "outputs": [
    {
     "data": {
      "text/plain": [
       "job_sat\n",
       "Very satisfied           879\n",
       "Slightly satisfied       680\n",
       "Slightly dissatisfied    342\n",
       "Neither                  201\n",
       "Very dissatisfied        159\n",
       "Name: count, dtype: int64"
      ]
     },
     "execution_count": 14,
     "metadata": {},
     "output_type": "execute_result"
    }
   ],
   "source": [
    "df_stck['job_sat'].value_counts()"
   ]
  },
  {
   "cell_type": "code",
   "execution_count": 15,
   "id": "cd2da198-ea48-4dd8-8dc3-3ac285154038",
   "metadata": {},
   "outputs": [
    {
     "name": "stderr",
     "output_type": "stream",
     "text": [
      "C:\\Users\\cansimsek\\AppData\\Local\\Temp\\ipykernel_15356\\384739958.py:1: FutureWarning: The default of observed=False is deprecated and will be changed to True in a future version of pandas. Pass observed=False to retain current behavior or observed=True to adopt the future default and silence this warning.\n",
      "  props = df_stck.groupby('job_sat')['age_cat'].value_counts(normalize=True)\n"
     ]
    },
    {
     "data": {
      "text/plain": [
       "job_sat                age_cat    \n",
       "Very dissatisfied      Under 30       0.509434\n",
       "                       At least 30    0.490566\n",
       "Slightly dissatisfied  Under 30       0.532164\n",
       "                       At least 30    0.467836\n",
       "Neither                Under 30       0.567164\n",
       "                       At least 30    0.432836\n",
       "Slightly satisfied     Under 30       0.564706\n",
       "                       At least 30    0.435294\n",
       "Very satisfied         Under 30       0.511945\n",
       "                       At least 30    0.488055\n",
       "Name: proportion, dtype: float64"
      ]
     },
     "execution_count": 15,
     "metadata": {},
     "output_type": "execute_result"
    }
   ],
   "source": [
    "props = df_stck.groupby('job_sat')['age_cat'].value_counts(normalize=True)\n",
    "props"
   ]
  },
  {
   "cell_type": "code",
   "execution_count": 16,
   "id": "c05b8fcf-53f5-4e03-82f9-ce0decc872df",
   "metadata": {},
   "outputs": [
    {
     "data": {
      "text/html": [
       "<div>\n",
       "<style scoped>\n",
       "    .dataframe tbody tr th:only-of-type {\n",
       "        vertical-align: middle;\n",
       "    }\n",
       "\n",
       "    .dataframe tbody tr th {\n",
       "        vertical-align: top;\n",
       "    }\n",
       "\n",
       "    .dataframe thead th {\n",
       "        text-align: right;\n",
       "    }\n",
       "</style>\n",
       "<table border=\"1\" class=\"dataframe\">\n",
       "  <thead>\n",
       "    <tr style=\"text-align: right;\">\n",
       "      <th>age_cat</th>\n",
       "      <th>At least 30</th>\n",
       "      <th>Under 30</th>\n",
       "    </tr>\n",
       "    <tr>\n",
       "      <th>job_sat</th>\n",
       "      <th></th>\n",
       "      <th></th>\n",
       "    </tr>\n",
       "  </thead>\n",
       "  <tbody>\n",
       "    <tr>\n",
       "      <th>Very dissatisfied</th>\n",
       "      <td>0.490566</td>\n",
       "      <td>0.509434</td>\n",
       "    </tr>\n",
       "    <tr>\n",
       "      <th>Slightly dissatisfied</th>\n",
       "      <td>0.467836</td>\n",
       "      <td>0.532164</td>\n",
       "    </tr>\n",
       "    <tr>\n",
       "      <th>Neither</th>\n",
       "      <td>0.432836</td>\n",
       "      <td>0.567164</td>\n",
       "    </tr>\n",
       "    <tr>\n",
       "      <th>Slightly satisfied</th>\n",
       "      <td>0.435294</td>\n",
       "      <td>0.564706</td>\n",
       "    </tr>\n",
       "    <tr>\n",
       "      <th>Very satisfied</th>\n",
       "      <td>0.488055</td>\n",
       "      <td>0.511945</td>\n",
       "    </tr>\n",
       "  </tbody>\n",
       "</table>\n",
       "</div>"
      ],
      "text/plain": [
       "age_cat                At least 30  Under 30\n",
       "job_sat                                     \n",
       "Very dissatisfied         0.490566  0.509434\n",
       "Slightly dissatisfied     0.467836  0.532164\n",
       "Neither                   0.432836  0.567164\n",
       "Slightly satisfied        0.435294  0.564706\n",
       "Very satisfied            0.488055  0.511945"
      ]
     },
     "execution_count": 16,
     "metadata": {},
     "output_type": "execute_result"
    }
   ],
   "source": [
    "wide_props = props.unstack()\n",
    "wide_props"
   ]
  },
  {
   "cell_type": "code",
   "execution_count": 17,
   "id": "8d121906-064e-4163-aebc-8d11062f76e9",
   "metadata": {},
   "outputs": [
    {
     "data": {
      "text/plain": [
       "<Axes: xlabel='job_sat'>"
      ]
     },
     "execution_count": 17,
     "metadata": {},
     "output_type": "execute_result"
    },
    {
     "data": {
      "image/png": "[encoded data removed]",
      "text/plain": [
       "<Figure size 640x480 with 1 Axes>"
      ]
     },
     "metadata": {},
     "output_type": "display_data"
    }
   ],
   "source": [
    "wide_props.plot(kind='bar', stacked=True)"
   ]
  },
  {
   "cell_type": "code",
   "execution_count": 18,
   "id": "ab4ca36a-de00-4c69-beb3-156593edef04",
   "metadata": {},
   "outputs": [
    {
     "data": {
      "text/html": [
       "<div>\n",
       "<style scoped>\n",
       "    .dataframe tbody tr th:only-of-type {\n",
       "        vertical-align: middle;\n",
       "    }\n",
       "\n",
       "    .dataframe tbody tr th {\n",
       "        vertical-align: top;\n",
       "    }\n",
       "\n",
       "    .dataframe thead th {\n",
       "        text-align: right;\n",
       "    }\n",
       "</style>\n",
       "<table border=\"1\" class=\"dataframe\">\n",
       "  <thead>\n",
       "    <tr style=\"text-align: right;\">\n",
       "      <th></th>\n",
       "      <th>test</th>\n",
       "      <th>lambda</th>\n",
       "      <th>chi2</th>\n",
       "      <th>dof</th>\n",
       "      <th>pval</th>\n",
       "      <th>cramer</th>\n",
       "      <th>power</th>\n",
       "    </tr>\n",
       "  </thead>\n",
       "  <tbody>\n",
       "    <tr>\n",
       "      <th>0</th>\n",
       "      <td>pearson</td>\n",
       "      <td>1.000000</td>\n",
       "      <td>5.552373</td>\n",
       "      <td>4.0</td>\n",
       "      <td>0.235164</td>\n",
       "      <td>0.049555</td>\n",
       "      <td>0.437417</td>\n",
       "    </tr>\n",
       "    <tr>\n",
       "      <th>1</th>\n",
       "      <td>cressie-read</td>\n",
       "      <td>0.666667</td>\n",
       "      <td>5.554106</td>\n",
       "      <td>4.0</td>\n",
       "      <td>0.235014</td>\n",
       "      <td>0.049563</td>\n",
       "      <td>0.437545</td>\n",
       "    </tr>\n",
       "    <tr>\n",
       "      <th>2</th>\n",
       "      <td>log-likelihood</td>\n",
       "      <td>0.000000</td>\n",
       "      <td>5.558529</td>\n",
       "      <td>4.0</td>\n",
       "      <td>0.234632</td>\n",
       "      <td>0.049583</td>\n",
       "      <td>0.437871</td>\n",
       "    </tr>\n",
       "    <tr>\n",
       "      <th>3</th>\n",
       "      <td>freeman-tukey</td>\n",
       "      <td>-0.500000</td>\n",
       "      <td>5.562688</td>\n",
       "      <td>4.0</td>\n",
       "      <td>0.234274</td>\n",
       "      <td>0.049601</td>\n",
       "      <td>0.438178</td>\n",
       "    </tr>\n",
       "    <tr>\n",
       "      <th>4</th>\n",
       "      <td>mod-log-likelihood</td>\n",
       "      <td>-1.000000</td>\n",
       "      <td>5.567570</td>\n",
       "      <td>4.0</td>\n",
       "      <td>0.233854</td>\n",
       "      <td>0.049623</td>\n",
       "      <td>0.438538</td>\n",
       "    </tr>\n",
       "    <tr>\n",
       "      <th>5</th>\n",
       "      <td>neyman</td>\n",
       "      <td>-2.000000</td>\n",
       "      <td>5.579519</td>\n",
       "      <td>4.0</td>\n",
       "      <td>0.232828</td>\n",
       "      <td>0.049676</td>\n",
       "      <td>0.439419</td>\n",
       "    </tr>\n",
       "  </tbody>\n",
       "</table>\n",
       "</div>"
      ],
      "text/plain": [
       "                 test    lambda      chi2  dof      pval    cramer     power\n",
       "0             pearson  1.000000  5.552373  4.0  0.235164  0.049555  0.437417\n",
       "1        cressie-read  0.666667  5.554106  4.0  0.235014  0.049563  0.437545\n",
       "2      log-likelihood  0.000000  5.558529  4.0  0.234632  0.049583  0.437871\n",
       "3       freeman-tukey -0.500000  5.562688  4.0  0.234274  0.049601  0.438178\n",
       "4  mod-log-likelihood -1.000000  5.567570  4.0  0.233854  0.049623  0.438538\n",
       "5              neyman -2.000000  5.579519  4.0  0.232828  0.049676  0.439419"
      ]
     },
     "execution_count": 18,
     "metadata": {},
     "output_type": "execute_result"
    }
   ],
   "source": [
    "expected, observed, stats = pingouin.chi2_independence(data=df_stck, x='job_sat', \n",
    "                                                       y='age_cat')\n",
    "stats"
   ]
  },
  {
   "cell_type": "code",
   "execution_count": 19,
   "id": "6e8ea36a-d135-4359-8860-8835b50618a6",
   "metadata": {},
   "outputs": [
    {
     "data": {
      "text/plain": [
       "<Axes: xlabel='age_cat'>"
      ]
     },
     "execution_count": 19,
     "metadata": {},
     "output_type": "execute_result"
    },
    {
     "data": {
      "image/png": "[encoded data removed]",
      "text/plain": [
       "<Figure size 640x480 with 1 Axes>"
      ]
     },
     "metadata": {},
     "output_type": "display_data"
    }
   ],
   "source": [
    "props = df_stck.groupby('age_cat')['job_sat'].value_counts(normalize=True)\n",
    "wide_props = props.unstack()\n",
    "wide_props.plot(kind='bar', stacked=True)"
   ]
  },
  {
   "cell_type": "code",
   "execution_count": 20,
   "id": "973e640f-b089-4a8b-9760-65607fd99d81",
   "metadata": {},
   "outputs": [
    {
     "data": {
      "text/html": [
       "<div>\n",
       "<style scoped>\n",
       "    .dataframe tbody tr th:only-of-type {\n",
       "        vertical-align: middle;\n",
       "    }\n",
       "\n",
       "    .dataframe tbody tr th {\n",
       "        vertical-align: top;\n",
       "    }\n",
       "\n",
       "    .dataframe thead th {\n",
       "        text-align: right;\n",
       "    }\n",
       "</style>\n",
       "<table border=\"1\" class=\"dataframe\">\n",
       "  <thead>\n",
       "    <tr style=\"text-align: right;\">\n",
       "      <th></th>\n",
       "      <th>test</th>\n",
       "      <th>lambda</th>\n",
       "      <th>chi2</th>\n",
       "      <th>dof</th>\n",
       "      <th>pval</th>\n",
       "      <th>cramer</th>\n",
       "      <th>power</th>\n",
       "    </tr>\n",
       "  </thead>\n",
       "  <tbody>\n",
       "    <tr>\n",
       "      <th>0</th>\n",
       "      <td>pearson</td>\n",
       "      <td>1.0</td>\n",
       "      <td>5.552373</td>\n",
       "      <td>4.0</td>\n",
       "      <td>0.235164</td>\n",
       "      <td>0.049555</td>\n",
       "      <td>0.437417</td>\n",
       "    </tr>\n",
       "  </tbody>\n",
       "</table>\n",
       "</div>"
      ],
      "text/plain": [
       "      test  lambda      chi2  dof      pval    cramer     power\n",
       "0  pearson     1.0  5.552373  4.0  0.235164  0.049555  0.437417"
      ]
     },
     "execution_count": 20,
     "metadata": {},
     "output_type": "execute_result"
    }
   ],
   "source": [
    "expected, observed, stats = pingouin.chi2_independence(data=df_stck, x='age_cat',\n",
    "                                                       y='job_sat')\n",
    "stats[stats['test'] == 'pearson']"
   ]
  },
  {
   "cell_type": "code",
   "execution_count": 21,
   "id": "316fa395-a4f3-479c-9264-4f62510685a4",
   "metadata": {},
   "outputs": [
    {
     "data": {
      "text/plain": [
       "purple_link\n",
       "Hello, old friend    1225\n",
       "Indifferent           405\n",
       "Amused                368\n",
       "Annoyed               263\n",
       "Name: count, dtype: int64"
      ]
     },
     "execution_count": 21,
     "metadata": {},
     "output_type": "execute_result"
    }
   ],
   "source": [
    "purple_link_counts = df_stck['purple_link'].value_counts()\n",
    "purple_link_counts"
   ]
  },
  {
   "cell_type": "code",
   "execution_count": 22,
   "id": "b2be8476-7b77-4505-96e3-5de301310cff",
   "metadata": {},
   "outputs": [
    {
     "data": {
      "text/html": [
       "<div>\n",
       "<style scoped>\n",
       "    .dataframe tbody tr th:only-of-type {\n",
       "        vertical-align: middle;\n",
       "    }\n",
       "\n",
       "    .dataframe tbody tr th {\n",
       "        vertical-align: top;\n",
       "    }\n",
       "\n",
       "    .dataframe thead th {\n",
       "        text-align: right;\n",
       "    }\n",
       "</style>\n",
       "<table border=\"1\" class=\"dataframe\">\n",
       "  <thead>\n",
       "    <tr style=\"text-align: right;\">\n",
       "      <th></th>\n",
       "      <th>purple_link</th>\n",
       "      <th>n</th>\n",
       "    </tr>\n",
       "  </thead>\n",
       "  <tbody>\n",
       "    <tr>\n",
       "      <th>2</th>\n",
       "      <td>Amused</td>\n",
       "      <td>368</td>\n",
       "    </tr>\n",
       "    <tr>\n",
       "      <th>3</th>\n",
       "      <td>Annoyed</td>\n",
       "      <td>263</td>\n",
       "    </tr>\n",
       "    <tr>\n",
       "      <th>0</th>\n",
       "      <td>Hello, old friend</td>\n",
       "      <td>1225</td>\n",
       "    </tr>\n",
       "    <tr>\n",
       "      <th>1</th>\n",
       "      <td>Indifferent</td>\n",
       "      <td>405</td>\n",
       "    </tr>\n",
       "  </tbody>\n",
       "</table>\n",
       "</div>"
      ],
      "text/plain": [
       "         purple_link     n\n",
       "2             Amused   368\n",
       "3            Annoyed   263\n",
       "0  Hello, old friend  1225\n",
       "1        Indifferent   405"
      ]
     },
     "execution_count": 22,
     "metadata": {},
     "output_type": "execute_result"
    }
   ],
   "source": [
    "purple_link_counts = purple_link_counts.rename_axis('purple_link').\\\n",
    "                                        reset_index(name='n').\\\n",
    "                                        sort_values('purple_link')\n",
    "\n",
    "purple_link_counts"
   ]
  },
  {
   "cell_type": "code",
   "execution_count": 23,
   "id": "2ff8ce5e-43ae-43b7-8279-343925849331",
   "metadata": {},
   "outputs": [
    {
     "data": {
      "text/html": [
       "<div>\n",
       "<style scoped>\n",
       "    .dataframe tbody tr th:only-of-type {\n",
       "        vertical-align: middle;\n",
       "    }\n",
       "\n",
       "    .dataframe tbody tr th {\n",
       "        vertical-align: top;\n",
       "    }\n",
       "\n",
       "    .dataframe thead th {\n",
       "        text-align: right;\n",
       "    }\n",
       "</style>\n",
       "<table border=\"1\" class=\"dataframe\">\n",
       "  <thead>\n",
       "    <tr style=\"text-align: right;\">\n",
       "      <th></th>\n",
       "      <th>purple_link</th>\n",
       "      <th>prop</th>\n",
       "    </tr>\n",
       "  </thead>\n",
       "  <tbody>\n",
       "    <tr>\n",
       "      <th>0</th>\n",
       "      <td>Amused</td>\n",
       "      <td>0.166667</td>\n",
       "    </tr>\n",
       "    <tr>\n",
       "      <th>1</th>\n",
       "      <td>Annoyed</td>\n",
       "      <td>0.166667</td>\n",
       "    </tr>\n",
       "    <tr>\n",
       "      <th>2</th>\n",
       "      <td>Hello, old friend</td>\n",
       "      <td>0.500000</td>\n",
       "    </tr>\n",
       "    <tr>\n",
       "      <th>3</th>\n",
       "      <td>Indifferent</td>\n",
       "      <td>0.166667</td>\n",
       "    </tr>\n",
       "  </tbody>\n",
       "</table>\n",
       "</div>"
      ],
      "text/plain": [
       "         purple_link      prop\n",
       "0             Amused  0.166667\n",
       "1            Annoyed  0.166667\n",
       "2  Hello, old friend  0.500000\n",
       "3        Indifferent  0.166667"
      ]
     },
     "execution_count": 23,
     "metadata": {},
     "output_type": "execute_result"
    }
   ],
   "source": [
    "hypothesized = pd.DataFrame({\n",
    "    'purple_link' : ['Amused', 'Annoyed', 'Hello, old friend', 'Indifferent'],\n",
    "    'prop' : [1/6, 1/6, 1/2, 1/6]\n",
    "}\n",
    ")\n",
    "hypothesized"
   ]
  },
  {
   "cell_type": "code",
   "execution_count": 24,
   "id": "5bc8991d-8b6a-467f-bd1f-8271892cf932",
   "metadata": {},
   "outputs": [
    {
     "data": {
      "text/html": [
       "<div>\n",
       "<style scoped>\n",
       "    .dataframe tbody tr th:only-of-type {\n",
       "        vertical-align: middle;\n",
       "    }\n",
       "\n",
       "    .dataframe tbody tr th {\n",
       "        vertical-align: top;\n",
       "    }\n",
       "\n",
       "    .dataframe thead th {\n",
       "        text-align: right;\n",
       "    }\n",
       "</style>\n",
       "<table border=\"1\" class=\"dataframe\">\n",
       "  <thead>\n",
       "    <tr style=\"text-align: right;\">\n",
       "      <th></th>\n",
       "      <th>purple_link</th>\n",
       "      <th>prop</th>\n",
       "      <th>n</th>\n",
       "    </tr>\n",
       "  </thead>\n",
       "  <tbody>\n",
       "    <tr>\n",
       "      <th>0</th>\n",
       "      <td>Amused</td>\n",
       "      <td>0.166667</td>\n",
       "      <td>376.833333</td>\n",
       "    </tr>\n",
       "    <tr>\n",
       "      <th>1</th>\n",
       "      <td>Annoyed</td>\n",
       "      <td>0.166667</td>\n",
       "      <td>376.833333</td>\n",
       "    </tr>\n",
       "    <tr>\n",
       "      <th>2</th>\n",
       "      <td>Hello, old friend</td>\n",
       "      <td>0.500000</td>\n",
       "      <td>1130.500000</td>\n",
       "    </tr>\n",
       "    <tr>\n",
       "      <th>3</th>\n",
       "      <td>Indifferent</td>\n",
       "      <td>0.166667</td>\n",
       "      <td>376.833333</td>\n",
       "    </tr>\n",
       "  </tbody>\n",
       "</table>\n",
       "</div>"
      ],
      "text/plain": [
       "         purple_link      prop            n\n",
       "0             Amused  0.166667   376.833333\n",
       "1            Annoyed  0.166667   376.833333\n",
       "2  Hello, old friend  0.500000  1130.500000\n",
       "3        Indifferent  0.166667   376.833333"
      ]
     },
     "execution_count": 24,
     "metadata": {},
     "output_type": "execute_result"
    }
   ],
   "source": [
    "#  Kategoriye göre varsayılan sayılar\n",
    "# Purple_link dağılımını görselleştirmek için, \n",
    "# her bir yanıt için varsayılan sayıların bulunması yardımcı olacaktır. \n",
    "# Bu sayılar, varsayılan oranların örneklemdeki \n",
    "# toplam gözlem sayısıyla çarpılmasıyla hesaplanır.\n",
    "n_total = len(df_stck)\n",
    "hypothesized['n'] = hypothesized['prop'] * n_total\n",
    "hypothesized"
   ]
  },
  {
   "cell_type": "code",
   "execution_count": 25,
   "id": "9976ed98-4bd6-474e-aba8-60ad6261b41b",
   "metadata": {},
   "outputs": [
    {
     "data": {
      "text/plain": [
       "<matplotlib.legend.Legend at 0x1ecf9e0ee00>"
      ]
     },
     "execution_count": 25,
     "metadata": {},
     "output_type": "execute_result"
    },
    {
     "data": {
      "image/png": "[encoded data removed]",
      "text/plain": [
       "<Figure size 640x480 with 1 Axes>"
      ]
     },
     "metadata": {},
     "output_type": "display_data"
    }
   ],
   "source": [
    "import matplotlib.pyplot as plt\n",
    "\n",
    "plt.bar(purple_link_counts['purple_link'], purple_link_counts['n'], color='red', label='Observed')\n",
    "plt.bar(hypothesized['purple_link'], hypothesized['n'], alpha=0.5, color='blue', label='Hypothesized')\n",
    "plt.legend()"
   ]
  }
 ],
 "metadata": {
  "kernelspec": {
   "display_name": "Python 3 (ipykernel)",
   "language": "python",
   "name": "python3"
  },
  "language_info": {
   "codemirror_mode": {
    "name": "ipython",
    "version": 3
   },
   "file_extension": ".py",
   "mimetype": "text/x-python",
   "name": "python",
   "nbconvert_exporter": "python",
   "pygments_lexer": "ipython3",
   "version": "3.10.15"
  }
 },
 "nbformat": 4,
 "nbformat_minor": 5
}
