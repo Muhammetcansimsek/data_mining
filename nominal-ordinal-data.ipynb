{
 "cells": [
  {
   "cell_type": "code",
   "execution_count": 1,
   "id": "1a4867cc-170d-4551-89a0-1b02cec6cc28",
   "metadata": {},
   "outputs": [],
   "source": [
    "import pandas as pd\n",
    "import numpy as np"
   ]
  },
  {
   "cell_type": "code",
   "execution_count": 2,
   "id": "2b556775-9f45-4cee-b26f-9a3b9352bc7b",
   "metadata": {},
   "outputs": [
    {
     "data": {
      "text/html": [
       "<div>\n",
       "<style scoped>\n",
       "    .dataframe tbody tr th:only-of-type {\n",
       "        vertical-align: middle;\n",
       "    }\n",
       "\n",
       "    .dataframe tbody tr th {\n",
       "        vertical-align: top;\n",
       "    }\n",
       "\n",
       "    .dataframe thead th {\n",
       "        text-align: right;\n",
       "    }\n",
       "</style>\n",
       "<table border=\"1\" class=\"dataframe\">\n",
       "  <thead>\n",
       "    <tr style=\"text-align: right;\">\n",
       "      <th></th>\n",
       "      <th>isim</th>\n",
       "      <th>yaş</th>\n",
       "      <th>eğitim_düzeyi</th>\n",
       "      <th>medeni_durum</th>\n",
       "      <th>memnuniyet_düzeyi</th>\n",
       "    </tr>\n",
       "  </thead>\n",
       "  <tbody>\n",
       "    <tr>\n",
       "      <th>0</th>\n",
       "      <td>Ali</td>\n",
       "      <td>25</td>\n",
       "      <td>Lise</td>\n",
       "      <td>Bekar</td>\n",
       "      <td>Orta</td>\n",
       "    </tr>\n",
       "    <tr>\n",
       "      <th>1</th>\n",
       "      <td>Ayşe</td>\n",
       "      <td>30</td>\n",
       "      <td>Üniversite</td>\n",
       "      <td>Evli</td>\n",
       "      <td>Yüksek</td>\n",
       "    </tr>\n",
       "    <tr>\n",
       "      <th>2</th>\n",
       "      <td>Mehmet</td>\n",
       "      <td>35</td>\n",
       "      <td>Yüksek Lisans</td>\n",
       "      <td>Evli</td>\n",
       "      <td>Düşük</td>\n",
       "    </tr>\n",
       "    <tr>\n",
       "      <th>3</th>\n",
       "      <td>Fatma</td>\n",
       "      <td>28</td>\n",
       "      <td>Üniversite</td>\n",
       "      <td>Bekar</td>\n",
       "      <td>Yüksek</td>\n",
       "    </tr>\n",
       "    <tr>\n",
       "      <th>4</th>\n",
       "      <td>Ahmet</td>\n",
       "      <td>32</td>\n",
       "      <td>Doktora</td>\n",
       "      <td>Evli</td>\n",
       "      <td>Orta</td>\n",
       "    </tr>\n",
       "  </tbody>\n",
       "</table>\n",
       "</div>"
      ],
      "text/plain": [
       "     isim  yaş  eğitim_düzeyi medeni_durum memnuniyet_düzeyi\n",
       "0     Ali   25           Lise        Bekar              Orta\n",
       "1    Ayşe   30     Üniversite         Evli            Yüksek\n",
       "2  Mehmet   35  Yüksek Lisans         Evli             Düşük\n",
       "3   Fatma   28     Üniversite        Bekar            Yüksek\n",
       "4   Ahmet   32        Doktora         Evli              Orta"
      ]
     },
     "execution_count": 2,
     "metadata": {},
     "output_type": "execute_result"
    }
   ],
   "source": [
    "data = {'isim': ['Ali', 'Ayşe', 'Mehmet', 'Fatma', 'Ahmet'],\n",
    "        'yaş': [25, 30, 35, 28, 32],\n",
    "        'eğitim_düzeyi':['Lise', 'Üniversite', 'Yüksek Lisans', 'Üniversite', 'Doktora'],\n",
    "        'medeni_durum':['Bekar', 'Evli', 'Evli', 'Bekar', 'Evli'],\n",
    "        'memnuniyet_düzeyi':['Orta', 'Yüksek', 'Düşük', 'Yüksek', 'Orta']\n",
    "       }\n",
    "df = pd.DataFrame(data)\n",
    "df"
   ]
  },
  {
   "cell_type": "markdown",
   "id": "ebcc7b88-878f-4966-b3d9-b0047ef8c7f2",
   "metadata": {},
   "source": [
    "- 'isim' ve 'medeni_durum' nominal verilerdir\n",
    "- 'eğitim_düzeyi' ve 'mezuniyet_düzeyi' ordinal verilerdir.\n",
    "Şimdi, nominal ve ordinal verileri işlemeye yönelik bazı örnekler gösterelim.\n",
    "1. Kategorik verilere dönüştürme:"
   ]
  },
  {
   "cell_type": "code",
   "execution_count": 3,
   "id": "194ca07e-4034-4686-a47b-9486822a5f17",
   "metadata": {},
   "outputs": [],
   "source": [
    "# Nominal veriyi dönüştürme(one-hot encoding)\n",
    "df_encoded = pd.get_dummies(df, columns=['medeni_durum'])\n",
    "\n",
    "# Ordinal veriyi dönüştürme\n",
    "egitim_siralama = {'Lise':1, 'Üniversite':2, 'Yüksek Lisans':3, 'Doktora':4}\n",
    "df['egitim_sira'] = df['eğitim_düzeyi'].map(egitim_siralama)"
   ]
  },
  {
   "cell_type": "code",
   "execution_count": 4,
   "id": "1065cbad-a625-4069-8539-435c958356f1",
   "metadata": {},
   "outputs": [
    {
     "data": {
      "text/html": [
       "<div>\n",
       "<style scoped>\n",
       "    .dataframe tbody tr th:only-of-type {\n",
       "        vertical-align: middle;\n",
       "    }\n",
       "\n",
       "    .dataframe tbody tr th {\n",
       "        vertical-align: top;\n",
       "    }\n",
       "\n",
       "    .dataframe thead th {\n",
       "        text-align: right;\n",
       "    }\n",
       "</style>\n",
       "<table border=\"1\" class=\"dataframe\">\n",
       "  <thead>\n",
       "    <tr style=\"text-align: right;\">\n",
       "      <th></th>\n",
       "      <th>isim</th>\n",
       "      <th>yaş</th>\n",
       "      <th>eğitim_düzeyi</th>\n",
       "      <th>memnuniyet_düzeyi</th>\n",
       "      <th>medeni_durum_Bekar</th>\n",
       "      <th>medeni_durum_Evli</th>\n",
       "    </tr>\n",
       "  </thead>\n",
       "  <tbody>\n",
       "    <tr>\n",
       "      <th>0</th>\n",
       "      <td>Ali</td>\n",
       "      <td>25</td>\n",
       "      <td>Lise</td>\n",
       "      <td>Orta</td>\n",
       "      <td>True</td>\n",
       "      <td>False</td>\n",
       "    </tr>\n",
       "    <tr>\n",
       "      <th>1</th>\n",
       "      <td>Ayşe</td>\n",
       "      <td>30</td>\n",
       "      <td>Üniversite</td>\n",
       "      <td>Yüksek</td>\n",
       "      <td>False</td>\n",
       "      <td>True</td>\n",
       "    </tr>\n",
       "    <tr>\n",
       "      <th>2</th>\n",
       "      <td>Mehmet</td>\n",
       "      <td>35</td>\n",
       "      <td>Yüksek Lisans</td>\n",
       "      <td>Düşük</td>\n",
       "      <td>False</td>\n",
       "      <td>True</td>\n",
       "    </tr>\n",
       "    <tr>\n",
       "      <th>3</th>\n",
       "      <td>Fatma</td>\n",
       "      <td>28</td>\n",
       "      <td>Üniversite</td>\n",
       "      <td>Yüksek</td>\n",
       "      <td>True</td>\n",
       "      <td>False</td>\n",
       "    </tr>\n",
       "    <tr>\n",
       "      <th>4</th>\n",
       "      <td>Ahmet</td>\n",
       "      <td>32</td>\n",
       "      <td>Doktora</td>\n",
       "      <td>Orta</td>\n",
       "      <td>False</td>\n",
       "      <td>True</td>\n",
       "    </tr>\n",
       "  </tbody>\n",
       "</table>\n",
       "</div>"
      ],
      "text/plain": [
       "     isim  yaş  eğitim_düzeyi memnuniyet_düzeyi  medeni_durum_Bekar  \\\n",
       "0     Ali   25           Lise              Orta                True   \n",
       "1    Ayşe   30     Üniversite            Yüksek               False   \n",
       "2  Mehmet   35  Yüksek Lisans             Düşük               False   \n",
       "3   Fatma   28     Üniversite            Yüksek                True   \n",
       "4   Ahmet   32        Doktora              Orta               False   \n",
       "\n",
       "   medeni_durum_Evli  \n",
       "0              False  \n",
       "1               True  \n",
       "2               True  \n",
       "3              False  \n",
       "4               True  "
      ]
     },
     "execution_count": 4,
     "metadata": {},
     "output_type": "execute_result"
    }
   ],
   "source": [
    "df_encoded"
   ]
  },
  {
   "cell_type": "code",
   "execution_count": 5,
   "id": "80d4b357-f1f0-47be-a920-7f58e6ffd729",
   "metadata": {},
   "outputs": [
    {
     "data": {
      "text/html": [
       "<div>\n",
       "<style scoped>\n",
       "    .dataframe tbody tr th:only-of-type {\n",
       "        vertical-align: middle;\n",
       "    }\n",
       "\n",
       "    .dataframe tbody tr th {\n",
       "        vertical-align: top;\n",
       "    }\n",
       "\n",
       "    .dataframe thead th {\n",
       "        text-align: right;\n",
       "    }\n",
       "</style>\n",
       "<table border=\"1\" class=\"dataframe\">\n",
       "  <thead>\n",
       "    <tr style=\"text-align: right;\">\n",
       "      <th></th>\n",
       "      <th>isim</th>\n",
       "      <th>yaş</th>\n",
       "      <th>eğitim_düzeyi</th>\n",
       "      <th>medeni_durum</th>\n",
       "      <th>memnuniyet_düzeyi</th>\n",
       "      <th>egitim_sira</th>\n",
       "    </tr>\n",
       "  </thead>\n",
       "  <tbody>\n",
       "    <tr>\n",
       "      <th>0</th>\n",
       "      <td>Ali</td>\n",
       "      <td>25</td>\n",
       "      <td>Lise</td>\n",
       "      <td>Bekar</td>\n",
       "      <td>Orta</td>\n",
       "      <td>1</td>\n",
       "    </tr>\n",
       "    <tr>\n",
       "      <th>1</th>\n",
       "      <td>Ayşe</td>\n",
       "      <td>30</td>\n",
       "      <td>Üniversite</td>\n",
       "      <td>Evli</td>\n",
       "      <td>Yüksek</td>\n",
       "      <td>2</td>\n",
       "    </tr>\n",
       "    <tr>\n",
       "      <th>2</th>\n",
       "      <td>Mehmet</td>\n",
       "      <td>35</td>\n",
       "      <td>Yüksek Lisans</td>\n",
       "      <td>Evli</td>\n",
       "      <td>Düşük</td>\n",
       "      <td>3</td>\n",
       "    </tr>\n",
       "    <tr>\n",
       "      <th>3</th>\n",
       "      <td>Fatma</td>\n",
       "      <td>28</td>\n",
       "      <td>Üniversite</td>\n",
       "      <td>Bekar</td>\n",
       "      <td>Yüksek</td>\n",
       "      <td>2</td>\n",
       "    </tr>\n",
       "    <tr>\n",
       "      <th>4</th>\n",
       "      <td>Ahmet</td>\n",
       "      <td>32</td>\n",
       "      <td>Doktora</td>\n",
       "      <td>Evli</td>\n",
       "      <td>Orta</td>\n",
       "      <td>4</td>\n",
       "    </tr>\n",
       "  </tbody>\n",
       "</table>\n",
       "</div>"
      ],
      "text/plain": [
       "     isim  yaş  eğitim_düzeyi medeni_durum memnuniyet_düzeyi  egitim_sira\n",
       "0     Ali   25           Lise        Bekar              Orta            1\n",
       "1    Ayşe   30     Üniversite         Evli            Yüksek            2\n",
       "2  Mehmet   35  Yüksek Lisans         Evli             Düşük            3\n",
       "3   Fatma   28     Üniversite        Bekar            Yüksek            2\n",
       "4   Ahmet   32        Doktora         Evli              Orta            4"
      ]
     },
     "execution_count": 5,
     "metadata": {},
     "output_type": "execute_result"
    }
   ],
   "source": [
    "df"
   ]
  },
  {
   "cell_type": "code",
   "execution_count": 6,
   "id": "cd6cd33e-d189-4989-a53b-6b4bd54cd2ea",
   "metadata": {},
   "outputs": [
    {
     "name": "stdout",
     "output_type": "stream",
     "text": [
      "medeni_durum\n",
      "Evli     3\n",
      "Bekar    2\n",
      "Name: count, dtype: int64\n",
      "0    Evli\n",
      "Name: medeni_durum, dtype: object\n"
     ]
    }
   ],
   "source": [
    "# Nominal veri analizi\n",
    "print(df['medeni_durum'].value_counts())\n",
    "print(df['medeni_durum'].mode())"
   ]
  },
  {
   "cell_type": "code",
   "execution_count": 7,
   "id": "e6514330-557d-48fe-9427-d2572ecafff9",
   "metadata": {},
   "outputs": [
    {
     "name": "stdout",
     "output_type": "stream",
     "text": [
      "memnuniyet_düzeyi\n",
      "Düşük     1\n",
      "Orta      2\n",
      "Yüksek    2\n",
      "Name: count, dtype: int64\n",
      "2.0\n"
     ]
    }
   ],
   "source": [
    "# Ordinal veri analizi\n",
    "print(df['memnuniyet_düzeyi'].value_counts().sort_index())\n",
    "print(df['egitim_sira'].median())\n"
   ]
  },
  {
   "cell_type": "code",
   "execution_count": 8,
   "id": "f1e9ecb5-c20a-498b-bae0-3b888ce857ab",
   "metadata": {},
   "outputs": [
    {
     "data": {
      "image/png": "[encoded data removed]",
      "text/plain": [
       "<Figure size 640x480 with 1 Axes>"
      ]
     },
     "metadata": {},
     "output_type": "display_data"
    }
   ],
   "source": [
    "import matplotlib.pyplot as plt\n",
    "\n",
    "# Nominal veri görselleştirme\n",
    "df['medeni_durum'].value_counts().plot(kind='bar')\n",
    "plt.title('Medeni Durum Dağılımı')\n",
    "plt.show()"
   ]
  },
  {
   "cell_type": "code",
   "execution_count": 9,
   "id": "c49ad445-0020-4566-a336-df9020e37306",
   "metadata": {},
   "outputs": [
    {
     "data": {
      "image/png": "[encoded data removed]",
      "text/plain": [
       "<Figure size 640x480 with 1 Axes>"
      ]
     },
     "metadata": {},
     "output_type": "display_data"
    }
   ],
   "source": [
    "# Ordinal veri görselleştirme\n",
    "df['memnuniyet_düzeyi'].value_counts().sort_index().plot(kind='bar')\n",
    "plt.title('Memnuniyet Düzey Dağılımı')\n",
    "plt.show()"
   ]
  },
  {
   "cell_type": "markdown",
   "id": "e3b737bb-3a4c-4ae0-afda-14b25c1dff8d",
   "metadata": {},
   "source": [
    "Nominal ve Ordinal Veri Analizi - Pandas Örnekler"
   ]
  },
  {
   "cell_type": "code",
   "execution_count": 10,
   "id": "dca61e21-ff46-41d2-9efe-93659e597c83",
   "metadata": {},
   "outputs": [],
   "source": [
    "import seaborn as sns"
   ]
  },
  {
   "cell_type": "code",
   "execution_count": 11,
   "id": "f3a7d5e2-ade3-4f7f-866d-f390b9eff72f",
   "metadata": {},
   "outputs": [
    {
     "data": {
      "text/html": [
       "<div>\n",
       "<style scoped>\n",
       "    .dataframe tbody tr th:only-of-type {\n",
       "        vertical-align: middle;\n",
       "    }\n",
       "\n",
       "    .dataframe tbody tr th {\n",
       "        vertical-align: top;\n",
       "    }\n",
       "\n",
       "    .dataframe thead th {\n",
       "        text-align: right;\n",
       "    }\n",
       "</style>\n",
       "<table border=\"1\" class=\"dataframe\">\n",
       "  <thead>\n",
       "    <tr style=\"text-align: right;\">\n",
       "      <th></th>\n",
       "      <th>isim</th>\n",
       "      <th>yaş</th>\n",
       "      <th>cinsiyet</th>\n",
       "      <th>eğitim_düzeyi</th>\n",
       "      <th>medeni_durum</th>\n",
       "      <th>gelir_düzeyi</th>\n",
       "      <th>meslek</th>\n",
       "      <th>memnuniyet_puanı</th>\n",
       "    </tr>\n",
       "  </thead>\n",
       "  <tbody>\n",
       "    <tr>\n",
       "      <th>0</th>\n",
       "      <td>Ali</td>\n",
       "      <td>30</td>\n",
       "      <td>Erkek</td>\n",
       "      <td>Üniversite</td>\n",
       "      <td>Evli</td>\n",
       "      <td>Düşük</td>\n",
       "      <td>Doktor</td>\n",
       "      <td>4</td>\n",
       "    </tr>\n",
       "    <tr>\n",
       "      <th>1</th>\n",
       "      <td>Ayşe</td>\n",
       "      <td>46</td>\n",
       "      <td>Kadın</td>\n",
       "      <td>Üniversite</td>\n",
       "      <td>Boşanmış</td>\n",
       "      <td>Düşük</td>\n",
       "      <td>İşçi</td>\n",
       "      <td>4</td>\n",
       "    </tr>\n",
       "    <tr>\n",
       "      <th>2</th>\n",
       "      <td>Mehmet</td>\n",
       "      <td>27</td>\n",
       "      <td>Erkek</td>\n",
       "      <td>Ortaokul</td>\n",
       "      <td>Boşanmış</td>\n",
       "      <td>Orta</td>\n",
       "      <td>Yönetici</td>\n",
       "      <td>5</td>\n",
       "    </tr>\n",
       "    <tr>\n",
       "      <th>3</th>\n",
       "      <td>Fatma</td>\n",
       "      <td>20</td>\n",
       "      <td>Kadın</td>\n",
       "      <td>Lise</td>\n",
       "      <td>Evli</td>\n",
       "      <td>Düşük</td>\n",
       "      <td>Yönetici</td>\n",
       "      <td>2</td>\n",
       "    </tr>\n",
       "    <tr>\n",
       "      <th>4</th>\n",
       "      <td>Ahmet</td>\n",
       "      <td>58</td>\n",
       "      <td>Erkek</td>\n",
       "      <td>Üniversite</td>\n",
       "      <td>Bekar</td>\n",
       "      <td>Düşük</td>\n",
       "      <td>Yönetici</td>\n",
       "      <td>1</td>\n",
       "    </tr>\n",
       "    <tr>\n",
       "      <th>5</th>\n",
       "      <td>Zeynep</td>\n",
       "      <td>52</td>\n",
       "      <td>Kadın</td>\n",
       "      <td>İlkokul</td>\n",
       "      <td>Evli</td>\n",
       "      <td>Düşük</td>\n",
       "      <td>Doktor</td>\n",
       "      <td>5</td>\n",
       "    </tr>\n",
       "    <tr>\n",
       "      <th>6</th>\n",
       "      <td>Can</td>\n",
       "      <td>55</td>\n",
       "      <td>Erkek</td>\n",
       "      <td>Ortaokul</td>\n",
       "      <td>Bekar</td>\n",
       "      <td>Yüksek</td>\n",
       "      <td>Öğretmen</td>\n",
       "      <td>1</td>\n",
       "    </tr>\n",
       "    <tr>\n",
       "      <th>7</th>\n",
       "      <td>Elif</td>\n",
       "      <td>49</td>\n",
       "      <td>Kadın</td>\n",
       "      <td>Lise</td>\n",
       "      <td>Bekar</td>\n",
       "      <td>Yüksek</td>\n",
       "      <td>Mühendis</td>\n",
       "      <td>1</td>\n",
       "    </tr>\n",
       "    <tr>\n",
       "      <th>8</th>\n",
       "      <td>Ozan</td>\n",
       "      <td>26</td>\n",
       "      <td>Erkek</td>\n",
       "      <td>Ortaokul</td>\n",
       "      <td>Boşanmış</td>\n",
       "      <td>Yüksek</td>\n",
       "      <td>Öğretmen</td>\n",
       "      <td>4</td>\n",
       "    </tr>\n",
       "    <tr>\n",
       "      <th>9</th>\n",
       "      <td>Selin</td>\n",
       "      <td>59</td>\n",
       "      <td>Kadın</td>\n",
       "      <td>İlkokul</td>\n",
       "      <td>Boşanmış</td>\n",
       "      <td>Orta</td>\n",
       "      <td>Öğretmen</td>\n",
       "      <td>1</td>\n",
       "    </tr>\n",
       "  </tbody>\n",
       "</table>\n",
       "</div>"
      ],
      "text/plain": [
       "     isim  yaş cinsiyet eğitim_düzeyi medeni_durum gelir_düzeyi    meslek  \\\n",
       "0     Ali   30    Erkek    Üniversite         Evli        Düşük    Doktor   \n",
       "1    Ayşe   46    Kadın    Üniversite     Boşanmış        Düşük      İşçi   \n",
       "2  Mehmet   27    Erkek      Ortaokul     Boşanmış         Orta  Yönetici   \n",
       "3   Fatma   20    Kadın          Lise         Evli        Düşük  Yönetici   \n",
       "4   Ahmet   58    Erkek    Üniversite        Bekar        Düşük  Yönetici   \n",
       "5  Zeynep   52    Kadın       İlkokul         Evli        Düşük    Doktor   \n",
       "6     Can   55    Erkek      Ortaokul        Bekar       Yüksek  Öğretmen   \n",
       "7    Elif   49    Kadın          Lise        Bekar       Yüksek  Mühendis   \n",
       "8    Ozan   26    Erkek      Ortaokul     Boşanmış       Yüksek  Öğretmen   \n",
       "9   Selin   59    Kadın       İlkokul     Boşanmış         Orta  Öğretmen   \n",
       "\n",
       "   memnuniyet_puanı  \n",
       "0                 4  \n",
       "1                 4  \n",
       "2                 5  \n",
       "3                 2  \n",
       "4                 1  \n",
       "5                 5  \n",
       "6                 1  \n",
       "7                 1  \n",
       "8                 4  \n",
       "9                 1  "
      ]
     },
     "execution_count": 11,
     "metadata": {},
     "output_type": "execute_result"
    }
   ],
   "source": [
    "data={\n",
    "    'isim':['Ali','Ayşe','Mehmet','Fatma','Ahmet','Zeynep','Can','Elif','Ozan','Selin'],\n",
    "    'yaş':np.random.randint(20,60,10),\n",
    "    'cinsiyet':['Erkek','Kadın','Erkek','Kadın','Erkek','Kadın','Erkek','Kadın','Erkek','Kadın'],\n",
    "    'eğitim_düzeyi':np.random.choice(['İlkokul','Ortaokul','Lise','Üniversite'],10),\n",
    "    'medeni_durum':np.random.choice(['Bekar','Evli','Boşanmış'], 10),\n",
    "    'gelir_düzeyi':np.random.choice(['Düşük', 'Orta', 'Yüksek'], 10),\n",
    "    'meslek':np.random.choice(['Öğretmen','Mühendis','Doktor','İşçi','Yönetici'],10),\n",
    "    'memnuniyet_puanı':np.random.randint(1,6,10)\n",
    "}\n",
    "df = pd.DataFrame(data)\n",
    "df"
   ]
  },
  {
   "cell_type": "code",
   "execution_count": 12,
   "id": "b8dd58f8-602e-4507-b185-0bbc8997f2b9",
   "metadata": {},
   "outputs": [
    {
     "name": "stdout",
     "output_type": "stream",
     "text": [
      "isim                object\n",
      "yaş                  int32\n",
      "cinsiyet            object\n",
      "eğitim_düzeyi       object\n",
      "medeni_durum        object\n",
      "gelir_düzeyi        object\n",
      "meslek              object\n",
      "memnuniyet_puanı     int32\n",
      "dtype: object\n",
      "<class 'pandas.core.frame.DataFrame'>\n",
      "RangeIndex: 10 entries, 0 to 9\n",
      "Data columns (total 8 columns):\n",
      " #   Column            Non-Null Count  Dtype \n",
      "---  ------            --------------  ----- \n",
      " 0   isim              10 non-null     object\n",
      " 1   yaş               10 non-null     int32 \n",
      " 2   cinsiyet          10 non-null     object\n",
      " 3   eğitim_düzeyi     10 non-null     object\n",
      " 4   medeni_durum      10 non-null     object\n",
      " 5   gelir_düzeyi      10 non-null     object\n",
      " 6   meslek            10 non-null     object\n",
      " 7   memnuniyet_puanı  10 non-null     int32 \n",
      "dtypes: int32(2), object(6)\n",
      "memory usage: 692.0+ bytes\n",
      "None\n",
      "             yaş  memnuniyet_puanı\n",
      "count  10.000000          10.00000\n",
      "mean   42.200000           2.80000\n",
      "std    14.860836           1.75119\n",
      "min    20.000000           1.00000\n",
      "25%    27.750000           1.00000\n",
      "50%    47.500000           3.00000\n",
      "75%    54.250000           4.00000\n",
      "max    59.000000           5.00000\n",
      "       isim cinsiyet eğitim_düzeyi medeni_durum gelir_düzeyi    meslek\n",
      "count    10       10            10           10           10        10\n",
      "unique   10        2             4            3            3         5\n",
      "top     Ali    Erkek    Üniversite     Boşanmış        Düşük  Yönetici\n",
      "freq      1        5             3            4            5         3\n"
     ]
    }
   ],
   "source": [
    "# Veri tiplerini kontrol etme\n",
    "print(df.dtypes)\n",
    "\n",
    "# Veri seti hakkında genel bilgi\n",
    "print(df.info())\n",
    "\n",
    "# Betimsel istatistikler\n",
    "print(df.describe())\n",
    "\n",
    "# Kategorik sütunlar için betimsel istatistikler\n",
    "print(df.describe(include=['object']))"
   ]
  },
  {
   "cell_type": "markdown",
   "id": "249952c6-fd6e-4df3-a715-bea1318727d7",
   "metadata": {},
   "source": [
    "3.Nominal Veri Analizi\n",
    "\n",
    "3.1 Frekans(Sıklık) Analizi"
   ]
  },
  {
   "cell_type": "code",
   "execution_count": 13,
   "id": "0c6004f6-45af-4069-91bd-eeadc4958f66",
   "metadata": {},
   "outputs": [
    {
     "name": "stdout",
     "output_type": "stream",
     "text": [
      "cinsiyet\n",
      "Erkek    5\n",
      "Kadın    5\n",
      "Name: count, dtype: int64\n",
      "meslek\n",
      "Yönetici    3\n",
      "Öğretmen    3\n",
      "Doktor      2\n",
      "İşçi        1\n",
      "Mühendis    1\n",
      "Name: count, dtype: int64\n",
      "medeni_durum\n",
      "Boşanmış    40.0\n",
      "Evli        30.0\n",
      "Bekar       30.0\n",
      "Name: proportion, dtype: float64\n"
     ]
    }
   ],
   "source": [
    "#Cinsiyet Dağılımı\n",
    "print(df['cinsiyet'].value_counts())\n",
    "\n",
    "#Meslek Dağılımı\n",
    "print(df['meslek'].value_counts())\n",
    "\n",
    "#Yüzdelik Dağılım\n",
    "print(df['medeni_durum'].value_counts(normalize=True)*100)"
   ]
  },
  {
   "cell_type": "markdown",
   "id": "04346be6-4f19-428f-ad66-b5c8bcf7896a",
   "metadata": {},
   "source": [
    "3.2 Çapraz Tablolama"
   ]
  },
  {
   "cell_type": "code",
   "execution_count": 14,
   "id": "2c0698da-038c-418c-a0d5-22864a441a06",
   "metadata": {},
   "outputs": [
    {
     "name": "stdout",
     "output_type": "stream",
     "text": [
      "medeni_durum  Bekar  Boşanmış  Evli\n",
      "cinsiyet                           \n",
      "Erkek             2         2     1\n",
      "Kadın             1         2     2\n"
     ]
    }
   ],
   "source": [
    "#Cinsiyet ve medeni durum çapraz tablosu\n",
    "print(pd.crosstab(df['cinsiyet'], df['medeni_durum']))"
   ]
  },
  {
   "cell_type": "code",
   "execution_count": 15,
   "id": "1a9a7583-eafd-4cb8-bfb9-6febfcfa319a",
   "metadata": {},
   "outputs": [
    {
     "name": "stdout",
     "output_type": "stream",
     "text": [
      "gelir_düzeyi  Düşük  Orta  Yüksek\n",
      "meslek                           \n",
      "Doktor            2     0       0\n",
      "Mühendis          0     0       1\n",
      "Yönetici          2     1       0\n",
      "Öğretmen          0     1       2\n",
      "İşçi              1     0       0\n"
     ]
    }
   ],
   "source": [
    "#Meslek ve gelir düzeyi çapraz tablosu\n",
    "print(pd.crosstab(df['meslek'], df['gelir_düzeyi']))"
   ]
  },
  {
   "cell_type": "markdown",
   "id": "e77b9ed5-7be7-47a0-8708-252a75ba76cc",
   "metadata": {},
   "source": [
    "3.3 Görselleştirme"
   ]
  },
  {
   "cell_type": "code",
   "execution_count": 16,
   "id": "0d48f7c4-ffdb-4b0b-9af2-3264e78b0ffa",
   "metadata": {},
   "outputs": [
    {
     "data": {
      "image/png": "[encoded data removed]",
      "text/plain": [
       "<Figure size 640x480 with 1 Axes>"
      ]
     },
     "metadata": {},
     "output_type": "display_data"
    }
   ],
   "source": [
    "#Pasta Grafiği\n",
    "df['cinsiyet'].value_counts().plot(kind='pie', autopct='%1.1f%%')\n",
    "plt.title('Cinsiyet Dağılımı')\n",
    "plt.show()"
   ]
  },
  {
   "cell_type": "code",
   "execution_count": 17,
   "id": "ef4d6264-a295-44a7-9a9d-73d6268e9479",
   "metadata": {},
   "outputs": [
    {
     "data": {
      "image/png": "[encoded data removed]",
      "text/plain": [
       "<Figure size 640x480 with 1 Axes>"
      ]
     },
     "metadata": {},
     "output_type": "display_data"
    }
   ],
   "source": [
    "#Çubuk Grafiği\n",
    "df['meslek'].value_counts().plot(kind='bar')\n",
    "plt.title('Meslek Dağılımı')\n",
    "plt.xlabel('Meslek')\n",
    "plt.ylabel('Kişi Sayısı')\n",
    "plt.show()"
   ]
  },
  {
   "cell_type": "markdown",
   "id": "7bca8bbb-eb86-4e30-bd90-95b0e6fb8644",
   "metadata": {},
   "source": [
    "4. Ordinal Veri Analizi\n",
    "\n",
    "4.1. Sıralama ve Kodlama"
   ]
  },
  {
   "cell_type": "code",
   "execution_count": 18,
   "id": "5a29894a-2170-4130-97d7-2f7db7e48ced",
   "metadata": {},
   "outputs": [
    {
     "name": "stdout",
     "output_type": "stream",
     "text": [
      "  eğitim_düzeyi  eğitim_sira gelir_düzeyi  gelir_sira\n",
      "0    Üniversite            4        Düşük           1\n",
      "1    Üniversite            4        Düşük           1\n",
      "2      Ortaokul            2         Orta           2\n",
      "3          Lise            3        Düşük           1\n",
      "4    Üniversite            4        Düşük           1\n",
      "5       İlkokul            1        Düşük           1\n",
      "6      Ortaokul            2       Yüksek           3\n",
      "7          Lise            3       Yüksek           3\n",
      "8      Ortaokul            2       Yüksek           3\n",
      "9       İlkokul            1         Orta           2\n"
     ]
    }
   ],
   "source": [
    "#Eğitim düzeyi için sıralama\n",
    "egitim_siralama = {'İlkokul':1, 'Ortaokul':2, 'Lise':3, 'Üniversite':4}\n",
    "df['eğitim_sira'] = df['eğitim_düzeyi'].map(egitim_siralama)\n",
    "\n",
    "#Gelir düzeyi için sıralama\n",
    "gelir_siralama = {'Düşük':1, 'Orta':2, 'Yüksek':3}\n",
    "df['gelir_sira'] = df['gelir_düzeyi'].map(gelir_siralama)\n",
    "print(df[['eğitim_düzeyi', 'eğitim_sira', 'gelir_düzeyi', 'gelir_sira']])"
   ]
  },
  {
   "cell_type": "markdown",
   "id": "eeb984c1-9ff0-43a3-a9bf-32a25d8da494",
   "metadata": {},
   "source": [
    "4.2 İstatistiksel Analizler"
   ]
  },
  {
   "cell_type": "code",
   "execution_count": 19,
   "id": "9e95bb07-0ae0-48f7-8e86-2f09e365839e",
   "metadata": {},
   "outputs": [
    {
     "name": "stdout",
     "output_type": "stream",
     "text": [
      "Eğitim düzeyi medyanı: 2.5\n",
      "Gelir düzeyi modu: 1\n",
      "Ortalamam memnuniyet puanı: 2.8\n"
     ]
    }
   ],
   "source": [
    "#Eğitim düzeyi medyanı(ortanca değeri)\n",
    "print(\"Eğitim düzeyi medyanı:\", df['eğitim_sira'].median())\n",
    "\n",
    "#Gelir düzeyi modu\n",
    "print(\"Gelir düzeyi modu:\", df['gelir_sira'].mode()[0])\n",
    "\n",
    "#Memnuniyet puanı ortalaması\n",
    "print(\"Ortalamam memnuniyet puanı:\", df['memnuniyet_puanı'].mean())"
   ]
  },
  {
   "cell_type": "markdown",
   "id": "68b62854-0e5c-4f48-8c43-7e56cddd5691",
   "metadata": {},
   "source": [
    "4.3 Korelasyon Analizi"
   ]
  },
  {
   "cell_type": "code",
   "execution_count": 20,
   "id": "b9c92469-eff4-4bce-ac35-d2cfe7d00351",
   "metadata": {},
   "outputs": [
    {
     "name": "stdout",
     "output_type": "stream",
     "text": [
      "                       yaş  eğitim_sira  gelir_sira  memnuniyet_puanı\n",
      "yaş               1.000000    -0.218857    0.052636         -0.546652\n",
      "eğitim_sira      -0.218857     1.000000   -0.424278         -0.147561\n",
      "gelir_sira        0.052636    -0.424278    1.000000         -0.324331\n",
      "memnuniyet_puanı -0.546652    -0.147561   -0.324331          1.000000\n"
     ]
    }
   ],
   "source": [
    "#Spearman korelasyonu\n",
    "correlation = df[['yaş', 'eğitim_sira', 'gelir_sira', 'memnuniyet_puanı']].corr(method='spearman')\n",
    "print(correlation)"
   ]
  },
  {
   "cell_type": "code",
   "execution_count": 21,
   "id": "ebeda914-4907-477f-bc92-4e8bff848514",
   "metadata": {},
   "outputs": [
    {
     "data": {
      "image/png": "[encoded data removed]",
      "text/plain": [
       "<Figure size 640x480 with 2 Axes>"
      ]
     },
     "metadata": {},
     "output_type": "display_data"
    }
   ],
   "source": [
    "#Korelasyon ısı haritası\n",
    "sns.heatmap(correlation, annot=True, cmap='coolwarm')\n",
    "plt.title('Korelasyon Isı Haritası')\n",
    "plt.show()"
   ]
  },
  {
   "cell_type": "markdown",
   "id": "e06f9992-2658-4980-97d9-5df7eb4ed4bf",
   "metadata": {},
   "source": [
    "5.Veri Manipülasyonu\n",
    "\n",
    "5.1 Kategori Birleştirme"
   ]
  },
  {
   "cell_type": "code",
   "execution_count": 22,
   "id": "6432cdde-5428-4649-b01c-50c8e2e5615a",
   "metadata": {},
   "outputs": [
    {
     "name": "stdout",
     "output_type": "stream",
     "text": [
      "     isim  yaş cinsiyet eğitim_düzeyi medeni_durum gelir_düzeyi    meslek  \\\n",
      "0     Ali   30    Erkek    Üniversite         Evli        Düşük    Doktor   \n",
      "1    Ayşe   46    Kadın    Üniversite     Boşanmış        Düşük      İşçi   \n",
      "2  Mehmet   27    Erkek      Ortaokul     Boşanmış         Orta  Yönetici   \n",
      "3   Fatma   20    Kadın          Lise         Evli        Düşük  Yönetici   \n",
      "4   Ahmet   58    Erkek    Üniversite        Bekar        Düşük  Yönetici   \n",
      "5  Zeynep   52    Kadın       İlkokul         Evli        Düşük    Doktor   \n",
      "6     Can   55    Erkek      Ortaokul        Bekar       Yüksek  Öğretmen   \n",
      "7    Elif   49    Kadın          Lise        Bekar       Yüksek  Mühendis   \n",
      "8    Ozan   26    Erkek      Ortaokul     Boşanmış       Yüksek  Öğretmen   \n",
      "9   Selin   59    Kadın       İlkokul     Boşanmış         Orta  Öğretmen   \n",
      "\n",
      "   memnuniyet_puanı  eğitim_sira  gelir_sira    egitim_grup  \n",
      "0                 4            4           1  Yükseköğretim  \n",
      "1                 4            4           1  Yükseköğretim  \n",
      "2                 5            2           2     İlköğretim  \n",
      "3                 2            3           1    Ortaöğretim  \n",
      "4                 1            4           1  Yükseköğretim  \n",
      "5                 5            1           1     İlköğretim  \n",
      "6                 1            2           3     İlköğretim  \n",
      "7                 1            3           3    Ortaöğretim  \n",
      "8                 4            2           3     İlköğretim  \n",
      "9                 1            1           2     İlköğretim  \n"
     ]
    }
   ],
   "source": [
    "#Eğitim düzeylerini gruplandırma\n",
    "def grup_egitim(egitim):\n",
    "    if egitim in ['İlkokul', 'Ortaokul']:\n",
    "        return 'İlköğretim'\n",
    "    elif egitim in ['Lise']:\n",
    "        return 'Ortaöğretim'\n",
    "    elif egitim in ['Üniversite']:\n",
    "        return 'Yükseköğretim'\n",
    "\n",
    "df['egitim_grup'] = df['eğitim_düzeyi'].apply(grup_egitim)\n",
    "print(df)"
   ]
  },
  {
   "cell_type": "markdown",
   "id": "b4894cd2-1814-408e-867f-736781add30d",
   "metadata": {},
   "source": [
    "5.2 Dummy Değişken Oluşturma"
   ]
  },
  {
   "cell_type": "code",
   "execution_count": 23,
   "id": "8599bdb9-4977-4e7f-a5ec-f933e385daf0",
   "metadata": {},
   "outputs": [
    {
     "name": "stdout",
     "output_type": "stream",
     "text": [
      "     isim  yaş cinsiyet eğitim_düzeyi medeni_durum gelir_düzeyi    meslek  \\\n",
      "0     Ali   30    Erkek    Üniversite         Evli        Düşük    Doktor   \n",
      "1    Ayşe   46    Kadın    Üniversite     Boşanmış        Düşük      İşçi   \n",
      "2  Mehmet   27    Erkek      Ortaokul     Boşanmış         Orta  Yönetici   \n",
      "3   Fatma   20    Kadın          Lise         Evli        Düşük  Yönetici   \n",
      "4   Ahmet   58    Erkek    Üniversite        Bekar        Düşük  Yönetici   \n",
      "\n",
      "   memnuniyet_puanı  eğitim_sira  gelir_sira    egitim_grup  meslek_Doktor  \\\n",
      "0                 4            4           1  Yükseköğretim           True   \n",
      "1                 4            4           1  Yükseköğretim          False   \n",
      "2                 5            2           2     İlköğretim          False   \n",
      "3                 2            3           1    Ortaöğretim          False   \n",
      "4                 1            4           1  Yükseköğretim          False   \n",
      "\n",
      "   meslek_Mühendis  meslek_Yönetici  meslek_Öğretmen  meslek_İşçi  \n",
      "0            False            False            False        False  \n",
      "1            False            False            False         True  \n",
      "2            False             True            False        False  \n",
      "3            False             True            False        False  \n",
      "4            False             True            False        False  \n"
     ]
    }
   ],
   "source": [
    "#Meslek için dummy değişkenler\n",
    "meslek_dummies = pd.get_dummies(df['meslek'], prefix='meslek')\n",
    "df = pd.concat([df, meslek_dummies], axis=1)\n",
    "print(df.head())"
   ]
  },
  {
   "cell_type": "markdown",
   "id": "bf3d3ee1-a125-42d8-ab68-2d48fe51da6d",
   "metadata": {},
   "source": [
    "6. İleri Analiz\n",
    "\n",
    "6.1 Gruplandırma ve Agregasyon"
   ]
  },
  {
   "cell_type": "code",
   "execution_count": 24,
   "id": "3e55584f-c676-4e0d-98d9-0bbde3ff878d",
   "metadata": {},
   "outputs": [
    {
     "name": "stdout",
     "output_type": "stream",
     "text": [
      "           yaş  memnuniyet_puanı\n",
      "cinsiyet                        \n",
      "Erkek     39.2               3.0\n",
      "Kadın     45.2               2.6\n"
     ]
    }
   ],
   "source": [
    "#Cinsiyete göre yaş ve memnuniyet puanı ortalaması\n",
    "print(df.groupby('cinsiyet')[['yaş', 'memnuniyet_puanı']].mean())"
   ]
  },
  {
   "cell_type": "code",
   "execution_count": 25,
   "id": "ed0d9e68-4169-4aab-9b5f-474b57135f52",
   "metadata": {},
   "outputs": [
    {
     "name": "stdout",
     "output_type": "stream",
     "text": [
      "gelir_düzeyi   Düşük       Orta     Yüksek\n",
      "eğitim_düzeyi                             \n",
      "Lise            50.0   0.000000  50.000000\n",
      "Ortaokul         0.0  33.333333  66.666667\n",
      "Üniversite     100.0   0.000000   0.000000\n",
      "İlkokul         50.0  50.000000   0.000000\n"
     ]
    }
   ],
   "source": [
    "# Eğitim düzeyine göre gelir düzeyi dağılımı\n",
    "print(pd.crosstab(df['eğitim_düzeyi'], df['gelir_düzeyi'], normalize='index')*100)"
   ]
  },
  {
   "cell_type": "markdown",
   "id": "5733c6df-d8d8-4042-9ad8-a1d618c33e32",
   "metadata": {},
   "source": [
    "7. Veri Filtreleme ve Koşullu Seçilim"
   ]
  },
  {
   "cell_type": "code",
   "execution_count": 26,
   "id": "9f46dd1c-61ba-4835-8d87-dc5c581f8ddf",
   "metadata": {},
   "outputs": [
    {
     "name": "stdout",
     "output_type": "stream",
     "text": [
      "     isim  memnuniyet_puanı\n",
      "0     Ali                 4\n",
      "1    Ayşe                 4\n",
      "2  Mehmet                 5\n",
      "5  Zeynep                 5\n",
      "8    Ozan                 4\n",
      "   isim eğitim_düzeyi\n",
      "1  Ayşe    Üniversite\n"
     ]
    }
   ],
   "source": [
    "#Yüksek memnuniyet puanına sahip kişiler\n",
    "yuksek_memnuniyet = df[df['memnuniyet_puanı'] > 3]\n",
    "print(yuksek_memnuniyet[['isim', 'memnuniyet_puanı']])\n",
    "\n",
    "#Eğitim düzeyi üniversite ve üzeri olan kadınlar\n",
    "egitimli_kadinlar = df[(df['cinsiyet'] == 'Kadın') & (df['eğitim_sira'] >= 4)]\n",
    "print(egitimli_kadinlar[['isim', 'eğitim_düzeyi']])"
   ]
  },
  {
   "cell_type": "code",
   "execution_count": null,
   "id": "9983af7d-95be-4fcb-a696-29f4d9ecc6eb",
   "metadata": {},
   "outputs": [],
   "source": []
  }
 ],
 "metadata": {
  "kernelspec": {
   "display_name": "Python 3 (ipykernel)",
   "language": "python",
   "name": "python3"
  },
  "language_info": {
   "codemirror_mode": {
    "name": "ipython",
    "version": 3
   },
   "file_extension": ".py",
   "mimetype": "text/x-python",
   "name": "python",
   "nbconvert_exporter": "python",
   "pygments_lexer": "ipython3",
   "version": "3.12.4"
  }
 },
 "nbformat": 4,
 "nbformat_minor": 5
}
