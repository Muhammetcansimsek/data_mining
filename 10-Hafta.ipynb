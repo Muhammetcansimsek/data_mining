{
 "cells": [
  {
   "cell_type": "markdown",
   "id": "039ffb68-9934-45b3-8dc7-2be0621ef7af",
   "metadata": {},
   "source": [
    "### Bootstrapping"
   ]
  },
  {
   "cell_type": "markdown",
   "id": "20f645cc-86b9-4dff-9ba2-031a5415debd",
   "metadata": {},
   "source": [
    "https://medium.com/machine-learning-t%C3%BCrkiye/streamlit-ile-web-uygulamalar%C4%B1na-giri%C5%9F-7093e749973f"
   ]
  },
  {
   "cell_type": "markdown",
   "id": "77a85353-dd16-41f0-b268-852295ffcb07",
   "metadata": {},
   "source": [
    "- Yerine koyarak örnekleme"
   ]
  },
  {
   "cell_type": "code",
   "execution_count": 1,
   "id": "d62cb798-f09e-4a28-9aba-be9f14457bdd",
   "metadata": {},
   "outputs": [
    {
     "data": {
      "text/html": [
       "<div>\n",
       "<style scoped>\n",
       "    .dataframe tbody tr th:only-of-type {\n",
       "        vertical-align: middle;\n",
       "    }\n",
       "\n",
       "    .dataframe tbody tr th {\n",
       "        vertical-align: top;\n",
       "    }\n",
       "\n",
       "    .dataframe thead th {\n",
       "        text-align: right;\n",
       "    }\n",
       "</style>\n",
       "<table border=\"1\" class=\"dataframe\">\n",
       "  <thead>\n",
       "    <tr style=\"text-align: right;\">\n",
       "      <th></th>\n",
       "      <th>index</th>\n",
       "      <th>variety</th>\n",
       "      <th>country_of_origin</th>\n",
       "      <th>flavor</th>\n",
       "    </tr>\n",
       "  </thead>\n",
       "  <tbody>\n",
       "    <tr>\n",
       "      <th>0</th>\n",
       "      <td>0</td>\n",
       "      <td>None</td>\n",
       "      <td>Ethiopia</td>\n",
       "      <td>8.83</td>\n",
       "    </tr>\n",
       "    <tr>\n",
       "      <th>1</th>\n",
       "      <td>1</td>\n",
       "      <td>Other</td>\n",
       "      <td>Ethiopia</td>\n",
       "      <td>8.67</td>\n",
       "    </tr>\n",
       "    <tr>\n",
       "      <th>2</th>\n",
       "      <td>2</td>\n",
       "      <td>Bourbon</td>\n",
       "      <td>Guatemala</td>\n",
       "      <td>8.50</td>\n",
       "    </tr>\n",
       "    <tr>\n",
       "      <th>3</th>\n",
       "      <td>3</td>\n",
       "      <td>None</td>\n",
       "      <td>Ethiopia</td>\n",
       "      <td>8.58</td>\n",
       "    </tr>\n",
       "    <tr>\n",
       "      <th>4</th>\n",
       "      <td>4</td>\n",
       "      <td>Other</td>\n",
       "      <td>Ethiopia</td>\n",
       "      <td>8.50</td>\n",
       "    </tr>\n",
       "    <tr>\n",
       "      <th>...</th>\n",
       "      <td>...</td>\n",
       "      <td>...</td>\n",
       "      <td>...</td>\n",
       "      <td>...</td>\n",
       "    </tr>\n",
       "    <tr>\n",
       "      <th>1333</th>\n",
       "      <td>1333</td>\n",
       "      <td>None</td>\n",
       "      <td>Ecuador</td>\n",
       "      <td>7.58</td>\n",
       "    </tr>\n",
       "    <tr>\n",
       "      <th>1334</th>\n",
       "      <td>1334</td>\n",
       "      <td>None</td>\n",
       "      <td>Ecuador</td>\n",
       "      <td>7.67</td>\n",
       "    </tr>\n",
       "    <tr>\n",
       "      <th>1335</th>\n",
       "      <td>1335</td>\n",
       "      <td>None</td>\n",
       "      <td>United States</td>\n",
       "      <td>7.33</td>\n",
       "    </tr>\n",
       "    <tr>\n",
       "      <th>1336</th>\n",
       "      <td>1336</td>\n",
       "      <td>None</td>\n",
       "      <td>India</td>\n",
       "      <td>6.83</td>\n",
       "    </tr>\n",
       "    <tr>\n",
       "      <th>1337</th>\n",
       "      <td>1337</td>\n",
       "      <td>None</td>\n",
       "      <td>Vietnam</td>\n",
       "      <td>6.67</td>\n",
       "    </tr>\n",
       "  </tbody>\n",
       "</table>\n",
       "<p>1338 rows × 4 columns</p>\n",
       "</div>"
      ],
      "text/plain": [
       "      index  variety country_of_origin  flavor\n",
       "0         0     None          Ethiopia    8.83\n",
       "1         1    Other          Ethiopia    8.67\n",
       "2         2  Bourbon         Guatemala    8.50\n",
       "3         3     None          Ethiopia    8.58\n",
       "4         4    Other          Ethiopia    8.50\n",
       "...     ...      ...               ...     ...\n",
       "1333   1333     None           Ecuador    7.58\n",
       "1334   1334     None           Ecuador    7.67\n",
       "1335   1335     None     United States    7.33\n",
       "1336   1336     None             India    6.83\n",
       "1337   1337     None           Vietnam    6.67\n",
       "\n",
       "[1338 rows x 4 columns]"
      ]
     },
     "execution_count": 1,
     "metadata": {},
     "output_type": "execute_result"
    }
   ],
   "source": [
    "import pandas as pd\n",
    "df_coffee = pd.read_feather(\"resources/coffee_ratings_full.feather\")\n",
    "coffee_focus = df_coffee[['variety', 'country_of_origin', 'flavor']]\n",
    "coffee_focus = coffee_focus.reset_index()\n",
    "coffee_focus"
   ]
  },
  {
   "cell_type": "code",
   "execution_count": 2,
   "id": "487ceddb-12aa-47b9-8029-24566da58133",
   "metadata": {},
   "outputs": [
    {
     "data": {
      "text/html": [
       "<div>\n",
       "<style scoped>\n",
       "    .dataframe tbody tr th:only-of-type {\n",
       "        vertical-align: middle;\n",
       "    }\n",
       "\n",
       "    .dataframe tbody tr th {\n",
       "        vertical-align: top;\n",
       "    }\n",
       "\n",
       "    .dataframe thead th {\n",
       "        text-align: right;\n",
       "    }\n",
       "</style>\n",
       "<table border=\"1\" class=\"dataframe\">\n",
       "  <thead>\n",
       "    <tr style=\"text-align: right;\">\n",
       "      <th></th>\n",
       "      <th>index</th>\n",
       "      <th>variety</th>\n",
       "      <th>country_of_origin</th>\n",
       "      <th>flavor</th>\n",
       "    </tr>\n",
       "  </thead>\n",
       "  <tbody>\n",
       "    <tr>\n",
       "      <th>460</th>\n",
       "      <td>460</td>\n",
       "      <td>Catuai</td>\n",
       "      <td>Guatemala</td>\n",
       "      <td>7.83</td>\n",
       "    </tr>\n",
       "    <tr>\n",
       "      <th>1137</th>\n",
       "      <td>1137</td>\n",
       "      <td>Mundo Novo</td>\n",
       "      <td>Mexico</td>\n",
       "      <td>7.33</td>\n",
       "    </tr>\n",
       "    <tr>\n",
       "      <th>1243</th>\n",
       "      <td>1243</td>\n",
       "      <td>Caturra</td>\n",
       "      <td>Costa Rica</td>\n",
       "      <td>7.25</td>\n",
       "    </tr>\n",
       "    <tr>\n",
       "      <th>299</th>\n",
       "      <td>299</td>\n",
       "      <td>None</td>\n",
       "      <td>Colombia</td>\n",
       "      <td>7.75</td>\n",
       "    </tr>\n",
       "    <tr>\n",
       "      <th>1337</th>\n",
       "      <td>1337</td>\n",
       "      <td>None</td>\n",
       "      <td>Vietnam</td>\n",
       "      <td>6.67</td>\n",
       "    </tr>\n",
       "    <tr>\n",
       "      <th>...</th>\n",
       "      <td>...</td>\n",
       "      <td>...</td>\n",
       "      <td>...</td>\n",
       "      <td>...</td>\n",
       "    </tr>\n",
       "    <tr>\n",
       "      <th>729</th>\n",
       "      <td>729</td>\n",
       "      <td>Bourbon</td>\n",
       "      <td>Guatemala</td>\n",
       "      <td>7.67</td>\n",
       "    </tr>\n",
       "    <tr>\n",
       "      <th>775</th>\n",
       "      <td>775</td>\n",
       "      <td>Typica</td>\n",
       "      <td>Mexico</td>\n",
       "      <td>7.67</td>\n",
       "    </tr>\n",
       "    <tr>\n",
       "      <th>824</th>\n",
       "      <td>824</td>\n",
       "      <td>None</td>\n",
       "      <td>Honduras</td>\n",
       "      <td>7.33</td>\n",
       "    </tr>\n",
       "    <tr>\n",
       "      <th>1060</th>\n",
       "      <td>1060</td>\n",
       "      <td>None</td>\n",
       "      <td>Brazil</td>\n",
       "      <td>7.25</td>\n",
       "    </tr>\n",
       "    <tr>\n",
       "      <th>1080</th>\n",
       "      <td>1080</td>\n",
       "      <td>Typica</td>\n",
       "      <td>Taiwan</td>\n",
       "      <td>7.17</td>\n",
       "    </tr>\n",
       "  </tbody>\n",
       "</table>\n",
       "<p>1338 rows × 4 columns</p>\n",
       "</div>"
      ],
      "text/plain": [
       "      index     variety country_of_origin  flavor\n",
       "460     460      Catuai         Guatemala    7.83\n",
       "1137   1137  Mundo Novo            Mexico    7.33\n",
       "1243   1243     Caturra        Costa Rica    7.25\n",
       "299     299        None          Colombia    7.75\n",
       "1337   1337        None           Vietnam    6.67\n",
       "...     ...         ...               ...     ...\n",
       "729     729     Bourbon         Guatemala    7.67\n",
       "775     775      Typica            Mexico    7.67\n",
       "824     824        None          Honduras    7.33\n",
       "1060   1060        None            Brazil    7.25\n",
       "1080   1080      Typica            Taiwan    7.17\n",
       "\n",
       "[1338 rows x 4 columns]"
      ]
     },
     "execution_count": 2,
     "metadata": {},
     "output_type": "execute_result"
    }
   ],
   "source": [
    "# frac=1: Orijinal veri boyutunda örneklem\n",
    "# replace = True: Yerine koyarak örnekleme\n",
    "coffee_resamp = coffee_focus.sample(frac=1, replace=True)\n",
    "coffee_resamp"
   ]
  },
  {
   "cell_type": "code",
   "execution_count": 3,
   "id": "0ce756ce-b7aa-477d-b35e-f014a00ba196",
   "metadata": {},
   "outputs": [
    {
     "data": {
      "text/plain": [
       "1333    5\n",
       "820     4\n",
       "1138    4\n",
       "243     4\n",
       "1009    4\n",
       "       ..\n",
       "362     1\n",
       "445     1\n",
       "74      1\n",
       "1008    1\n",
       "1060    1\n",
       "Name: count, Length: 846, dtype: int64"
      ]
     },
     "execution_count": 3,
     "metadata": {},
     "output_type": "execute_result"
    }
   ],
   "source": [
    "coffee_resamp.index.value_counts() # tekrarlanan indeksleri sayma"
   ]
  },
  {
   "cell_type": "code",
   "execution_count": 4,
   "id": "949cee39-a69f-426b-b61b-0f8b54da50be",
   "metadata": {},
   "outputs": [
    {
     "data": {
      "text/plain": [
       "846"
      ]
     },
     "execution_count": 4,
     "metadata": {},
     "output_type": "execute_result"
    }
   ],
   "source": [
    "num_unique_coffees = len(coffee_resamp.drop_duplicates(subset='index'))\n",
    "num_unique_coffees"
   ]
  },
  {
   "cell_type": "markdown",
   "id": "759eb80c-8de6-40e8-98de-361e0b851862",
   "metadata": {},
   "source": [
    "- Elimizdeki sınırlı veri ile bir popülasyon oluşturmak için bootstrapping kullanılır."
   ]
  },
  {
   "cell_type": "code",
   "execution_count": 5,
   "id": "f3af5690-e4b2-4fbe-9792-4a853a7385ae",
   "metadata": {},
   "outputs": [],
   "source": [
    "# bootstrapping distribution\n",
    "import numpy as np\n",
    "\n",
    "mean_flavors_1000 = []\n",
    "\n",
    "for _ in range(1000):\n",
    "    # 1000 iterasyon yapılacak\n",
    "    # Her iterasyonda yerine koyarak örneklem alır\n",
    "    # 'flavor' sütununun ortalamasını hesaplar\n",
    "    # mean_flavors_1000 listesine ekler\n",
    "    mean_flavors_1000.append(np.mean(\n",
    "        coffee_focus.sample(frac=1, replace=True)['flavor']\n",
    "    ))"
   ]
  },
  {
   "cell_type": "code",
   "execution_count": 6,
   "id": "eb94c4a5-e123-43ce-a880-541e801eb695",
   "metadata": {},
   "outputs": [
    {
     "data": {
      "text/plain": [
       "(array([ 21.,  48., 116., 210., 243., 202., 106.,  39.,  12.,   3.]),\n",
       " array([7.50084454, 7.50648206, 7.51211958, 7.5177571 , 7.52339462,\n",
       "        7.52903214, 7.53466966, 7.54030717, 7.54594469, 7.55158221,\n",
       "        7.55721973]),\n",
       " <BarContainer object of 10 artists>)"
      ]
     },
     "execution_count": 6,
     "metadata": {},
     "output_type": "execute_result"
    },
    {
     "data": {
      "image/png": "[encoded data removed]",
      "text/plain": [
       "<Figure size 640x480 with 1 Axes>"
      ]
     },
     "metadata": {},
     "output_type": "display_data"
    }
   ],
   "source": [
    "import matplotlib.pyplot as plt\n",
    "\n",
    "plt.hist(mean_flavors_1000)"
   ]
  },
  {
   "cell_type": "markdown",
   "id": "e2418f88-e6fe-4310-9bec-a1934b627073",
   "metadata": {},
   "source": [
    "Comparing sampling and bootstrap distributions"
   ]
  },
  {
   "cell_type": "code",
   "execution_count": 7,
   "id": "18f3527c-fd9b-4873-a136-f814652934b7",
   "metadata": {},
   "outputs": [
    {
     "data": {
      "text/html": [
       "<div>\n",
       "<style scoped>\n",
       "    .dataframe tbody tr th:only-of-type {\n",
       "        vertical-align: middle;\n",
       "    }\n",
       "\n",
       "    .dataframe tbody tr th {\n",
       "        vertical-align: top;\n",
       "    }\n",
       "\n",
       "    .dataframe thead th {\n",
       "        text-align: right;\n",
       "    }\n",
       "</style>\n",
       "<table border=\"1\" class=\"dataframe\">\n",
       "  <thead>\n",
       "    <tr style=\"text-align: right;\">\n",
       "      <th></th>\n",
       "      <th>index</th>\n",
       "      <th>variety</th>\n",
       "      <th>country_of_origin</th>\n",
       "      <th>flavor</th>\n",
       "    </tr>\n",
       "  </thead>\n",
       "  <tbody>\n",
       "    <tr>\n",
       "      <th>1258</th>\n",
       "      <td>1258</td>\n",
       "      <td>Other</td>\n",
       "      <td>Mexico</td>\n",
       "      <td>7.00</td>\n",
       "    </tr>\n",
       "    <tr>\n",
       "      <th>182</th>\n",
       "      <td>182</td>\n",
       "      <td>Catuai</td>\n",
       "      <td>Honduras</td>\n",
       "      <td>7.92</td>\n",
       "    </tr>\n",
       "    <tr>\n",
       "      <th>5</th>\n",
       "      <td>5</td>\n",
       "      <td>None</td>\n",
       "      <td>Brazil</td>\n",
       "      <td>8.42</td>\n",
       "    </tr>\n",
       "    <tr>\n",
       "      <th>1194</th>\n",
       "      <td>1194</td>\n",
       "      <td>Typica</td>\n",
       "      <td>Mexico</td>\n",
       "      <td>7.00</td>\n",
       "    </tr>\n",
       "    <tr>\n",
       "      <th>289</th>\n",
       "      <td>289</td>\n",
       "      <td>Bourbon</td>\n",
       "      <td>Mexico</td>\n",
       "      <td>8.00</td>\n",
       "    </tr>\n",
       "    <tr>\n",
       "      <th>...</th>\n",
       "      <td>...</td>\n",
       "      <td>...</td>\n",
       "      <td>...</td>\n",
       "      <td>...</td>\n",
       "    </tr>\n",
       "    <tr>\n",
       "      <th>817</th>\n",
       "      <td>817</td>\n",
       "      <td>Caturra</td>\n",
       "      <td>Honduras</td>\n",
       "      <td>7.50</td>\n",
       "    </tr>\n",
       "    <tr>\n",
       "      <th>753</th>\n",
       "      <td>753</td>\n",
       "      <td>Caturra</td>\n",
       "      <td>Colombia</td>\n",
       "      <td>7.33</td>\n",
       "    </tr>\n",
       "    <tr>\n",
       "      <th>848</th>\n",
       "      <td>848</td>\n",
       "      <td>Caturra</td>\n",
       "      <td>Honduras</td>\n",
       "      <td>7.50</td>\n",
       "    </tr>\n",
       "    <tr>\n",
       "      <th>647</th>\n",
       "      <td>647</td>\n",
       "      <td>Caturra</td>\n",
       "      <td>Colombia</td>\n",
       "      <td>7.50</td>\n",
       "    </tr>\n",
       "    <tr>\n",
       "      <th>489</th>\n",
       "      <td>489</td>\n",
       "      <td>Other</td>\n",
       "      <td>Mexico</td>\n",
       "      <td>7.67</td>\n",
       "    </tr>\n",
       "  </tbody>\n",
       "</table>\n",
       "<p>500 rows × 4 columns</p>\n",
       "</div>"
      ],
      "text/plain": [
       "      index  variety country_of_origin  flavor\n",
       "1258   1258    Other            Mexico    7.00\n",
       "182     182   Catuai          Honduras    7.92\n",
       "5         5     None            Brazil    8.42\n",
       "1194   1194   Typica            Mexico    7.00\n",
       "289     289  Bourbon            Mexico    8.00\n",
       "...     ...      ...               ...     ...\n",
       "817     817  Caturra          Honduras    7.50\n",
       "753     753  Caturra          Colombia    7.33\n",
       "848     848  Caturra          Honduras    7.50\n",
       "647     647  Caturra          Colombia    7.50\n",
       "489     489    Other            Mexico    7.67\n",
       "\n",
       "[500 rows x 4 columns]"
      ]
     },
     "execution_count": 7,
     "metadata": {},
     "output_type": "execute_result"
    }
   ],
   "source": [
    "coffee_sample = df_coffee[[\"variety\",\"country_of_origin\",\"flavor\"]].\\\n",
    "reset_index().sample(n=500)\n",
    "coffee_sample"
   ]
  },
  {
   "cell_type": "code",
   "execution_count": 8,
   "id": "35d28176-669a-49d6-8279-6661791a9de2",
   "metadata": {},
   "outputs": [],
   "source": [
    "mean_flavors_5000 = []\n",
    "\n",
    "for _ in range(5000):\n",
    "    mean_flavors_5000.append(np.mean(coffee_sample.sample(frac=1,replace=True)['flavor']))"
   ]
  },
  {
   "cell_type": "code",
   "execution_count": 9,
   "id": "08c3b02d-25eb-4537-a6b2-9609ada1e8c4",
   "metadata": {},
   "outputs": [
    {
     "data": {
      "text/plain": [
       "7.53122"
      ]
     },
     "execution_count": 9,
     "metadata": {},
     "output_type": "execute_result"
    }
   ],
   "source": [
    "coffee_sample['flavor'].mean() # sample mean"
   ]
  },
  {
   "cell_type": "code",
   "execution_count": 10,
   "id": "312be949-4ea4-4c25-a59c-94281cbba1aa",
   "metadata": {},
   "outputs": [
    {
     "data": {
      "text/plain": [
       "7.531334396"
      ]
     },
     "execution_count": 10,
     "metadata": {},
     "output_type": "execute_result"
    }
   ],
   "source": [
    "np.mean(mean_flavors_5000) # bootstrapping mean"
   ]
  },
  {
   "cell_type": "markdown",
   "id": "8e66079f-877c-44c2-8d75-831d072452d0",
   "metadata": {},
   "source": [
    "Sample std sapma vs Bootstrapping standart sapma"
   ]
  },
  {
   "cell_type": "code",
   "execution_count": 11,
   "id": "92fcd931-2254-41b6-a0c5-182f1f55eab2",
   "metadata": {},
   "outputs": [
    {
     "data": {
      "text/plain": [
       "0.3413164300335128"
      ]
     },
     "execution_count": 11,
     "metadata": {},
     "output_type": "execute_result"
    }
   ],
   "source": [
    "coffee_sample['flavor'].std()"
   ]
  },
  {
   "cell_type": "code",
   "execution_count": 12,
   "id": "846a4cb2-2659-42df-8e49-d93eb117f76c",
   "metadata": {},
   "outputs": [
    {
     "data": {
      "text/plain": [
       "0.015134966995681766"
      ]
     },
     "execution_count": 12,
     "metadata": {},
     "output_type": "execute_result"
    }
   ],
   "source": [
    "np.std(mean_flavors_5000, ddof=1) # bootstrap std = standard error"
   ]
  },
  {
   "cell_type": "code",
   "execution_count": 13,
   "id": "181960d7-1b87-4b0a-97b7-42193d3e3d10",
   "metadata": {},
   "outputs": [
    {
     "data": {
      "text/plain": [
       "0.338428150395602"
      ]
     },
     "execution_count": 13,
     "metadata": {},
     "output_type": "execute_result"
    }
   ],
   "source": [
    "np.std(mean_flavors_5000, ddof=1) * np.sqrt(500) # bootstrap standart sapma"
   ]
  },
  {
   "cell_type": "markdown",
   "id": "60e7499c-4ba4-4406-8471-65d16f62f6d2",
   "metadata": {},
   "source": [
    "Confidence Intervals(Güven aralığı)"
   ]
  },
  {
   "cell_type": "code",
   "execution_count": 14,
   "id": "74df6c7c-308a-4bc3-82ce-ed8890f869c8",
   "metadata": {},
   "outputs": [
    {
     "data": {
      "text/plain": [
       "(array([  26.,  148.,  527., 1166., 1404., 1101.,  480.,  130.,   16.,\n",
       "           2.]),\n",
       " array([7.4813  , 7.492548, 7.503796, 7.515044, 7.526292, 7.53754 ,\n",
       "        7.548788, 7.560036, 7.571284, 7.582532, 7.59378 ]),\n",
       " <BarContainer object of 10 artists>)"
      ]
     },
     "execution_count": 14,
     "metadata": {},
     "output_type": "execute_result"
    },
    {
     "data": {
      "image/png": "[encoded data removed]",
      "text/plain": [
       "<Figure size 640x480 with 1 Axes>"
      ]
     },
     "metadata": {},
     "output_type": "display_data"
    }
   ],
   "source": [
    "plt.hist(mean_flavors_5000)"
   ]
  },
  {
   "cell_type": "code",
   "execution_count": 15,
   "id": "997059e6-26be-4866-9e2f-2f8b32c4582a",
   "metadata": {},
   "outputs": [
    {
     "data": {
      "text/plain": [
       "<matplotlib.legend.Legend at 0x1abe9fa30e0>"
      ]
     },
     "execution_count": 15,
     "metadata": {},
     "output_type": "execute_result"
    },
    {
     "data": {
      "image/png": "[encoded data removed]",
      "text/plain": [
       "<Figure size 640x480 with 1 Axes>"
      ]
     },
     "metadata": {},
     "output_type": "display_data"
    }
   ],
   "source": [
    "# Bootstrap distribution of mean flavor and mean line\n",
    "plt.hist(mean_flavors_5000);\n",
    "plt.axvline(np.mean(mean_flavors_5000), color='red', linestyle='dashed', linewidth=2, label=f'Mean: {np.mean(mean_flavors_5000):.2f}')\n",
    "plt.legend()"
   ]
  },
  {
   "cell_type": "code",
   "execution_count": 16,
   "id": "144e5990-1ff8-4d2e-9847-c5b54b9a2657",
   "metadata": {},
   "outputs": [
    {
     "data": {
      "image/png": "[encoded data removed]",
      "text/plain": [
       "<Figure size 640x480 with 1 Axes>"
      ]
     },
     "metadata": {},
     "output_type": "display_data"
    }
   ],
   "source": [
    "mean = np.mean(mean_flavors_5000)\n",
    "plus_one_std = mean + np.std(mean_flavors_5000, ddof=1)\n",
    "minus_one_std = mean - np.std(mean_flavors_5000, ddof=1)\n",
    "\n",
    "plt.hist(mean_flavors_5000);\n",
    "\n",
    "plt.axvline(mean, color='black', linestyle='dashed', linewidth=2, label=f'Mean: {mean:.2f}')\n",
    "\n",
    "plt.axvline(plus_one_std, color='red', linestyle='dashed', linewidth=2, label=f'mean + std: {plus_one_std:.2f}')\n",
    "\n",
    "plt.axvline(minus_one_std, color='yellow', linestyle='dashed', linewidth=2, label=f'mean - std: {minus_one_std:.2f}')\n",
    "\n",
    "plt.legend()\n",
    "plt.show()"
   ]
  },
  {
   "cell_type": "code",
   "execution_count": 17,
   "id": "974f10b7-d207-4920-bf1a-1ba3f85b4b0b",
   "metadata": {},
   "outputs": [
    {
     "data": {
      "text/plain": [
       "<matplotlib.legend.Legend at 0x1abea8db0e0>"
      ]
     },
     "execution_count": 17,
     "metadata": {},
     "output_type": "execute_result"
    },
    {
     "data": {
      "image/png": "[encoded data removed]",
      "text/plain": [
       "<Figure size 640x480 with 1 Axes>"
      ]
     },
     "metadata": {},
     "output_type": "display_data"
    }
   ],
   "source": [
    "# Quantile method for confidence intervals\n",
    "\n",
    "quantile_lower = np.quantile(mean_flavors_5000, 0.025)\n",
    "quantile_upper = np.quantile(mean_flavors_5000, 0.975)\n",
    "\n",
    "plt.hist(mean_flavors_5000);\n",
    "\n",
    "plt.axvline(mean, color='black', linestyle='dashed', linewidth=2, label=f'Mean: {mean:.2f}')\n",
    "\n",
    "plt.axvline(quantile_lower, color='red', linestyle='dashed', linewidth=2, label=f'quantile_lower: {quantile_lower:.2f}')\n",
    "\n",
    "plt.axvline(quantile_upper, color='yellow', linestyle='dashed', linewidth=2, label=f'quantile_upper: {quantile_upper:.2f}')\n",
    "\n",
    "plt.legend()"
   ]
  },
  {
   "cell_type": "markdown",
   "id": "356f22f2-7abd-4818-81bd-74e9076e81a2",
   "metadata": {},
   "source": [
    "##### Ters Kümülatif Fonksiyonu(Inverse cummulative distribution function)"
   ]
  },
  {
   "cell_type": "code",
   "execution_count": 18,
   "id": "26928a91-2bad-4b20-a004-d7840a49a962",
   "metadata": {},
   "outputs": [
    {
     "data": {
      "image/png": "[encoded data removed]",
      "text/plain": [
       "<Figure size 640x480 with 1 Axes>"
      ]
     },
     "metadata": {},
     "output_type": "display_data"
    }
   ],
   "source": [
    "from scipy.stats import norm\n",
    "\n",
    "p_values = np.linspace(0, 1, 100)\n",
    "\n",
    "quantiles = norm.ppf(p_values, loc=0, scale=1)\n",
    "\n",
    "plt.plot(p_values, quantiles, label=\"Inverse CDF (Normal Distribution)\")\n",
    "\n",
    "p1, p2 = 0.025, 0.975\n",
    "quantile_025 = norm.ppf(p1)\n",
    "quantile_975 = norm.ppf(p2)\n",
    "\n",
    "plt.scatter([p1, p2], [quantile_025, quantile_975], color='red')  # Noktaları çiz\n",
    "plt.axvline(p1, color='red', linestyle='dashed', linewidth=1)  # p1 için dikey çizgi\n",
    "plt.axvline(p2, color='red', linestyle='dashed', linewidth=1)  # p2 için dikey çizgi\n",
    "\n",
    "# X ve Y değerlerini grafikte gösterelim\n",
    "plt.text(p1, quantile_025, f'({p1:.3f}, {quantile_025:.2f})', color='red', fontsize=10, ha='right')\n",
    "plt.text(p2, quantile_975, f'({p2:.3f}, {quantile_975:.2f})', color='red', fontsize=10, ha='right')\n",
    "\n",
    "\n",
    "\n",
    "plt.xlabel(\"Probability (p)\")\n",
    "plt.ylabel(\"Quantile (x)\")\n",
    "plt.title(\"Inverse Cumulative Distribution Function (Normal)\")\n",
    "plt.grid(True)\n",
    "plt.legend()\n",
    "plt.show()"
   ]
  },
  {
   "cell_type": "markdown",
   "id": "2b07f68c-0685-4bf9-840f-2540081231f6",
   "metadata": {},
   "source": [
    "Standard error method for confidence interval\n",
    "\n",
    "Güven aralığını hesaplamak için kullanılan bu ikinci yönteme standart hata yöntemi denir. İlk olarak, bootstrap dağılımının ortalaması olan nokta tahminini ve bootstrap dağılımının standart sapması ile tahmin edilen standart hata hesaplanır. Ardından, bootstrap dağılımıyla aynı ortalama ve standart sapmaya sahip normal dağılımın ters CDF'sini elde etmek için norm.ppf çağırılır. Yine, güven aralığı 7.78 ile 7.52 arasındadır, ancak bootstrapp dağılımı tamamen normal olmadığı için sayılar geçen seferkinden biraz farklıdır."
   ]
  },
  {
   "cell_type": "code",
   "execution_count": 19,
   "id": "c1406336-259b-4484-bcc7-18611fdcc9d8",
   "metadata": {},
   "outputs": [
    {
     "data": {
      "text/plain": [
       "7.531334396"
      ]
     },
     "execution_count": 19,
     "metadata": {},
     "output_type": "execute_result"
    }
   ],
   "source": [
    "point_estimate = np.mean(mean_flavors_5000)\n",
    "point_estimate"
   ]
  },
  {
   "cell_type": "code",
   "execution_count": 20,
   "id": "c708dcc3-3faa-41ef-bafc-2b7b3a69155c",
   "metadata": {},
   "outputs": [
    {
     "data": {
      "text/plain": [
       "0.015134966995681766"
      ]
     },
     "execution_count": 20,
     "metadata": {},
     "output_type": "execute_result"
    }
   ],
   "source": [
    "std_error = np.std(mean_flavors_5000, ddof=1)\n",
    "std_error"
   ]
  },
  {
   "cell_type": "code",
   "execution_count": 21,
   "id": "64f80d5f-9f3f-4270-a580-490ba99e76b7",
   "metadata": {},
   "outputs": [
    {
     "name": "stdout",
     "output_type": "stream",
     "text": [
      "7.501670405781262 7.560998386218738\n"
     ]
    }
   ],
   "source": [
    "from scipy.stats import norm\n",
    "\n",
    "lower = norm.ppf(0.025, loc=point_estimate, scale=std_error)\n",
    "upper = norm.ppf(0.975, loc=point_estimate, scale=std_error)\n",
    "\n",
    "print(lower, upper)"
   ]
  },
  {
   "cell_type": "markdown",
   "id": "c90ab648-1ce1-4275-be97-982346bac945",
   "metadata": {},
   "source": [
    "#### A/B TESTING"
   ]
  },
  {
   "cell_type": "code",
   "execution_count": 22,
   "id": "7f53a30d-0d8e-47c2-a57c-7afe49e59b7c",
   "metadata": {},
   "outputs": [
    {
     "data": {
      "text/html": [
       "<div>\n",
       "<style scoped>\n",
       "    .dataframe tbody tr th:only-of-type {\n",
       "        vertical-align: middle;\n",
       "    }\n",
       "\n",
       "    .dataframe tbody tr th {\n",
       "        vertical-align: top;\n",
       "    }\n",
       "\n",
       "    .dataframe thead th {\n",
       "        text-align: right;\n",
       "    }\n",
       "</style>\n",
       "<table border=\"1\" class=\"dataframe\">\n",
       "  <thead>\n",
       "    <tr style=\"text-align: right;\">\n",
       "      <th></th>\n",
       "      <th>respondent</th>\n",
       "      <th>main_branch</th>\n",
       "      <th>hobbyist</th>\n",
       "      <th>age</th>\n",
       "      <th>age_1st_code</th>\n",
       "      <th>age_first_code_cut</th>\n",
       "      <th>comp_freq</th>\n",
       "      <th>comp_total</th>\n",
       "      <th>converted_comp</th>\n",
       "      <th>country</th>\n",
       "      <th>...</th>\n",
       "      <th>survey_length</th>\n",
       "      <th>trans</th>\n",
       "      <th>undergrad_major</th>\n",
       "      <th>webframe_desire_next_year</th>\n",
       "      <th>webframe_worked_with</th>\n",
       "      <th>welcome_change</th>\n",
       "      <th>work_week_hrs</th>\n",
       "      <th>years_code</th>\n",
       "      <th>years_code_pro</th>\n",
       "      <th>age_cat</th>\n",
       "    </tr>\n",
       "  </thead>\n",
       "  <tbody>\n",
       "    <tr>\n",
       "      <th>0</th>\n",
       "      <td>36.0</td>\n",
       "      <td>I am not primarily a developer, but I write co...</td>\n",
       "      <td>Yes</td>\n",
       "      <td>34.0</td>\n",
       "      <td>30.0</td>\n",
       "      <td>adult</td>\n",
       "      <td>Yearly</td>\n",
       "      <td>60000.0</td>\n",
       "      <td>77556.0</td>\n",
       "      <td>United Kingdom</td>\n",
       "      <td>...</td>\n",
       "      <td>Appropriate in length</td>\n",
       "      <td>No</td>\n",
       "      <td>Computer science, computer engineering, or sof...</td>\n",
       "      <td>Express;React.js</td>\n",
       "      <td>Express;React.js</td>\n",
       "      <td>Just as welcome now as I felt last year</td>\n",
       "      <td>40.0</td>\n",
       "      <td>4.0</td>\n",
       "      <td>3.0</td>\n",
       "      <td>At least 30</td>\n",
       "    </tr>\n",
       "    <tr>\n",
       "      <th>1</th>\n",
       "      <td>47.0</td>\n",
       "      <td>I am a developer by profession</td>\n",
       "      <td>Yes</td>\n",
       "      <td>53.0</td>\n",
       "      <td>10.0</td>\n",
       "      <td>child</td>\n",
       "      <td>Yearly</td>\n",
       "      <td>58000.0</td>\n",
       "      <td>74970.0</td>\n",
       "      <td>United Kingdom</td>\n",
       "      <td>...</td>\n",
       "      <td>Appropriate in length</td>\n",
       "      <td>No</td>\n",
       "      <td>A natural science (such as biology, chemistry,...</td>\n",
       "      <td>Flask;Spring</td>\n",
       "      <td>Flask;Spring</td>\n",
       "      <td>Just as welcome now as I felt last year</td>\n",
       "      <td>40.0</td>\n",
       "      <td>43.0</td>\n",
       "      <td>28.0</td>\n",
       "      <td>At least 30</td>\n",
       "    </tr>\n",
       "    <tr>\n",
       "      <th>2</th>\n",
       "      <td>69.0</td>\n",
       "      <td>I am a developer by profession</td>\n",
       "      <td>Yes</td>\n",
       "      <td>25.0</td>\n",
       "      <td>12.0</td>\n",
       "      <td>child</td>\n",
       "      <td>Yearly</td>\n",
       "      <td>550000.0</td>\n",
       "      <td>594539.0</td>\n",
       "      <td>France</td>\n",
       "      <td>...</td>\n",
       "      <td>Too short</td>\n",
       "      <td>No</td>\n",
       "      <td>Computer science, computer engineering, or sof...</td>\n",
       "      <td>Django;Flask</td>\n",
       "      <td>Django;Flask</td>\n",
       "      <td>Just as welcome now as I felt last year</td>\n",
       "      <td>40.0</td>\n",
       "      <td>13.0</td>\n",
       "      <td>3.0</td>\n",
       "      <td>Under 30</td>\n",
       "    </tr>\n",
       "    <tr>\n",
       "      <th>3</th>\n",
       "      <td>125.0</td>\n",
       "      <td>I am not primarily a developer, but I write co...</td>\n",
       "      <td>Yes</td>\n",
       "      <td>41.0</td>\n",
       "      <td>30.0</td>\n",
       "      <td>adult</td>\n",
       "      <td>Monthly</td>\n",
       "      <td>200000.0</td>\n",
       "      <td>2000000.0</td>\n",
       "      <td>United States</td>\n",
       "      <td>...</td>\n",
       "      <td>Appropriate in length</td>\n",
       "      <td>No</td>\n",
       "      <td>None</td>\n",
       "      <td>None</td>\n",
       "      <td>None</td>\n",
       "      <td>Just as welcome now as I felt last year</td>\n",
       "      <td>40.0</td>\n",
       "      <td>11.0</td>\n",
       "      <td>11.0</td>\n",
       "      <td>At least 30</td>\n",
       "    </tr>\n",
       "    <tr>\n",
       "      <th>4</th>\n",
       "      <td>147.0</td>\n",
       "      <td>I am not primarily a developer, but I write co...</td>\n",
       "      <td>No</td>\n",
       "      <td>28.0</td>\n",
       "      <td>15.0</td>\n",
       "      <td>adult</td>\n",
       "      <td>Yearly</td>\n",
       "      <td>50000.0</td>\n",
       "      <td>37816.0</td>\n",
       "      <td>Canada</td>\n",
       "      <td>...</td>\n",
       "      <td>Appropriate in length</td>\n",
       "      <td>No</td>\n",
       "      <td>Another engineering discipline (such as civil,...</td>\n",
       "      <td>None</td>\n",
       "      <td>Express;Flask</td>\n",
       "      <td>Just as welcome now as I felt last year</td>\n",
       "      <td>40.0</td>\n",
       "      <td>5.0</td>\n",
       "      <td>3.0</td>\n",
       "      <td>Under 30</td>\n",
       "    </tr>\n",
       "    <tr>\n",
       "      <th>...</th>\n",
       "      <td>...</td>\n",
       "      <td>...</td>\n",
       "      <td>...</td>\n",
       "      <td>...</td>\n",
       "      <td>...</td>\n",
       "      <td>...</td>\n",
       "      <td>...</td>\n",
       "      <td>...</td>\n",
       "      <td>...</td>\n",
       "      <td>...</td>\n",
       "      <td>...</td>\n",
       "      <td>...</td>\n",
       "      <td>...</td>\n",
       "      <td>...</td>\n",
       "      <td>...</td>\n",
       "      <td>...</td>\n",
       "      <td>...</td>\n",
       "      <td>...</td>\n",
       "      <td>...</td>\n",
       "      <td>...</td>\n",
       "      <td>...</td>\n",
       "    </tr>\n",
       "    <tr>\n",
       "      <th>2256</th>\n",
       "      <td>62812.0</td>\n",
       "      <td>I am a developer by profession</td>\n",
       "      <td>Yes</td>\n",
       "      <td>40.0</td>\n",
       "      <td>10.0</td>\n",
       "      <td>child</td>\n",
       "      <td>Yearly</td>\n",
       "      <td>145000.0</td>\n",
       "      <td>145000.0</td>\n",
       "      <td>United States</td>\n",
       "      <td>...</td>\n",
       "      <td>Too long</td>\n",
       "      <td>No</td>\n",
       "      <td>Computer science, computer engineering, or sof...</td>\n",
       "      <td>Flask;jQuery</td>\n",
       "      <td>Angular;Angular.js;Flask;jQuery;React.js</td>\n",
       "      <td>Somewhat less welcome now than last year</td>\n",
       "      <td>50.0</td>\n",
       "      <td>30.0</td>\n",
       "      <td>20.0</td>\n",
       "      <td>At least 30</td>\n",
       "    </tr>\n",
       "    <tr>\n",
       "      <th>2257</th>\n",
       "      <td>62835.0</td>\n",
       "      <td>I am a developer by profession</td>\n",
       "      <td>Yes</td>\n",
       "      <td>23.0</td>\n",
       "      <td>9.0</td>\n",
       "      <td>child</td>\n",
       "      <td>Monthly</td>\n",
       "      <td>180000.0</td>\n",
       "      <td>33972.0</td>\n",
       "      <td>Russian Federation</td>\n",
       "      <td>...</td>\n",
       "      <td>Too short</td>\n",
       "      <td>No</td>\n",
       "      <td>Computer science, computer engineering, or sof...</td>\n",
       "      <td>ASP.NET Core</td>\n",
       "      <td>ASP.NET Core;Flask</td>\n",
       "      <td>Just as welcome now as I felt last year</td>\n",
       "      <td>60.0</td>\n",
       "      <td>8.0</td>\n",
       "      <td>3.0</td>\n",
       "      <td>Under 30</td>\n",
       "    </tr>\n",
       "    <tr>\n",
       "      <th>2258</th>\n",
       "      <td>62837.0</td>\n",
       "      <td>I am a developer by profession</td>\n",
       "      <td>Yes</td>\n",
       "      <td>27.0</td>\n",
       "      <td>8.0</td>\n",
       "      <td>child</td>\n",
       "      <td>Monthly</td>\n",
       "      <td>7500.0</td>\n",
       "      <td>97284.0</td>\n",
       "      <td>Germany</td>\n",
       "      <td>...</td>\n",
       "      <td>Appropriate in length</td>\n",
       "      <td>No</td>\n",
       "      <td>Mathematics or statistics</td>\n",
       "      <td>None</td>\n",
       "      <td>None</td>\n",
       "      <td>Just as welcome now as I felt last year</td>\n",
       "      <td>42.0</td>\n",
       "      <td>12.0</td>\n",
       "      <td>2.0</td>\n",
       "      <td>Under 30</td>\n",
       "    </tr>\n",
       "    <tr>\n",
       "      <th>2259</th>\n",
       "      <td>62867.0</td>\n",
       "      <td>I am not primarily a developer, but I write co...</td>\n",
       "      <td>Yes</td>\n",
       "      <td>33.0</td>\n",
       "      <td>13.0</td>\n",
       "      <td>child</td>\n",
       "      <td>Monthly</td>\n",
       "      <td>6000.0</td>\n",
       "      <td>72000.0</td>\n",
       "      <td>Panama</td>\n",
       "      <td>...</td>\n",
       "      <td>Too long</td>\n",
       "      <td>No</td>\n",
       "      <td>Another engineering discipline (such as civil,...</td>\n",
       "      <td>None</td>\n",
       "      <td>Django;React.js</td>\n",
       "      <td>A lot less welcome now than last year</td>\n",
       "      <td>45.0</td>\n",
       "      <td>15.0</td>\n",
       "      <td>2.0</td>\n",
       "      <td>At least 30</td>\n",
       "    </tr>\n",
       "    <tr>\n",
       "      <th>2260</th>\n",
       "      <td>62882.0</td>\n",
       "      <td>I am a developer by profession</td>\n",
       "      <td>Yes</td>\n",
       "      <td>28.0</td>\n",
       "      <td>13.0</td>\n",
       "      <td>child</td>\n",
       "      <td>Yearly</td>\n",
       "      <td>180000.0</td>\n",
       "      <td>180000.0</td>\n",
       "      <td>United States</td>\n",
       "      <td>...</td>\n",
       "      <td>Appropriate in length</td>\n",
       "      <td>No</td>\n",
       "      <td>Computer science, computer engineering, or sof...</td>\n",
       "      <td>Angular;Express;Flask;React.js</td>\n",
       "      <td>Angular;Angular.js;Django;Drupal;Express;Flask</td>\n",
       "      <td>Just as welcome now as I felt last year</td>\n",
       "      <td>40.0</td>\n",
       "      <td>11.0</td>\n",
       "      <td>5.0</td>\n",
       "      <td>Under 30</td>\n",
       "    </tr>\n",
       "  </tbody>\n",
       "</table>\n",
       "<p>2261 rows × 63 columns</p>\n",
       "</div>"
      ],
      "text/plain": [
       "      respondent                                        main_branch hobbyist  \\\n",
       "0           36.0  I am not primarily a developer, but I write co...      Yes   \n",
       "1           47.0                     I am a developer by profession      Yes   \n",
       "2           69.0                     I am a developer by profession      Yes   \n",
       "3          125.0  I am not primarily a developer, but I write co...      Yes   \n",
       "4          147.0  I am not primarily a developer, but I write co...       No   \n",
       "...          ...                                                ...      ...   \n",
       "2256     62812.0                     I am a developer by profession      Yes   \n",
       "2257     62835.0                     I am a developer by profession      Yes   \n",
       "2258     62837.0                     I am a developer by profession      Yes   \n",
       "2259     62867.0  I am not primarily a developer, but I write co...      Yes   \n",
       "2260     62882.0                     I am a developer by profession      Yes   \n",
       "\n",
       "       age  age_1st_code age_first_code_cut comp_freq  comp_total  \\\n",
       "0     34.0          30.0              adult    Yearly     60000.0   \n",
       "1     53.0          10.0              child    Yearly     58000.0   \n",
       "2     25.0          12.0              child    Yearly    550000.0   \n",
       "3     41.0          30.0              adult   Monthly    200000.0   \n",
       "4     28.0          15.0              adult    Yearly     50000.0   \n",
       "...    ...           ...                ...       ...         ...   \n",
       "2256  40.0          10.0              child    Yearly    145000.0   \n",
       "2257  23.0           9.0              child   Monthly    180000.0   \n",
       "2258  27.0           8.0              child   Monthly      7500.0   \n",
       "2259  33.0          13.0              child   Monthly      6000.0   \n",
       "2260  28.0          13.0              child    Yearly    180000.0   \n",
       "\n",
       "      converted_comp             country  ...          survey_length trans  \\\n",
       "0            77556.0      United Kingdom  ...  Appropriate in length    No   \n",
       "1            74970.0      United Kingdom  ...  Appropriate in length    No   \n",
       "2           594539.0              France  ...              Too short    No   \n",
       "3          2000000.0       United States  ...  Appropriate in length    No   \n",
       "4            37816.0              Canada  ...  Appropriate in length    No   \n",
       "...              ...                 ...  ...                    ...   ...   \n",
       "2256        145000.0       United States  ...               Too long    No   \n",
       "2257         33972.0  Russian Federation  ...              Too short    No   \n",
       "2258         97284.0             Germany  ...  Appropriate in length    No   \n",
       "2259         72000.0              Panama  ...               Too long    No   \n",
       "2260        180000.0       United States  ...  Appropriate in length    No   \n",
       "\n",
       "                                        undergrad_major  \\\n",
       "0     Computer science, computer engineering, or sof...   \n",
       "1     A natural science (such as biology, chemistry,...   \n",
       "2     Computer science, computer engineering, or sof...   \n",
       "3                                                  None   \n",
       "4     Another engineering discipline (such as civil,...   \n",
       "...                                                 ...   \n",
       "2256  Computer science, computer engineering, or sof...   \n",
       "2257  Computer science, computer engineering, or sof...   \n",
       "2258                          Mathematics or statistics   \n",
       "2259  Another engineering discipline (such as civil,...   \n",
       "2260  Computer science, computer engineering, or sof...   \n",
       "\n",
       "           webframe_desire_next_year  \\\n",
       "0                   Express;React.js   \n",
       "1                       Flask;Spring   \n",
       "2                       Django;Flask   \n",
       "3                               None   \n",
       "4                               None   \n",
       "...                              ...   \n",
       "2256                    Flask;jQuery   \n",
       "2257                    ASP.NET Core   \n",
       "2258                            None   \n",
       "2259                            None   \n",
       "2260  Angular;Express;Flask;React.js   \n",
       "\n",
       "                                webframe_worked_with  \\\n",
       "0                                   Express;React.js   \n",
       "1                                       Flask;Spring   \n",
       "2                                       Django;Flask   \n",
       "3                                               None   \n",
       "4                                      Express;Flask   \n",
       "...                                              ...   \n",
       "2256        Angular;Angular.js;Flask;jQuery;React.js   \n",
       "2257                              ASP.NET Core;Flask   \n",
       "2258                                            None   \n",
       "2259                                 Django;React.js   \n",
       "2260  Angular;Angular.js;Django;Drupal;Express;Flask   \n",
       "\n",
       "                                welcome_change work_week_hrs years_code  \\\n",
       "0      Just as welcome now as I felt last year          40.0        4.0   \n",
       "1      Just as welcome now as I felt last year          40.0       43.0   \n",
       "2      Just as welcome now as I felt last year          40.0       13.0   \n",
       "3      Just as welcome now as I felt last year          40.0       11.0   \n",
       "4      Just as welcome now as I felt last year          40.0        5.0   \n",
       "...                                        ...           ...        ...   \n",
       "2256  Somewhat less welcome now than last year          50.0       30.0   \n",
       "2257   Just as welcome now as I felt last year          60.0        8.0   \n",
       "2258   Just as welcome now as I felt last year          42.0       12.0   \n",
       "2259     A lot less welcome now than last year          45.0       15.0   \n",
       "2260   Just as welcome now as I felt last year          40.0       11.0   \n",
       "\n",
       "     years_code_pro      age_cat  \n",
       "0               3.0  At least 30  \n",
       "1              28.0  At least 30  \n",
       "2               3.0     Under 30  \n",
       "3              11.0  At least 30  \n",
       "4               3.0     Under 30  \n",
       "...             ...          ...  \n",
       "2256           20.0  At least 30  \n",
       "2257            3.0     Under 30  \n",
       "2258            2.0     Under 30  \n",
       "2259            2.0  At least 30  \n",
       "2260            5.0     Under 30  \n",
       "\n",
       "[2261 rows x 63 columns]"
      ]
     },
     "execution_count": 22,
     "metadata": {},
     "output_type": "execute_result"
    }
   ],
   "source": [
    "df_stck = pd.read_feather(\"resources/stack_overflow.feather\")\n",
    "df_stck"
   ]
  },
  {
   "cell_type": "code",
   "execution_count": 23,
   "id": "7269e265-24b1-40ad-8024-77f9d4183695",
   "metadata": {},
   "outputs": [
    {
     "data": {
      "text/plain": [
       "119574.71738168952"
      ]
     },
     "execution_count": 23,
     "metadata": {},
     "output_type": "execute_result"
    }
   ],
   "source": [
    "mean_comp_samp = df_stck['converted_comp'].mean()\n",
    "mean_comp_samp"
   ]
  },
  {
   "cell_type": "code",
   "execution_count": 24,
   "id": "b890d3d5-926b-4019-9661-fa911421cb96",
   "metadata": {},
   "outputs": [],
   "source": [
    "import numpy as np\n",
    "\n",
    "so_boot_distn = []\n",
    "\n",
    "for i in range(5000):\n",
    "    so_boot_distn.append(\n",
    "        np.mean(\n",
    "            df_stck.sample(frac=1, replace=True)['converted_comp']\n",
    "        )\n",
    "    )"
   ]
  },
  {
   "cell_type": "code",
   "execution_count": 33,
   "id": "0869caf2-eefa-44e7-9529-fff538371cf9",
   "metadata": {},
   "outputs": [
    {
     "data": {
      "image/png": "[encoded data removed]",
      "text/plain": [
       "<Figure size 640x480 with 1 Axes>"
      ]
     },
     "metadata": {},
     "output_type": "display_data"
    }
   ],
   "source": [
    "plt.hist(so_boot_distn, bins=30);"
   ]
  },
  {
   "cell_type": "code",
   "execution_count": 26,
   "id": "4824ffb4-efcb-4e17-94ae-a81251aa32ba",
   "metadata": {},
   "outputs": [
    {
     "data": {
      "text/plain": [
       "5546.551405499298"
      ]
     },
     "execution_count": 26,
     "metadata": {},
     "output_type": "execute_result"
    }
   ],
   "source": [
    "std_error = np.std(so_boot_distn, ddof=1)\n",
    "std_error"
   ]
  },
  {
   "cell_type": "code",
   "execution_count": 27,
   "id": "b498f019-dc6c-49dc-a733-eaaa0db21520",
   "metadata": {},
   "outputs": [
    {
     "data": {
      "text/plain": [
       "119574.71738168952"
      ]
     },
     "execution_count": 27,
     "metadata": {},
     "output_type": "execute_result"
    }
   ],
   "source": [
    "# z-score\n",
    "df_stck[\"converted_comp\"].mean()"
   ]
  },
  {
   "cell_type": "code",
   "execution_count": 28,
   "id": "da59803e-e2ca-4e14-bfbc-b395bb2bfbf1",
   "metadata": {},
   "outputs": [],
   "source": [
    "mean_comp_hyp = 110000"
   ]
  },
  {
   "cell_type": "code",
   "execution_count": 29,
   "id": "30a42668-e6b8-4f3b-a712-1b5151ea980c",
   "metadata": {},
   "outputs": [
    {
     "data": {
      "text/plain": [
       "5546.551405499298"
      ]
     },
     "execution_count": 29,
     "metadata": {},
     "output_type": "execute_result"
    }
   ],
   "source": [
    "std_error"
   ]
  },
  {
   "cell_type": "code",
   "execution_count": 30,
   "id": "32767af1-6101-44d4-a844-950ed3f9bb04",
   "metadata": {},
   "outputs": [
    {
     "data": {
      "text/plain": [
       "1.7262469382680519"
      ]
     },
     "execution_count": 30,
     "metadata": {},
     "output_type": "execute_result"
    }
   ],
   "source": [
    "z_score = (mean_comp_samp - mean_comp_hyp) / std_error\n",
    "z_score"
   ]
  },
  {
   "cell_type": "code",
   "execution_count": 31,
   "id": "b46886c1-e12f-4d1d-8528-ac33dcc315a6",
   "metadata": {},
   "outputs": [
    {
     "data": {
      "text/plain": [
       "[<matplotlib.lines.Line2D at 0x1abed8f0590>]"
      ]
     },
     "execution_count": 31,
     "metadata": {},
     "output_type": "execute_result"
    },
    {
     "data": {
      "image/png": "[encoded data removed]",
      "text/plain": [
       "<Figure size 640x480 with 1 Axes>"
      ]
     },
     "metadata": {},
     "output_type": "display_data"
    }
   ],
   "source": [
    "from scipy.stats import norm\n",
    "\n",
    "z_data = np.arange(-4,4,0.1)\n",
    "\n",
    "plt.plot(z_data, norm.pdf(z_data, loc=0, scale=1))"
   ]
  },
  {
   "cell_type": "markdown",
   "id": "c5804fd2-8d20-4a46-91de-8ac3b6cb9b5d",
   "metadata": {},
   "source": [
    "#### P-VALUES"
   ]
  },
  {
   "cell_type": "code",
   "execution_count": 32,
   "id": "fd0bacec-a70a-4b74-afec-12a79d9237ef",
   "metadata": {},
   "outputs": [],
   "source": [
    "# One-tailed and two-tailed tests\n"
   ]
  }
 ],
 "metadata": {
  "kernelspec": {
   "display_name": "Python 3 (ipykernel)",
   "language": "python",
   "name": "python3"
  },
  "language_info": {
   "codemirror_mode": {
    "name": "ipython",
    "version": 3
   },
   "file_extension": ".py",
   "mimetype": "text/x-python",
   "name": "python",
   "nbconvert_exporter": "python",
   "pygments_lexer": "ipython3",
   "version": "3.10.15"
  }
 },
 "nbformat": 4,
 "nbformat_minor": 5
}
