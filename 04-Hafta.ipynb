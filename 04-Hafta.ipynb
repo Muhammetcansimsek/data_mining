{
 "cells": [
  {
   "cell_type": "code",
   "execution_count": 1,
   "id": "ca3e184c-2ac2-43a1-8910-7bf2da091a7d",
   "metadata": {},
   "outputs": [],
   "source": [
    "import pandas as pd"
   ]
  },
  {
   "cell_type": "code",
   "execution_count": 2,
   "id": "c7d55fa4-5acb-4567-9897-d125db27a257",
   "metadata": {},
   "outputs": [
    {
     "name": "stdout",
     "output_type": "stream",
     "text": [
      "        Pokemon     Type\n",
      "0     Bulbasaur    Grass\n",
      "1       Ivysaur    Grass\n",
      "2      Venusaur    Grass\n",
      "3    Charmander     Fire\n",
      "4    Charmeleon     Fire\n",
      "..          ...      ...\n",
      "716     Yveltal     Dark\n",
      "717     Zygarde   Dragon\n",
      "718     Diancie     Rock\n",
      "719       Hoopa  Psychic\n",
      "720   Volcanion     Fire\n",
      "\n",
      "[721 rows x 2 columns]\n"
     ]
    }
   ],
   "source": [
    "df = pd.read_csv('resources/pokemon.csv')\n",
    "print(df)"
   ]
  },
  {
   "cell_type": "code",
   "execution_count": 3,
   "id": "2d6dbd04-3ff7-46a8-a011-af1b34cf0c4f",
   "metadata": {},
   "outputs": [
    {
     "name": "stdout",
     "output_type": "stream",
     "text": [
      "      Pokemon   Type\n",
      "0   Bulbasaur  Grass\n",
      "1     Ivysaur  Grass\n",
      "2    Venusaur  Grass\n",
      "3  Charmander   Fire\n",
      "4  Charmeleon   Fire\n"
     ]
    }
   ],
   "source": [
    "print(df.head())"
   ]
  },
  {
   "cell_type": "code",
   "execution_count": 4,
   "id": "9f2243de-1271-4fe4-920d-ad845aa72b5b",
   "metadata": {},
   "outputs": [
    {
     "name": "stdout",
     "output_type": "stream",
     "text": [
      "       Pokemon     Type\n",
      "716    Yveltal     Dark\n",
      "717    Zygarde   Dragon\n",
      "718    Diancie     Rock\n",
      "719      Hoopa  Psychic\n",
      "720  Volcanion     Fire\n"
     ]
    }
   ],
   "source": [
    "print(df.tail())"
   ]
  },
  {
   "cell_type": "markdown",
   "id": "10527130-b8e1-4450-8592-89fb8cf72e37",
   "metadata": {},
   "source": [
    "Veri Filtreleme ve Seçme"
   ]
  },
  {
   "cell_type": "code",
   "execution_count": 5,
   "id": "7c9bbe31-cc96-4087-8cd0-5b7b179e7717",
   "metadata": {},
   "outputs": [
    {
     "name": "stdout",
     "output_type": "stream",
     "text": [
      "         Pokemon  Type\n",
      "3     Charmander  Fire\n",
      "4     Charmeleon  Fire\n",
      "5      Charizard  Fire\n",
      "36        Vulpix  Fire\n",
      "37     Ninetales  Fire\n",
      "57     Growlithe  Fire\n",
      "58      Arcanine  Fire\n",
      "76        Ponyta  Fire\n",
      "77      Rapidash  Fire\n",
      "125       Magmar  Fire\n",
      "135      Flareon  Fire\n",
      "145      Moltres  Fire\n",
      "154    Cyndaquil  Fire\n",
      "155      Quilava  Fire\n",
      "156   Typhlosion  Fire\n",
      "217       Slugma  Fire\n",
      "218     Magcargo  Fire\n",
      "239        Magby  Fire\n",
      "243        Entei  Fire\n",
      "249        Ho-oh  Fire\n",
      "254      Torchic  Fire\n",
      "255    Combusken  Fire\n",
      "256     Blaziken  Fire\n",
      "321        Numel  Fire\n",
      "322     Camerupt  Fire\n",
      "323      Torkoal  Fire\n",
      "389     Chimchar  Fire\n",
      "390     Monferno  Fire\n",
      "391    Infernape  Fire\n",
      "466    Magmortar  Fire\n",
      "484      Heatran  Fire\n",
      "497        Tepig  Fire\n",
      "498      Pignite  Fire\n",
      "499       Emboar  Fire\n",
      "512      Pansear  Fire\n",
      "513     Simisear  Fire\n",
      "553     Darumaka  Fire\n",
      "554   Darmanitan  Fire\n",
      "630      Heatmor  Fire\n",
      "652     Fennekin  Fire\n",
      "653      Braixen  Fire\n",
      "654      Delphox  Fire\n",
      "661  Fletchinder  Fire\n",
      "662   Talonflame  Fire\n",
      "666       Litleo  Fire\n",
      "667       Pyroar  Fire\n",
      "720    Volcanion  Fire\n"
     ]
    }
   ],
   "source": [
    "#Belirli bir türe göre filtreleme\n",
    "fire_pokemon = df[df['Type'] == 'Fire']\n",
    "\n",
    "#Birden fazla türe göre filtreme\n",
    "fire_water_pokemon = df[df['Type'].isin(['Fire', 'Water'])]\n",
    "\n",
    "print(fire_pokemon)"
   ]
  },
  {
   "cell_type": "code",
   "execution_count": 6,
   "id": "9377c3da-58b2-4e15-97ac-349f332c2e66",
   "metadata": {},
   "outputs": [
    {
     "name": "stdout",
     "output_type": "stream",
     "text": [
      "        Pokemon   Type\n",
      "3    Charmander   Fire\n",
      "4    Charmeleon   Fire\n",
      "5     Charizard   Fire\n",
      "6      Squirtle  Water\n",
      "7     Wartortle  Water\n",
      "..          ...    ...\n",
      "666      Litleo   Fire\n",
      "667      Pyroar   Fire\n",
      "691   Clauncher  Water\n",
      "692   Clawitzer  Water\n",
      "720   Volcanion   Fire\n",
      "\n",
      "[152 rows x 2 columns]\n"
     ]
    }
   ],
   "source": [
    "print(fire_water_pokemon)"
   ]
  },
  {
   "cell_type": "code",
   "execution_count": 7,
   "id": "9a242212-9e46-4741-9c1b-eec6e3619d9d",
   "metadata": {},
   "outputs": [
    {
     "name": "stdout",
     "output_type": "stream",
     "text": [
      "        Pokemon   Type\n",
      "0     Bulbasaur  Grass\n",
      "1       Ivysaur  Grass\n",
      "2      Venusaur  Grass\n",
      "42       Oddish  Grass\n",
      "43        Gloom  Grass\n",
      "..          ...    ...\n",
      "649     Chespin  Grass\n",
      "650   Quilladin  Grass\n",
      "651  Chesnaught  Grass\n",
      "671      Skiddo  Grass\n",
      "672      Gogoat  Grass\n",
      "\n",
      "[66 rows x 2 columns]\n",
      "      Pokemon   Type\n",
      "0   Bulbasaur  Grass\n",
      "1     Ivysaur  Grass\n",
      "2    Venusaur  Grass\n",
      "42     Oddish  Grass\n",
      "43      Gloom  Grass\n"
     ]
    }
   ],
   "source": [
    "#'Grass' türündeki pokemonları bulun ve alfabetik sıraya göre ilk 5 tanesini gösterin.\n",
    "grass_pokemon = df[df['Type'] == 'Grass']\n",
    "first_five = grass_pokemon.head()\n",
    "\n",
    "print(grass_pokemon)\n",
    "print(first_five)"
   ]
  },
  {
   "cell_type": "markdown",
   "id": "f3be75af-043c-4549-bbc2-5a1a9213b2ff",
   "metadata": {},
   "source": [
    "Veri Gruplandırma ve Seçme"
   ]
  },
  {
   "cell_type": "code",
   "execution_count": 8,
   "id": "50d64753-7bc1-490e-9e77-b5af5a0fc207",
   "metadata": {},
   "outputs": [
    {
     "name": "stdout",
     "output_type": "stream",
     "text": [
      "Type\n",
      "Bug          63\n",
      "Dark         28\n",
      "Dragon       24\n",
      "Electric     36\n",
      "Fairy        17\n",
      "Fighting     25\n",
      "Fire         47\n",
      "Flying        3\n",
      "Ghost        23\n",
      "Grass        66\n",
      "Ground       30\n",
      "Ice          23\n",
      "Normal       93\n",
      "Poison       28\n",
      "Psychic      47\n",
      "Rock         41\n",
      "Steel        22\n",
      "Water       105\n",
      "Name: Pokemon, dtype: int64\n"
     ]
    }
   ],
   "source": [
    "#Türe göre gruplandırma ve pokemon sayısını hesaplama\n",
    "type_counts = df.groupby('Type')['Pokemon'].count()\n",
    "\n",
    "print(type_counts)"
   ]
  },
  {
   "cell_type": "code",
   "execution_count": 9,
   "id": "64ad63df-7d4a-417f-9c39-a3f8c91f93d8",
   "metadata": {},
   "outputs": [
    {
     "name": "stdout",
     "output_type": "stream",
     "text": [
      "Type\n",
      "Water       105\n",
      "Normal       93\n",
      "Grass        66\n",
      "Bug          63\n",
      "Fire         47\n",
      "Psychic      47\n",
      "Rock         41\n",
      "Electric     36\n",
      "Ground       30\n",
      "Dark         28\n",
      "Poison       28\n",
      "Fighting     25\n",
      "Dragon       24\n",
      "Ghost        23\n",
      "Ice          23\n",
      "Steel        22\n",
      "Fairy        17\n",
      "Flying        3\n",
      "Name: Pokemon, dtype: int64\n"
     ]
    }
   ],
   "source": [
    "#Türe göre gruplandırma ve pokemon sayısına göre büyükten küçüğe doğru sıralama\n",
    "sorted_type_counts = df.groupby('Type')['Pokemon'].count().sort_values(ascending=False)\n",
    "print(sorted_type_counts)"
   ]
  },
  {
   "cell_type": "code",
   "execution_count": 10,
   "id": "c4d2a172-788b-492e-b055-3226f8149e6d",
   "metadata": {},
   "outputs": [
    {
     "name": "stdout",
     "output_type": "stream",
     "text": [
      "               Type\n",
      "Pokemon            \n",
      "Bulbasaur     Grass\n",
      "Ivysaur       Grass\n",
      "Venusaur      Grass\n",
      "Charmander     Fire\n",
      "Charmeleon     Fire\n",
      "...             ...\n",
      "Yveltal        Dark\n",
      "Zygarde      Dragon\n",
      "Diancie        Rock\n",
      "Hoopa       Psychic\n",
      "Volcanion      Fire\n",
      "\n",
      "[721 rows x 1 columns]\n"
     ]
    }
   ],
   "source": [
    "# Dataframe'de bir sütunu inkdeks sütun yapma\n",
    "df_indexed = df.set_index('Pokemon')\n",
    "print(df_indexed)"
   ]
  },
  {
   "cell_type": "code",
   "execution_count": 11,
   "id": "7077eecd-992a-438d-9f2a-697a630cff3f",
   "metadata": {},
   "outputs": [
    {
     "name": "stdout",
     "output_type": "stream",
     "text": [
      "            Type\n",
      "Pokemon         \n",
      "Accelgor     Bug\n",
      "Ariados      Bug\n",
      "Beautifly    Bug\n",
      "Beedrill     Bug\n",
      "Burmy        Bug\n",
      "...          ...\n",
      "Wailord    Water\n",
      "Wartortle  Water\n",
      "Whiscash   Water\n",
      "Wingull    Water\n",
      "Wooper     Water\n",
      "\n",
      "[721 rows x 1 columns]\n"
     ]
    }
   ],
   "source": [
    "#Pokemon isimlerini türüne göre gruplandırıp alfabetik sıralama\n",
    "df_sorted = df.sort_values(['Type', 'Pokemon'])\n",
    "df_indexed = df_sorted.set_index('Pokemon')\n",
    "print(df_indexed)"
   ]
  },
  {
   "cell_type": "code",
   "execution_count": 12,
   "id": "d33fec1a-08d6-4f18-b66f-36772ba49436",
   "metadata": {},
   "outputs": [
    {
     "name": "stdout",
     "output_type": "stream",
     "text": [
      "        Pokemon  Type_Bug  Type_Dark  Type_Dragon  Type_Electric  Type_Fairy  \\\n",
      "0     Bulbasaur     False      False        False          False       False   \n",
      "1       Ivysaur     False      False        False          False       False   \n",
      "2      Venusaur     False      False        False          False       False   \n",
      "3    Charmander     False      False        False          False       False   \n",
      "4    Charmeleon     False      False        False          False       False   \n",
      "..          ...       ...        ...          ...            ...         ...   \n",
      "716     Yveltal     False       True        False          False       False   \n",
      "717     Zygarde     False      False         True          False       False   \n",
      "718     Diancie     False      False        False          False       False   \n",
      "719       Hoopa     False      False        False          False       False   \n",
      "720   Volcanion     False      False        False          False       False   \n",
      "\n",
      "     Type_Fighting  Type_Fire  Type_Flying  Type_Ghost  Type_Grass  \\\n",
      "0            False      False        False       False        True   \n",
      "1            False      False        False       False        True   \n",
      "2            False      False        False       False        True   \n",
      "3            False       True        False       False       False   \n",
      "4            False       True        False       False       False   \n",
      "..             ...        ...          ...         ...         ...   \n",
      "716          False      False        False       False       False   \n",
      "717          False      False        False       False       False   \n",
      "718          False      False        False       False       False   \n",
      "719          False      False        False       False       False   \n",
      "720          False       True        False       False       False   \n",
      "\n",
      "     Type_Ground  Type_Ice  Type_Normal  Type_Poison  Type_Psychic  Type_Rock  \\\n",
      "0          False     False        False        False         False      False   \n",
      "1          False     False        False        False         False      False   \n",
      "2          False     False        False        False         False      False   \n",
      "3          False     False        False        False         False      False   \n",
      "4          False     False        False        False         False      False   \n",
      "..           ...       ...          ...          ...           ...        ...   \n",
      "716        False     False        False        False         False      False   \n",
      "717        False     False        False        False         False      False   \n",
      "718        False     False        False        False         False       True   \n",
      "719        False     False        False        False          True      False   \n",
      "720        False     False        False        False         False      False   \n",
      "\n",
      "     Type_Steel  Type_Water  \n",
      "0         False       False  \n",
      "1         False       False  \n",
      "2         False       False  \n",
      "3         False       False  \n",
      "4         False       False  \n",
      "..          ...         ...  \n",
      "716       False       False  \n",
      "717       False       False  \n",
      "718       False       False  \n",
      "719       False       False  \n",
      "720       False       False  \n",
      "\n",
      "[721 rows x 19 columns]\n"
     ]
    }
   ],
   "source": [
    "#Tür verilerini one-hot encoding ile dönüştürme\n",
    "df_encoded = pd.get_dummies(df, columns=['Type'])\n",
    "print(df_encoded)"
   ]
  },
  {
   "cell_type": "code",
   "execution_count": 13,
   "id": "df17c65d-4605-4d99-84e9-5b96c93108d9",
   "metadata": {},
   "outputs": [
    {
     "name": "stdout",
     "output_type": "stream",
     "text": [
      "             Type  Type_Code\n",
      "Pokemon                     \n",
      "Bulbasaur   Grass          0\n",
      "Ivysaur     Grass          0\n",
      "Venusaur    Grass          0\n",
      "Charmander   Fire          1\n",
      "Charmeleon   Fire          1\n",
      "Charizard    Fire          1\n",
      "Squirtle    Water          2\n",
      "Wartortle   Water          2\n",
      "Blastoise   Water          2\n",
      "Caterpie      Bug          3\n",
      "\n",
      "Tür Kodları:\n",
      "Grass: 0\n",
      "Fire: 1\n",
      "Water: 2\n",
      "Bug: 3\n",
      "Normal: 4\n",
      "Poison: 5\n",
      "Electric: 6\n",
      "Ground: 7\n",
      "Fairy: 8\n",
      "Fighting: 9\n",
      "Psychic: 10\n",
      "Rock: 11\n",
      "Ghost: 12\n",
      "Ice: 13\n",
      "Dragon: 14\n",
      "Dark: 15\n",
      "Steel: 16\n",
      "Flying: 17\n"
     ]
    }
   ],
   "source": [
    "#Pokemon türlerini benzersiz kodlara dönüştürelim\n",
    "pokemon_types=df['Type'].unique()\n",
    "type_coding = {type:i for i, type in enumerate(pokemon_types)}\n",
    "\n",
    "#Yeni bir sütun oluşturalım ve kodları atayalım\n",
    "df['Type_Code'] = df['Type'].map(type_coding)\n",
    "df_indexed = df.set_index('Pokemon')\n",
    "\n",
    "print(df_indexed.head(10))\n",
    "\n",
    "#Tüm kodları ve karşılık gelen türleri görelim\n",
    "print(\"\\nTür Kodları:\")\n",
    "for type, code in type_coding.items():\n",
    "    print(f\"{type}: {code}\")"
   ]
  },
  {
   "cell_type": "markdown",
   "id": "ae759f36-4399-4637-bbbb-f6569f62f4bf",
   "metadata": {},
   "source": [
    "Veri Analizi ve Görselleştirme"
   ]
  },
  {
   "cell_type": "code",
   "execution_count": 14,
   "id": "b5bdc5c3-4e17-443c-8847-b9065cc2bc81",
   "metadata": {},
   "outputs": [],
   "source": [
    "import matplotlib.pyplot as plt"
   ]
  },
  {
   "cell_type": "code",
   "execution_count": 15,
   "id": "2591956a-dab8-440f-acda-037fccb55322",
   "metadata": {},
   "outputs": [
    {
     "data": {
      "image/png": "[encoded data removed]",
      "text/plain": [
       "<Figure size 1200x600 with 1 Axes>"
      ]
     },
     "metadata": {},
     "output_type": "display_data"
    }
   ],
   "source": [
    "# Tür dağılımını görselleştirme\n",
    "types_counts = df['Type'].value_counts()\n",
    "plt.figure(figsize=(12,6))\n",
    "type_counts.plot(kind='bar')\n",
    "plt.title('Pokemon Türlerinin Dağılımı')\n",
    "plt.xlabel('Tür')\n",
    "plt.ylabel('Pokemon Sayısı')\n",
    "plt.xticks(rotation=45)\n",
    "plt.tight_layout()\n",
    "plt.show()"
   ]
  },
  {
   "cell_type": "code",
   "execution_count": 16,
   "id": "d6316b84-9f4b-4891-8422-95a9844df8dc",
   "metadata": {
    "jp-MarkdownHeadingCollapsed": true
   },
   "outputs": [
    {
     "data": {
      "image/png": "[encoded data removed]",
      "text/plain": [
       "<Figure size 1000x800 with 1 Axes>"
      ]
     },
     "metadata": {},
     "output_type": "display_data"
    }
   ],
   "source": [
    "# En yaygın 5 Pokemon türünü pasta grafik olarak görselleştirin.\n",
    "type_counts = df['Type'].value_counts().head()\n",
    "plt.figure(figsize=(10,8))\n",
    "type_counts.plot(kind='pie', autopct='%1.1f%%')\n",
    "plt.ylabel('')\n",
    "plt.title('En Yaygın 5 Pokemon Türü Pasta Grafi')\n",
    "plt.show()"
   ]
  },
  {
   "cell_type": "markdown",
   "id": "e4b26ab3-da3c-48eb-b5ab-edf46436e114",
   "metadata": {},
   "source": [
    "Veri Manipülasyonu"
   ]
  },
  {
   "cell_type": "code",
   "execution_count": 17,
   "id": "63b1bd5f-cd52-4861-8add-13a9bc557233",
   "metadata": {},
   "outputs": [
    {
     "name": "stdout",
     "output_type": "stream",
     "text": [
      "         Pokemon      Type  Name_length\n",
      "661  Fletchinder      Fire           11\n",
      "587   Karrablast       Bug           10\n",
      "283   Masquerain       Bug           10\n",
      "603   Eelektross  Electric           10\n",
      "597   Ferrothorn     Grass           10\n",
      "..           ...       ...          ...\n",
      "85          Seel     Water            4\n",
      "123         Jynx       Ice            4\n",
      "303         Aron     Steel            4\n",
      "150          Mew   Psychic            3\n",
      "88           Muk    Poison            3\n",
      "\n",
      "[721 rows x 3 columns]\n"
     ]
    }
   ],
   "source": [
    "#Yeni bir sütun ekleme\n",
    "df['Name_length'] = df['Pokemon'].str.len()\n",
    "\n",
    "#Pokemon adının uzunluğuna göre sıralama\n",
    "df_sorted = df.sort_values('Name_length', ascending=False)\n",
    "print(df_sorted[['Pokemon','Type','Name_length']])"
   ]
  },
  {
   "cell_type": "code",
   "execution_count": 18,
   "id": "7af8f861-f896-4f53-8110-9a8c803c3b66",
   "metadata": {},
   "outputs": [
    {
     "name": "stdout",
     "output_type": "stream",
     "text": [
      "        Pokemon      Type  Name_length\n",
      "0    Butterfree       Bug           10\n",
      "1     Poochyena      Dark            9\n",
      "2     Dragonair    Dragon            9\n",
      "3    Electabuzz  Electric           10\n",
      "4    Aromatisse     Fairy           10\n",
      "5    Hitmonchan  Fighting           10\n",
      "6   Fletchinder      Fire           11\n",
      "7      Tornadus    Flying            8\n",
      "8    Misdreavus     Ghost           10\n",
      "9    Bellsprout     Grass           10\n",
      "10   Hippopotas    Ground           10\n",
      "11    Piloswine       Ice            9\n",
      "12   Jigglypuff    Normal           10\n",
      "13    Nidoqueen    Poison            9\n",
      "14   Gothitelle   Psychic           10\n",
      "15   Aerodactyl      Rock           10\n",
      "16    Metagross     Steel            9\n",
      "17   Tentacruel     Water           10\n"
     ]
    }
   ],
   "source": [
    "#Pokemon isimlerini uzunluğuna göre hesaplayan bir sütun ekleyelim\n",
    "df['Name_length'] = df['Pokemon'].str.len()\n",
    "\n",
    "#Pokemonları türüne göre gruplandırın ve en uzun isme sahip pokemonu bulun.\n",
    "longest_name = df.loc[df.groupby('Type')['Name_length'].idxmax()].reset_index(drop=True)\n",
    "print(longest_name[['Pokemon', 'Type', 'Name_length']])"
   ]
  },
  {
   "cell_type": "code",
   "execution_count": 19,
   "id": "42a05fd0-56e0-482b-a71f-cb732a675649",
   "metadata": {},
   "outputs": [
    {
     "name": "stdout",
     "output_type": "stream",
     "text": [
      "                 Type  Name_length\n",
      "Pokemon                           \n",
      "Bellsprout      Grass           10\n",
      "Fletchinder      Fire           11\n",
      "Tentacruel      Water           10\n",
      "Butterfree        Bug           10\n",
      "Jigglypuff     Normal           10\n",
      "Nidoqueen      Poison            9\n",
      "Electabuzz   Electric           10\n",
      "Hippopotas     Ground           10\n",
      "Aromatisse      Fairy           10\n",
      "Hitmonchan   Fighting           10\n",
      "Gothitelle    Psychic           10\n",
      "Aerodactyl       Rock           10\n",
      "Misdreavus      Ghost           10\n",
      "Piloswine         Ice            9\n",
      "Dragonair      Dragon            9\n",
      "Poochyena        Dark            9\n",
      "Metagross       Steel            9\n",
      "Tornadus       Flying            8\n"
     ]
    }
   ],
   "source": [
    "#Alıştırma: Her Pokemon türü için en uzun isme sahip Pokemon'u bulun.\n",
    "#Yukarıdaki alıştırmanın diğer bir çözüm yöntemi\n",
    "\n",
    "unique_types = df['Type'].unique()\n",
    "longest_pokemon = []\n",
    "\n",
    "for type in unique_types:\n",
    "    type_group = df[df['Type'] == type]\n",
    "    longest_pokemon_in_type = type_group.loc[type_group['Pokemon'].apply(len).idxmax()]\n",
    "    longest_pokemon.append(longest_pokemon_in_type)\n",
    "\n",
    "#Listeyi bir dataframe'e dönüştürüp sonuçları ekranda görüntüle\n",
    "longest_pokemon_df = pd.DataFrame(longest_pokemon)\n",
    "print(longest_pokemon_df[['Pokemon', 'Type', 'Name_length']].set_index('Pokemon'))\n",
    "    "
   ]
  }
 ],
 "metadata": {
  "kernelspec": {
   "display_name": "Python 3 (ipykernel)",
   "language": "python",
   "name": "python3"
  },
  "language_info": {
   "codemirror_mode": {
    "name": "ipython",
    "version": 3
   },
   "file_extension": ".py",
   "mimetype": "text/x-python",
   "name": "python",
   "nbconvert_exporter": "python",
   "pygments_lexer": "ipython3",
   "version": "3.12.4"
  }
 },
 "nbformat": 4,
 "nbformat_minor": 5
}
