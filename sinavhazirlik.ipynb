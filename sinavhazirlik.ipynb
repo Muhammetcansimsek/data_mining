{
 "cells": [
  {
   "cell_type": "code",
   "execution_count": 1,
   "id": "1beebbe5-fe50-4c3d-9e8d-d95b6a0c7b69",
   "metadata": {},
   "outputs": [],
   "source": [
    "import pandas as pd\n",
    "import matplotlib.pyplot as plt"
   ]
  },
  {
   "cell_type": "code",
   "execution_count": 2,
   "id": "935fefbd-13c6-4ebf-8c94-2e44f7337fde",
   "metadata": {},
   "outputs": [
    {
     "data": {
      "text/html": [
       "<div>\n",
       "<style scoped>\n",
       "    .dataframe tbody tr th:only-of-type {\n",
       "        vertical-align: middle;\n",
       "    }\n",
       "\n",
       "    .dataframe tbody tr th {\n",
       "        vertical-align: top;\n",
       "    }\n",
       "\n",
       "    .dataframe thead th {\n",
       "        text-align: right;\n",
       "    }\n",
       "</style>\n",
       "<table border=\"1\" class=\"dataframe\">\n",
       "  <thead>\n",
       "    <tr style=\"text-align: right;\">\n",
       "      <th></th>\n",
       "      <th>Order ID</th>\n",
       "      <th>Restaurant</th>\n",
       "      <th>Amount Paid</th>\n",
       "      <th>Wait Time</th>\n",
       "      <th>Calories</th>\n",
       "    </tr>\n",
       "  </thead>\n",
       "  <tbody>\n",
       "    <tr>\n",
       "      <th>0</th>\n",
       "      <td>255334</td>\n",
       "      <td>Thai Basil</td>\n",
       "      <td>15.89</td>\n",
       "      <td>12.76</td>\n",
       "      <td>565.39</td>\n",
       "    </tr>\n",
       "    <tr>\n",
       "      <th>1</th>\n",
       "      <td>736425</td>\n",
       "      <td>Rice and Bones</td>\n",
       "      <td>5.00</td>\n",
       "      <td>2.34</td>\n",
       "      <td>475.13</td>\n",
       "    </tr>\n",
       "    <tr>\n",
       "      <th>2</th>\n",
       "      <td>853635</td>\n",
       "      <td>La Burrita</td>\n",
       "      <td>13.29</td>\n",
       "      <td>7.59</td>\n",
       "      <td>373.89</td>\n",
       "    </tr>\n",
       "    <tr>\n",
       "      <th>3</th>\n",
       "      <td>134546</td>\n",
       "      <td>Stuffed Inn</td>\n",
       "      <td>12.50</td>\n",
       "      <td>20.55</td>\n",
       "      <td>360.23</td>\n",
       "    </tr>\n",
       "    <tr>\n",
       "      <th>4</th>\n",
       "      <td>953624</td>\n",
       "      <td>Yifang</td>\n",
       "      <td>4.89</td>\n",
       "      <td>0.64</td>\n",
       "      <td>332.21</td>\n",
       "    </tr>\n",
       "  </tbody>\n",
       "</table>\n",
       "</div>"
      ],
      "text/plain": [
       "   Order ID      Restaurant  Amount Paid  Wait Time  Calories\n",
       "0    255334      Thai Basil        15.89      12.76    565.39\n",
       "1    736425  Rice and Bones         5.00       2.34    475.13\n",
       "2    853635      La Burrita        13.29       7.59    373.89\n",
       "3    134546     Stuffed Inn        12.50      20.55    360.23\n",
       "4    953624          Yifang         4.89       0.64    332.21"
      ]
     },
     "execution_count": 2,
     "metadata": {},
     "output_type": "execute_result"
    }
   ],
   "source": [
    "yemek = pd.DataFrame({\n",
    "    'Order ID':[255334, 736425, 853635, 134546, 953624],\n",
    "    'Restaurant': ['Thai Basil', 'Rice and Bones', 'La Burrita', 'Stuffed Inn', 'Yifang'],\n",
    "    'Amount Paid': [15.89, 5.00, 13.29, 12.50, 4.89],\n",
    "    'Wait Time': [12.76, 2.34, 7.59, 20.55, 0.64],\n",
    "    'Calories': [565.39, 475.13, 373.89, 360.23, 332.21]\n",
    "})\n",
    "yemek"
   ]
  },
  {
   "cell_type": "code",
   "execution_count": 3,
   "id": "032199dd-0845-4f5b-b887-a44b64bc9747",
   "metadata": {},
   "outputs": [
    {
     "name": "stdout",
     "output_type": "stream",
     "text": [
      "Medyan: 7.59\n",
      "Ortalama: 8.776\n",
      "IQR: 10.42\n"
     ]
    },
    {
     "data": {
      "image/png": "[encoded data removed]",
      "text/plain": [
       "<Figure size 640x480 with 1 Axes>"
      ]
     },
     "metadata": {},
     "output_type": "display_data"
    }
   ],
   "source": [
    "#Box plot değerlerini hesaplama\n",
    "#2023 sınav 2. soru örneği\n",
    "\n",
    "def boxplot_stats(df, column):\n",
    "    q1 = df[column].quantile(0.25)\n",
    "    q3 = df[column].quantile(0.75)\n",
    "    iqr = q3 - q1\n",
    "    median = df[column].median()\n",
    "    mean = df[column].mean()\n",
    "\n",
    "    print(f\"Medyan: {median}\")\n",
    "    print(f\"Ortalama: {mean}\")\n",
    "    print(f\"IQR: {iqr}\")\n",
    "\n",
    "    #Box plot çiz\n",
    "    plt.boxplot(df[column])\n",
    "    plt.title(f'{column} Box Plot')\n",
    "    plt.ylabel(f'{column}(minutes)')\n",
    "    plt.show()\n",
    "    \n",
    "boxplot_stats(yemek, 'Wait Time')"
   ]
  },
  {
   "cell_type": "code",
   "execution_count": 4,
   "id": "04aabad3-88f1-4b05-b4bd-e80a983d0bfd",
   "metadata": {},
   "outputs": [
    {
     "data": {
      "text/html": [
       "<div>\n",
       "<style scoped>\n",
       "    .dataframe tbody tr th:only-of-type {\n",
       "        vertical-align: middle;\n",
       "    }\n",
       "\n",
       "    .dataframe tbody tr th {\n",
       "        vertical-align: top;\n",
       "    }\n",
       "\n",
       "    .dataframe thead th {\n",
       "        text-align: right;\n",
       "    }\n",
       "</style>\n",
       "<table border=\"1\" class=\"dataframe\">\n",
       "  <thead>\n",
       "    <tr style=\"text-align: right;\">\n",
       "      <th></th>\n",
       "      <th>age</th>\n",
       "      <th>color</th>\n",
       "      <th>fur</th>\n",
       "      <th>name</th>\n",
       "    </tr>\n",
       "    <tr>\n",
       "      <th>id</th>\n",
       "      <th></th>\n",
       "      <th></th>\n",
       "      <th></th>\n",
       "      <th></th>\n",
       "    </tr>\n",
       "  </thead>\n",
       "  <tbody>\n",
       "    <tr>\n",
       "      <th>123</th>\n",
       "      <td>4</td>\n",
       "      <td>brown</td>\n",
       "      <td>shaggy</td>\n",
       "      <td>odie</td>\n",
       "    </tr>\n",
       "    <tr>\n",
       "      <th>456</th>\n",
       "      <td>3</td>\n",
       "      <td>grey</td>\n",
       "      <td>short</td>\n",
       "      <td>gabe</td>\n",
       "    </tr>\n",
       "    <tr>\n",
       "      <th>821</th>\n",
       "      <td>6</td>\n",
       "      <td>golden</td>\n",
       "      <td>curly</td>\n",
       "      <td>samosa</td>\n",
       "    </tr>\n",
       "    <tr>\n",
       "      <th>198</th>\n",
       "      <td>4</td>\n",
       "      <td>grey</td>\n",
       "      <td>shaggy</td>\n",
       "      <td>gabe</td>\n",
       "    </tr>\n",
       "    <tr>\n",
       "      <th>3</th>\n",
       "      <td>2</td>\n",
       "      <td>black</td>\n",
       "      <td>curly</td>\n",
       "      <td>bob barker</td>\n",
       "    </tr>\n",
       "    <tr>\n",
       "      <th>42</th>\n",
       "      <td>5</td>\n",
       "      <td>brown</td>\n",
       "      <td>shaggy</td>\n",
       "      <td>odie</td>\n",
       "    </tr>\n",
       "  </tbody>\n",
       "</table>\n",
       "</div>"
      ],
      "text/plain": [
       "     age   color     fur        name\n",
       "id                                  \n",
       "123    4   brown  shaggy        odie\n",
       "456    3    grey   short        gabe\n",
       "821    6  golden   curly      samosa\n",
       "198    4    grey  shaggy        gabe\n",
       "3      2   black   curly  bob barker\n",
       "42     5   brown  shaggy        odie"
      ]
     },
     "execution_count": 4,
     "metadata": {},
     "output_type": "execute_result"
    }
   ],
   "source": [
    "dogs = pd.DataFrame({\n",
    "    'id': [123,456,821,198,3,42],\n",
    "    'age':[4,3,6,4,2,5],\n",
    "    'color':['brown', 'grey', 'golden', 'grey', 'black', 'brown'],\n",
    "    'fur':['shaggy', 'short', 'curly', 'shaggy', 'curly', 'shaggy'],\n",
    "    'name':['odie', 'gabe', 'samosa', 'gabe', 'bob barker', 'odie']\n",
    "}).set_index('id')\n",
    "\n",
    "dogs"
   ]
  },
  {
   "cell_type": "code",
   "execution_count": 5,
   "id": "60c95b56-4970-438e-a4ed-d5df1be56a30",
   "metadata": {},
   "outputs": [
    {
     "data": {
      "text/plain": [
       "id\n",
       "821    samosa\n",
       "Name: name, dtype: object"
      ]
     },
     "execution_count": 5,
     "metadata": {},
     "output_type": "execute_result"
    }
   ],
   "source": [
    "# select name from dogs where age in (select max(age) from dogs)\n",
    "dogs.loc[dogs['age'] == dogs['age'].max(), 'name']"
   ]
  },
  {
   "cell_type": "code",
   "execution_count": 6,
   "id": "30b0dd8e-a984-4ca7-8d33-dc6bff98075b",
   "metadata": {},
   "outputs": [
    {
     "data": {
      "text/plain": [
       "13"
      ]
     },
     "execution_count": 6,
     "metadata": {},
     "output_type": "execute_result"
    }
   ],
   "source": [
    "# select sum(age) from dogs a right join (select fur, count(*) from dogs group by fur having count(*) > 2) b on a.fur=b.fur\n",
    "\n",
    "#fur_counts = dogs.groupby('fur').size()\n",
    "fur_counts = dogs.fur.value_counts()\n",
    "#Örnek çıktı :\n",
    "# shaggy   3\n",
    "# curly    2\n",
    "# short    1\n",
    "\n",
    "# en fazla tekrar eden fur türlerinin indekslerini(fur türlerini) al\n",
    "dogs[dogs['fur'].isin(fur_counts[fur_counts > 2].index)]['age'].sum()"
   ]
  },
  {
   "cell_type": "code",
   "execution_count": 7,
   "id": "80176cf7-97fb-4c88-bea9-57d46da41b60",
   "metadata": {},
   "outputs": [
    {
     "data": {
      "text/plain": [
       "13"
      ]
     },
     "execution_count": 7,
     "metadata": {},
     "output_type": "execute_result"
    }
   ],
   "source": [
    "# Yukarıdaki sorunun tek satırda çözümü\n",
    "dogs[dogs.fur == dogs.fur.value_counts().index[0]].age.sum()"
   ]
  },
  {
   "cell_type": "code",
   "execution_count": 8,
   "id": "40b48933-f47d-4468-b559-b0e25aa20aa2",
   "metadata": {},
   "outputs": [
    {
     "data": {
      "text/html": [
       "<div>\n",
       "<style scoped>\n",
       "    .dataframe tbody tr th:only-of-type {\n",
       "        vertical-align: middle;\n",
       "    }\n",
       "\n",
       "    .dataframe tbody tr th {\n",
       "        vertical-align: top;\n",
       "    }\n",
       "\n",
       "    .dataframe thead th {\n",
       "        text-align: right;\n",
       "    }\n",
       "</style>\n",
       "<table border=\"1\" class=\"dataframe\">\n",
       "  <thead>\n",
       "    <tr style=\"text-align: right;\">\n",
       "      <th></th>\n",
       "      <th>name</th>\n",
       "      <th>age</th>\n",
       "      <th>score</th>\n",
       "      <th>age_missing_data</th>\n",
       "      <th>income</th>\n",
       "      <th>gender</th>\n",
       "    </tr>\n",
       "  </thead>\n",
       "  <tbody>\n",
       "    <tr>\n",
       "      <th>0</th>\n",
       "      <td>James</td>\n",
       "      <td>30</td>\n",
       "      <td>90%</td>\n",
       "      <td>30.0</td>\n",
       "      <td>100000</td>\n",
       "      <td>Male</td>\n",
       "    </tr>\n",
       "    <tr>\n",
       "      <th>1</th>\n",
       "      <td>Jane</td>\n",
       "      <td>40</td>\n",
       "      <td>95%</td>\n",
       "      <td>40.0</td>\n",
       "      <td>80000</td>\n",
       "      <td>Female</td>\n",
       "    </tr>\n",
       "    <tr>\n",
       "      <th>2</th>\n",
       "      <td>Melissa</td>\n",
       "      <td>32</td>\n",
       "      <td>100%</td>\n",
       "      <td>32.0</td>\n",
       "      <td>55000</td>\n",
       "      <td>Female</td>\n",
       "    </tr>\n",
       "    <tr>\n",
       "      <th>3</th>\n",
       "      <td>Ed</td>\n",
       "      <td>67</td>\n",
       "      <td>82%</td>\n",
       "      <td>67.0</td>\n",
       "      <td>62000</td>\n",
       "      <td>Male</td>\n",
       "    </tr>\n",
       "    <tr>\n",
       "      <th>4</th>\n",
       "      <td>Neil</td>\n",
       "      <td>43</td>\n",
       "      <td>87%</td>\n",
       "      <td>NaN</td>\n",
       "      <td>120000</td>\n",
       "      <td>Male</td>\n",
       "    </tr>\n",
       "  </tbody>\n",
       "</table>\n",
       "</div>"
      ],
      "text/plain": [
       "      name  age score  age_missing_data  income  gender\n",
       "0    James   30   90%              30.0  100000    Male\n",
       "1     Jane   40   95%              40.0   80000  Female\n",
       "2  Melissa   32  100%              32.0   55000  Female\n",
       "3       Ed   67   82%              67.0   62000    Male\n",
       "4     Neil   43   87%               NaN  120000    Male"
      ]
     },
     "execution_count": 8,
     "metadata": {},
     "output_type": "execute_result"
    }
   ],
   "source": [
    "employee = pd.DataFrame({\n",
    "    'name':['James', 'Jane', 'Melissa', 'Ed', 'Neil'],\n",
    "    'age':[30,40,32,67,43],\n",
    "    'score':['90%','95%','100%','82%','87%'],\n",
    "    'age_missing_data':[30.0,40.0,32.0,67.0,float('nan')],\n",
    "    'income':[100000,80000,55000,62000,120000],\n",
    "    'gender':['Male','Female','Female','Male','Male']\n",
    "})\n",
    "employee"
   ]
  },
  {
   "cell_type": "code",
   "execution_count": 9,
   "id": "bb5595eb-43ee-472c-b961-d4f8e7381cbe",
   "metadata": {},
   "outputs": [
    {
     "data": {
      "text/html": [
       "<div>\n",
       "<style scoped>\n",
       "    .dataframe tbody tr th:only-of-type {\n",
       "        vertical-align: middle;\n",
       "    }\n",
       "\n",
       "    .dataframe tbody tr th {\n",
       "        vertical-align: top;\n",
       "    }\n",
       "\n",
       "    .dataframe thead th {\n",
       "        text-align: right;\n",
       "    }\n",
       "</style>\n",
       "<table border=\"1\" class=\"dataframe\">\n",
       "  <thead>\n",
       "    <tr style=\"text-align: right;\">\n",
       "      <th></th>\n",
       "      <th>name</th>\n",
       "      <th>age</th>\n",
       "      <th>score</th>\n",
       "      <th>age_missing_data</th>\n",
       "      <th>income</th>\n",
       "      <th>gender</th>\n",
       "      <th>bonus</th>\n",
       "    </tr>\n",
       "  </thead>\n",
       "  <tbody>\n",
       "    <tr>\n",
       "      <th>0</th>\n",
       "      <td>James</td>\n",
       "      <td>30</td>\n",
       "      <td>90%</td>\n",
       "      <td>30.0</td>\n",
       "      <td>100000</td>\n",
       "      <td>Male</td>\n",
       "      <td>833.333333</td>\n",
       "    </tr>\n",
       "    <tr>\n",
       "      <th>1</th>\n",
       "      <td>Jane</td>\n",
       "      <td>40</td>\n",
       "      <td>95%</td>\n",
       "      <td>40.0</td>\n",
       "      <td>80000</td>\n",
       "      <td>Female</td>\n",
       "      <td>600.000000</td>\n",
       "    </tr>\n",
       "    <tr>\n",
       "      <th>2</th>\n",
       "      <td>Melissa</td>\n",
       "      <td>32</td>\n",
       "      <td>100%</td>\n",
       "      <td>32.0</td>\n",
       "      <td>55000</td>\n",
       "      <td>Female</td>\n",
       "      <td>515.625000</td>\n",
       "    </tr>\n",
       "    <tr>\n",
       "      <th>3</th>\n",
       "      <td>Ed</td>\n",
       "      <td>67</td>\n",
       "      <td>82%</td>\n",
       "      <td>67.0</td>\n",
       "      <td>62000</td>\n",
       "      <td>Male</td>\n",
       "      <td>231.343284</td>\n",
       "    </tr>\n",
       "    <tr>\n",
       "      <th>4</th>\n",
       "      <td>Neil</td>\n",
       "      <td>43</td>\n",
       "      <td>87%</td>\n",
       "      <td>NaN</td>\n",
       "      <td>120000</td>\n",
       "      <td>Male</td>\n",
       "      <td>697.674419</td>\n",
       "    </tr>\n",
       "  </tbody>\n",
       "</table>\n",
       "</div>"
      ],
      "text/plain": [
       "      name  age score  age_missing_data  income  gender       bonus\n",
       "0    James   30   90%              30.0  100000    Male  833.333333\n",
       "1     Jane   40   95%              40.0   80000  Female  600.000000\n",
       "2  Melissa   32  100%              32.0   55000  Female  515.625000\n",
       "3       Ed   67   82%              67.0   62000    Male  231.343284\n",
       "4     Neil   43   87%               NaN  120000    Male  697.674419"
      ]
     },
     "execution_count": 9,
     "metadata": {},
     "output_type": "execute_result"
    }
   ],
   "source": [
    "# employee DataFrame’i Şekil 1’den Şekil 2’deki duruma getirilmiştir. Bu sonucu elde etmek için gerekli kodu\n",
    "#yazınız. Son sütun için hesaplama şu şekilde yapılmıştır. Erkekler için : income / age *0.25 Kadınlar için :\n",
    "#income / age *0.30. B\n",
    "\n",
    "def bonus(row):\n",
    "    if row['gender'] == 'Male':\n",
    "        return (row['income'] / row['age'])*0.25\n",
    "    else:\n",
    "        return (row['income'] / row['age'])*0.30\n",
    "\n",
    "employee['bonus']=employee.apply(bonus, axis=1)\n",
    "employee"
   ]
  },
  {
   "cell_type": "code",
   "execution_count": 10,
   "id": "14118e0e-7fc4-4a7c-8f7b-6318ab4517f6",
   "metadata": {},
   "outputs": [
    {
     "data": {
      "text/plain": [
       "4    Neil\n",
       "Name: name, dtype: object"
      ]
     },
     "execution_count": 10,
     "metadata": {},
     "output_type": "execute_result"
    }
   ],
   "source": [
    "# employee veri setindeki en yüksek maaşa sahip çalışanın adı\n",
    "#employee[employee.income == employee.income.max()].name\n",
    "employee.loc[employee['income'] == employee['income'].max(), 'name']"
   ]
  },
  {
   "cell_type": "code",
   "execution_count": 11,
   "id": "dc61a1bd-a5b1-4549-ab5a-6f554e49476b",
   "metadata": {},
   "outputs": [
    {
     "data": {
      "text/plain": [
       "3      Ed\n",
       "4    Neil\n",
       "Name: name, dtype: object"
      ]
     },
     "execution_count": 11,
     "metadata": {},
     "output_type": "execute_result"
    }
   ],
   "source": [
    "# employee veri setindeki kırk yaş ve üzeri çalışanlar\n",
    "employee[employee.age > 40].name"
   ]
  },
  {
   "cell_type": "code",
   "execution_count": 12,
   "id": "17f47d05-16af-49c6-81cf-f16bcf2e9f36",
   "metadata": {},
   "outputs": [
    {
     "data": {
      "text/plain": [
       "'samosa'"
      ]
     },
     "execution_count": 12,
     "metadata": {},
     "output_type": "execute_result"
    }
   ],
   "source": [
    "# dogs dataframe'indeki en yaşlı köpeğin ismini bulan kod parçacığı\n",
    "#dogs[dogs.age == dogs.age.max()].name.iloc[0]\n",
    "dogs.loc[ dogs['age'] == dogs['age'].max(), 'name' ].iloc[0]"
   ]
  },
  {
   "cell_type": "code",
   "execution_count": 13,
   "id": "767aa599-1877-42b3-8f9f-f97db63b0128",
   "metadata": {},
   "outputs": [
    {
     "name": "stdout",
     "output_type": "stream",
     "text": [
      "Medyan: 12.5\n",
      "\n",
      "Q1(25.percentile) değeri: 5.0\n",
      "\n",
      "Q2(75.percentile) değeri: 13.29\n"
     ]
    },
    {
     "data": {
      "image/png": "[encoded data removed]",
      "text/plain": [
       "<Figure size 640x480 with 1 Axes>"
      ]
     },
     "metadata": {},
     "output_type": "display_data"
    }
   ],
   "source": [
    "#(15p) YemekSepeti DataFrame'inde 'Amount Paid' sütunu için aşağıdaki istatistikleri hesaplayınız:\n",
    "# Medyan değeri\n",
    "# Q1\n",
    "# Q3\n",
    "# IQR değeri\n",
    "# box-plot grafiği ile gösterimi\n",
    "def amount_paid_stats(df, column):\n",
    "    q1 = df[column].quantile(0.25)\n",
    "    q3 = df[column].quantile(0.75)\n",
    "    iqr = q3 - q1 \n",
    "    median = df[column].median()\n",
    "\n",
    "    print(f'Medyan: {median}')\n",
    "    print(f'\\nQ1(25.percentile) değeri: {q1}')\n",
    "    print(f'\\nQ2(75.percentile) değeri: {q3}')\n",
    "\n",
    "    plt.boxplot(df[column])\n",
    "    plt.ylabel(f'{column}')\n",
    "    plt.title(f'{column} Boxplot')\n",
    "    plt.show()\n",
    "\n",
    "amount_paid_stats(yemek, 'Amount Paid')\n",
    "    "
   ]
  },
  {
   "cell_type": "code",
   "execution_count": 14,
   "id": "a3c3a8a4-1651-4f65-bc1b-7325de0412c7",
   "metadata": {},
   "outputs": [],
   "source": [
    "# employee Dataframe'ine yeni bir 'performance_bonus' sütunu ekleyin. Hesaplamalar şu şekilde yapılacaktır:\n",
    "# Eğer skor %90 üzerindeyse: income*0.15\n",
    "# Eğer skor %80-%89 arasındaysa: income*0.10\n",
    "# Diğer tüm sütunlar için: income*0.05\n",
    "# Not: score sütunundaki % işaretini kaldırıp sayısal değere dönüştürmeniz gerekecektir.\n",
    "def performance_bonus(row):\n",
    "    if row['score'] >= 90:\n",
    "        return row['income']*0.15\n",
    "    elif row['score'] >= 80:\n",
    "        return row['income']*0.10\n",
    "    else:\n",
    "        return row['income']*0.05\n",
    "employee['score'] = employee['score'].str.replace('%','').astype(float)\n",
    "employee['performance_bonus'] = employee.apply(performance_bonus, axis=1)"
   ]
  },
  {
   "cell_type": "code",
   "execution_count": 15,
   "id": "966c1724-7fb9-4ad6-b00a-b51555a946d3",
   "metadata": {},
   "outputs": [
    {
     "data": {
      "text/html": [
       "<div>\n",
       "<style scoped>\n",
       "    .dataframe tbody tr th:only-of-type {\n",
       "        vertical-align: middle;\n",
       "    }\n",
       "\n",
       "    .dataframe tbody tr th {\n",
       "        vertical-align: top;\n",
       "    }\n",
       "\n",
       "    .dataframe thead th {\n",
       "        text-align: right;\n",
       "    }\n",
       "</style>\n",
       "<table border=\"1\" class=\"dataframe\">\n",
       "  <thead>\n",
       "    <tr style=\"text-align: right;\">\n",
       "      <th></th>\n",
       "      <th>name</th>\n",
       "      <th>age</th>\n",
       "      <th>score</th>\n",
       "      <th>age_missing_data</th>\n",
       "      <th>income</th>\n",
       "      <th>gender</th>\n",
       "      <th>bonus</th>\n",
       "      <th>performance_bonus</th>\n",
       "    </tr>\n",
       "  </thead>\n",
       "  <tbody>\n",
       "    <tr>\n",
       "      <th>0</th>\n",
       "      <td>James</td>\n",
       "      <td>30</td>\n",
       "      <td>90.0</td>\n",
       "      <td>30.0</td>\n",
       "      <td>100000</td>\n",
       "      <td>Male</td>\n",
       "      <td>833.333333</td>\n",
       "      <td>15000.0</td>\n",
       "    </tr>\n",
       "    <tr>\n",
       "      <th>1</th>\n",
       "      <td>Jane</td>\n",
       "      <td>40</td>\n",
       "      <td>95.0</td>\n",
       "      <td>40.0</td>\n",
       "      <td>80000</td>\n",
       "      <td>Female</td>\n",
       "      <td>600.000000</td>\n",
       "      <td>12000.0</td>\n",
       "    </tr>\n",
       "    <tr>\n",
       "      <th>2</th>\n",
       "      <td>Melissa</td>\n",
       "      <td>32</td>\n",
       "      <td>100.0</td>\n",
       "      <td>32.0</td>\n",
       "      <td>55000</td>\n",
       "      <td>Female</td>\n",
       "      <td>515.625000</td>\n",
       "      <td>8250.0</td>\n",
       "    </tr>\n",
       "    <tr>\n",
       "      <th>3</th>\n",
       "      <td>Ed</td>\n",
       "      <td>67</td>\n",
       "      <td>82.0</td>\n",
       "      <td>67.0</td>\n",
       "      <td>62000</td>\n",
       "      <td>Male</td>\n",
       "      <td>231.343284</td>\n",
       "      <td>6200.0</td>\n",
       "    </tr>\n",
       "    <tr>\n",
       "      <th>4</th>\n",
       "      <td>Neil</td>\n",
       "      <td>43</td>\n",
       "      <td>87.0</td>\n",
       "      <td>NaN</td>\n",
       "      <td>120000</td>\n",
       "      <td>Male</td>\n",
       "      <td>697.674419</td>\n",
       "      <td>12000.0</td>\n",
       "    </tr>\n",
       "  </tbody>\n",
       "</table>\n",
       "</div>"
      ],
      "text/plain": [
       "      name  age  score  age_missing_data  income  gender       bonus  \\\n",
       "0    James   30   90.0              30.0  100000    Male  833.333333   \n",
       "1     Jane   40   95.0              40.0   80000  Female  600.000000   \n",
       "2  Melissa   32  100.0              32.0   55000  Female  515.625000   \n",
       "3       Ed   67   82.0              67.0   62000    Male  231.343284   \n",
       "4     Neil   43   87.0               NaN  120000    Male  697.674419   \n",
       "\n",
       "   performance_bonus  \n",
       "0            15000.0  \n",
       "1            12000.0  \n",
       "2             8250.0  \n",
       "3             6200.0  \n",
       "4            12000.0  "
      ]
     },
     "execution_count": 15,
     "metadata": {},
     "output_type": "execute_result"
    }
   ],
   "source": [
    "employee"
   ]
  },
  {
   "cell_type": "code",
   "execution_count": 16,
   "id": "448515c3-4da3-4641-abd0-4d3b003d13d2",
   "metadata": {},
   "outputs": [
    {
     "data": {
      "text/plain": [
       "fur\n",
       "curly     2\n",
       "shaggy    3\n",
       "dtype: int64"
      ]
     },
     "execution_count": 16,
     "metadata": {},
     "output_type": "execute_result"
    }
   ],
   "source": [
    "# 'dogs' DataFrame'inde 'fur' tipine göre gruplandırma yapıp, her bir gruptaki köpek sayısını bulunuz ve sayıya göre azalan şekilde sıralayınız.\n",
    "# Sadece 1'den fazla köpeği olan fur tiplerini gösteriniz.\n",
    "\n",
    "#fur_counts = dogs.fur.value_counts()\n",
    "#fur_counts[fur_counts > 1]\n",
    "\n",
    "#fur_counts = dogs.groupby('fur').size().sort_values(ascending=True)\n",
    "#fur_counts[fur_counts > 1]\n",
    "\n",
    "#Tek satırda aşağıdaki şekilde de yazılabilir:\n",
    "dogs.groupby('fur').size()[dogs.groupby('fur').size() > 1].sort_values(ascending=True)\n"
   ]
  },
  {
   "cell_type": "code",
   "execution_count": 17,
   "id": "c433b92e-e8b0-4037-8d61-409fdd5c8d98",
   "metadata": {},
   "outputs": [
    {
     "data": {
      "text/html": [
       "<div>\n",
       "<style scoped>\n",
       "    .dataframe tbody tr th:only-of-type {\n",
       "        vertical-align: middle;\n",
       "    }\n",
       "\n",
       "    .dataframe tbody tr th {\n",
       "        vertical-align: top;\n",
       "    }\n",
       "\n",
       "    .dataframe thead th {\n",
       "        text-align: right;\n",
       "    }\n",
       "</style>\n",
       "<table border=\"1\" class=\"dataframe\">\n",
       "  <thead>\n",
       "    <tr style=\"text-align: right;\">\n",
       "      <th></th>\n",
       "      <th>name</th>\n",
       "      <th>age</th>\n",
       "      <th>score</th>\n",
       "      <th>age_missing_data</th>\n",
       "      <th>income</th>\n",
       "      <th>gender</th>\n",
       "      <th>bonus</th>\n",
       "      <th>performance_bonus</th>\n",
       "      <th>data_complete</th>\n",
       "    </tr>\n",
       "  </thead>\n",
       "  <tbody>\n",
       "    <tr>\n",
       "      <th>0</th>\n",
       "      <td>James</td>\n",
       "      <td>30</td>\n",
       "      <td>90.0</td>\n",
       "      <td>30.0</td>\n",
       "      <td>100000</td>\n",
       "      <td>Male</td>\n",
       "      <td>833.333333</td>\n",
       "      <td>15000.0</td>\n",
       "      <td>Original</td>\n",
       "    </tr>\n",
       "    <tr>\n",
       "      <th>1</th>\n",
       "      <td>Jane</td>\n",
       "      <td>40</td>\n",
       "      <td>95.0</td>\n",
       "      <td>40.0</td>\n",
       "      <td>80000</td>\n",
       "      <td>Female</td>\n",
       "      <td>600.000000</td>\n",
       "      <td>12000.0</td>\n",
       "      <td>Original</td>\n",
       "    </tr>\n",
       "    <tr>\n",
       "      <th>2</th>\n",
       "      <td>Melissa</td>\n",
       "      <td>32</td>\n",
       "      <td>100.0</td>\n",
       "      <td>32.0</td>\n",
       "      <td>55000</td>\n",
       "      <td>Female</td>\n",
       "      <td>515.625000</td>\n",
       "      <td>8250.0</td>\n",
       "      <td>Original</td>\n",
       "    </tr>\n",
       "    <tr>\n",
       "      <th>3</th>\n",
       "      <td>Ed</td>\n",
       "      <td>67</td>\n",
       "      <td>82.0</td>\n",
       "      <td>67.0</td>\n",
       "      <td>62000</td>\n",
       "      <td>Male</td>\n",
       "      <td>231.343284</td>\n",
       "      <td>6200.0</td>\n",
       "      <td>Original</td>\n",
       "    </tr>\n",
       "    <tr>\n",
       "      <th>4</th>\n",
       "      <td>Neil</td>\n",
       "      <td>43</td>\n",
       "      <td>87.0</td>\n",
       "      <td>48.0</td>\n",
       "      <td>120000</td>\n",
       "      <td>Male</td>\n",
       "      <td>697.674419</td>\n",
       "      <td>12000.0</td>\n",
       "      <td>Filled</td>\n",
       "    </tr>\n",
       "  </tbody>\n",
       "</table>\n",
       "</div>"
      ],
      "text/plain": [
       "      name  age  score  age_missing_data  income  gender       bonus  \\\n",
       "0    James   30   90.0              30.0  100000    Male  833.333333   \n",
       "1     Jane   40   95.0              40.0   80000  Female  600.000000   \n",
       "2  Melissa   32  100.0              32.0   55000  Female  515.625000   \n",
       "3       Ed   67   82.0              67.0   62000    Male  231.343284   \n",
       "4     Neil   43   87.0              48.0  120000    Male  697.674419   \n",
       "\n",
       "   performance_bonus data_complete  \n",
       "0            15000.0      Original  \n",
       "1            12000.0      Original  \n",
       "2             8250.0      Original  \n",
       "3             6200.0      Original  \n",
       "4            12000.0        Filled  "
      ]
     },
     "execution_count": 17,
     "metadata": {},
     "output_type": "execute_result"
    }
   ],
   "source": [
    "# employee DataFrame'inde eksik değer içeren satırları tespit ediniz ve bu satırları aşağıdaki kurallara göre doldurunuz:\n",
    "# age_missing_data sütunundaki eksik değerleri, aynı cinsiyetteki kişilerin yaş ortalaması ile doldurunuz\n",
    "# Yeni bir sütun ekleyerek ('data_complete'), hangi satırlarda orijinal değer, hangi satırlarda doldurulmuş değer olduğunu belirtiniz.\n",
    "\n",
    "#Eksik değerleri kontrol et\n",
    "employee['age_missing_data'].isna()\n",
    "\n",
    "employee['data_complete'] = 'Original'\n",
    "employee.loc[employee['age_missing_data'].isna(), 'data_complete'] = 'Filled'\n",
    "\n",
    "#Eksik değerleri her cinsiyet için kendi yaş ortalamasıyla dolduralım\n",
    "employee['age_missing_data'] = employee['age_missing_data'].fillna(employee.groupby('gender')['age_missing_data'].transform('mean')).round()\n",
    "employee"
   ]
  },
  {
   "cell_type": "code",
   "execution_count": 18,
   "id": "3fa1601c-bf58-4d23-8a23-8049cef031aa",
   "metadata": {},
   "outputs": [
    {
     "data": {
      "text/html": [
       "<div>\n",
       "<style scoped>\n",
       "    .dataframe tbody tr th:only-of-type {\n",
       "        vertical-align: middle;\n",
       "    }\n",
       "\n",
       "    .dataframe tbody tr th {\n",
       "        vertical-align: top;\n",
       "    }\n",
       "\n",
       "    .dataframe thead th {\n",
       "        text-align: right;\n",
       "    }\n",
       "</style>\n",
       "<table border=\"1\" class=\"dataframe\">\n",
       "  <thead>\n",
       "    <tr style=\"text-align: right;\">\n",
       "      <th></th>\n",
       "      <th>avg_age</th>\n",
       "      <th>count</th>\n",
       "    </tr>\n",
       "    <tr>\n",
       "      <th>color</th>\n",
       "      <th></th>\n",
       "      <th></th>\n",
       "    </tr>\n",
       "  </thead>\n",
       "  <tbody>\n",
       "    <tr>\n",
       "      <th>grey</th>\n",
       "      <td>3.5</td>\n",
       "      <td>2</td>\n",
       "    </tr>\n",
       "    <tr>\n",
       "      <th>brown</th>\n",
       "      <td>4.5</td>\n",
       "      <td>2</td>\n",
       "    </tr>\n",
       "  </tbody>\n",
       "</table>\n",
       "</div>"
      ],
      "text/plain": [
       "       avg_age  count\n",
       "color                \n",
       "grey       3.5      2\n",
       "brown      4.5      2"
      ]
     },
     "execution_count": 18,
     "metadata": {},
     "output_type": "execute_result"
    }
   ],
   "source": [
    "result = dogs.groupby('color').agg({'age':'mean'}).rename(columns={'age':'avg_age'})\n",
    "\n",
    "# result['count'] = dogs.groupby('color').size()\n",
    "result['count'] = dogs.color.value_counts()\n",
    "result[result['count'] >= 2].sort_values('avg_age', ascending=True)"
   ]
  },
  {
   "cell_type": "code",
   "execution_count": 24,
   "id": "794af9f1-83ad-4d08-85ac-f079d7d1809d",
   "metadata": {},
   "outputs": [
    {
     "name": "stdout",
     "output_type": "stream",
     "text": [
      "4\n"
     ]
    }
   ],
   "source": [
    "print(dogs['name'].unique().size)"
   ]
  },
  {
   "cell_type": "code",
   "execution_count": 25,
   "id": "7e40af1f-c97d-4055-86fd-5a0a743435e9",
   "metadata": {},
   "outputs": [
    {
     "name": "stdout",
     "output_type": "stream",
     "text": [
      "4\n"
     ]
    }
   ],
   "source": [
    "print(dogs['name'].nunique())"
   ]
  },
  {
   "cell_type": "code",
   "execution_count": null,
   "id": "7418799b-7fbf-4b19-9abf-769527d9998e",
   "metadata": {},
   "outputs": [],
   "source": []
  }
 ],
 "metadata": {
  "kernelspec": {
   "display_name": "Python 3 (ipykernel)",
   "language": "python",
   "name": "python3"
  },
  "language_info": {
   "codemirror_mode": {
    "name": "ipython",
    "version": 3
   },
   "file_extension": ".py",
   "mimetype": "text/x-python",
   "name": "python",
   "nbconvert_exporter": "python",
   "pygments_lexer": "ipython3",
   "version": "3.12.4"
  }
 },
 "nbformat": 4,
 "nbformat_minor": 5
}
