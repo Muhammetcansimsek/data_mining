{
 "cells": [
  {
   "cell_type": "code",
   "execution_count": 1,
   "id": "34fa8e23-4cbc-45b2-9725-275811055050",
   "metadata": {},
   "outputs": [],
   "source": [
    "import pandas as pd\n",
    "import numpy as np\n",
    "from sklearn.preprocessing import LabelEncoder"
   ]
  },
  {
   "cell_type": "markdown",
   "id": "f74802f5-73f5-4a2d-8bb9-40ffd4823156",
   "metadata": {},
   "source": [
    "Systematic Sampling Example"
   ]
  },
  {
   "cell_type": "code",
   "execution_count": 2,
   "id": "2af6fa50-2711-45d3-adfa-6351e763cd54",
   "metadata": {},
   "outputs": [
    {
     "name": "stdout",
     "output_type": "stream",
     "text": [
      "Orijinal veri setinin büyüklüğü: 100\n",
      "Örneklem büyüklüğü: 20\n",
      "\n",
      "İlk 5 örneklem:\n",
      "     ID       Değer\n",
      "0    1  107.450712\n",
      "5    6   96.487946\n",
      "10  11   93.048735\n",
      "15  16   91.565687\n",
      "20  21  121.984732\n"
     ]
    }
   ],
   "source": [
    "np.random.seed(42)\n",
    "\n",
    "data = pd.DataFrame({\n",
    "    'ID':range(1,101),\n",
    "    'Değer':np.random.normal(100,15,100)\n",
    "})\n",
    "\n",
    "def sistematik_ornekleme(df,orneklem_buyuklugu):\n",
    "    N = df.shape[0]\n",
    "    k = N // orneklem_buyuklugu\n",
    "\n",
    "    baslangic = np.random.randint(1, k+1)\n",
    "    secilen_indeksler = range(baslangic-1, N, k)\n",
    "    return df.iloc[secilen_indeksler]\n",
    "\n",
    "orneklem_buyuklugu=20\n",
    "orneklem = sistematik_ornekleme(data, orneklem_buyuklugu)\n",
    "\n",
    "print(\"Orijinal veri setinin büyüklüğü:\", data.shape[0])\n",
    "print(\"Örneklem büyüklüğü:\",orneklem.shape[0])\n",
    "print(\"\\nİlk 5 örneklem:\\n\", orneklem.head())"
   ]
  },
  {
   "cell_type": "markdown",
   "id": "8088d70d-cd32-406b-bbf9-bda940b7274b",
   "metadata": {},
   "source": [
    "Stratified and Weighted random sampling\n",
    "\n",
    "Tabakalı(Startified) Örnekleme: Tabakalı örnekleme, popülasyonu belirli özelliklere göre gruplara ayırıp, her tabakadan ayrı ayrı örneklem alma yöntemidir. Bu yöntem, popülasyondaki alt grupların temsilini garanti eder. Örneğin:\n",
    "- Cinsiyet bazında örnekleme(Kadın/Erkek)\n",
    "- Yaş gruplarına göre örnekleme\n",
    "- Eğitim seviyesine göre örnekleme\n",
    "\n",
    "1. Tabakalı Örnekleme(Stratified Sampling)\n",
    "   - Önce her tabakadi oranlar hesaplanır\n",
    "   - Bu oranlara göre her tabakadan kaç örnek alınacağını belirler\n",
    "   - Her tabakadan belirlenen sayıda rastgele örnek alır\n",
    "   - Örnekleri birleştirip final örneklemi oluşturur\n",
    "2. Ağırlıklı Örnekleme(Weighted Sampling)\n",
    "   - Ağırlıkları normalize eder(toplam 1 olacak şekilde)\n",
    "   - pandasın sample fonksiyonunu weights parametresi ile kullanır\n",
    "   - Belirtilen büyüklükte ağırlıklı örneklem oluşturur\n",
    "   "
   ]
  },
  {
   "cell_type": "code",
   "execution_count": 3,
   "id": "54cc8b06-3ca4-45d7-a918-6221ad275ef2",
   "metadata": {},
   "outputs": [],
   "source": [
    "np.random.seed(42)\n",
    "\n",
    "N=1000 #Popülasyon büyüklüğü\n",
    "data = pd.DataFrame({\n",
    "    'yaş':np.random.normal(35,12,N).astype(int),\n",
    "    'cinsiyet':np.random.choice(['Erkek','Kadın'],N),\n",
    "    'gelir':np.random.normal(5000,2000,N),\n",
    "    'eğitim':np.random.choice(['ilköğretim','ortaöğretim','yükseköğretim'])\n",
    "})\n",
    "\n",
    "data['yaş_grubu'] = pd.cut(\n",
    "    data['yaş'],\n",
    "    bins=[0,25,35,45,100],\n",
    "    labels=['18-25','26-35','36-45','45+']\n",
    ")"
   ]
  },
  {
   "cell_type": "code",
   "execution_count": 4,
   "id": "86323d98-348c-4891-8594-fcc4eec0274f",
   "metadata": {},
   "outputs": [
    {
     "name": "stdout",
     "output_type": "stream",
     "text": [
      "\n",
      "Orijinal veri seti yaş grubu dağılımı: yaş_grubu\n",
      "26-35    0.309309\n",
      "36-45    0.299299\n",
      "18-25    0.218218\n",
      "45+      0.173173\n",
      "Name: proportion, dtype: float64\n",
      "\n",
      "Tabakalı örneklem yaş grubu dağılımı: yaş_grubu\n",
      "26-35    0.308458\n",
      "36-45    0.298507\n",
      "18-25    0.218905\n",
      "45+      0.174129\n",
      "Name: proportion, dtype: float64\n"
     ]
    }
   ],
   "source": [
    "def tabakali_ornekleme(df,tabaka_sutunu,ornekleme_buyuklugu):\n",
    "    tabaka_oranlari = df[tabaka_sutunu].value_counts(normalize=True)\n",
    "    tabaka_orneklem_sayilari = (tabaka_oranlari*ornekleme_buyuklugu).round().astype(int)\n",
    "    tabakali_orneklem = pd.DataFrame()\n",
    "    for tabaka, n in tabaka_orneklem_sayilari.items():\n",
    "        tabaka_verisi = df[df[tabaka_sutunu]==tabaka]\n",
    "        tabaka_orneklemi = tabaka_verisi.sample(n=n, random_state=42)\n",
    "        tabakali_orneklem = pd.concat([tabakali_orneklem, tabaka_orneklemi])\n",
    "    return tabakali_orneklem\n",
    "tabakali_orneklem = tabakali_ornekleme(data,'yaş_grubu',200)\n",
    "print(\"\\nOrijinal veri seti yaş grubu dağılımı:\", data['yaş_grubu'].value_counts(normalize=True))\n",
    "print(\"\\nTabakalı örneklem yaş grubu dağılımı:\", tabakali_orneklem['yaş_grubu'].value_counts(normalize=True))"
   ]
  },
  {
   "cell_type": "code",
   "execution_count": 5,
   "id": "67a945c9-ca4b-4f3f-a137-1b68c5f58a2a",
   "metadata": {},
   "outputs": [
    {
     "name": "stdout",
     "output_type": "stream",
     "text": [
      "\n",
      "Orijinal veri seti gelir ortalaması: 5104.611031877225\n",
      "Agırlıklı örneklem gelir ortalaması: 5858.829930786858\n"
     ]
    }
   ],
   "source": [
    "def agirlikli_ornekleme(df,agirlik_sutunu,orneklem_buyuklugu):\n",
    "    df[agirlik_sutunu] = df[agirlik_sutunu].apply(lambda x: np.nan if x <= 0 else x)\n",
    "    df[agirlik_sutunu] = df[agirlik_sutunu].fillna(df[agirlik_sutunu].mean())\n",
    "    agirliklar = df[agirlik_sutunu] / df[agirlik_sutunu].sum()\n",
    "    orneklem = df.sample(n=orneklem_buyuklugu, weights = agirliklar, random_state=42)\n",
    "    return orneklem\n",
    "\n",
    "agirlikli_orneklem = agirlikli_ornekleme(data, 'gelir', 200)\n",
    "print(\"\\nOrijinal veri seti gelir ortalaması:\", data['gelir'].mean())\n",
    "print(\"Agırlıklı örneklem gelir ortalaması:\", agirlikli_orneklem['gelir'].mean())"
   ]
  },
  {
   "cell_type": "code",
   "execution_count": null,
   "id": "147cf5f0-ad3b-402f-abcf-5e4c20d78868",
   "metadata": {},
   "outputs": [],
   "source": [
    "#Pratik Alıştırmalar\n",
    "#Öncelikle tabakalı örnekleme için kodlar yeniden yazılmalısın\n",
    "def tabakali_ornekleme(df, tabaka_sutunu, orneklem_buyuklugu):\n",
    "    \n",
    "#1. Farklı bir sütuna göre tabakalı örnekleme yapın"
   ]
  }
 ],
 "metadata": {
  "kernelspec": {
   "display_name": "Python 3 (ipykernel)",
   "language": "python",
   "name": "python3"
  },
  "language_info": {
   "codemirror_mode": {
    "name": "ipython",
    "version": 3
   },
   "file_extension": ".py",
   "mimetype": "text/x-python",
   "name": "python",
   "nbconvert_exporter": "python",
   "pygments_lexer": "ipython3",
   "version": "3.12.4"
  }
 },
 "nbformat": 4,
 "nbformat_minor": 5
}
