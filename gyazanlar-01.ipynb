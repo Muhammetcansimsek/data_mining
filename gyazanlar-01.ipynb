{
 "cells": [
  {
   "cell_type": "code",
   "execution_count": 1,
   "id": "1ffce345-ad40-452d-ae34-9a04446975f8",
   "metadata": {},
   "outputs": [],
   "source": [
    "import numpy as np"
   ]
  },
  {
   "cell_type": "code",
   "execution_count": 2,
   "id": "88dac2b8-4ff1-4a52-a46f-152e880f139a",
   "metadata": {},
   "outputs": [],
   "source": [
    "population = np.random.randint(0,80,10000)"
   ]
  },
  {
   "cell_type": "code",
   "execution_count": 3,
   "id": "086f426b-7b47-4f60-bf41-31e6caa9930f",
   "metadata": {},
   "outputs": [
    {
     "data": {
      "text/plain": [
       "array([ 1, 63,  6, 73, 78, 68, 36, 16, 75, 18])"
      ]
     },
     "execution_count": 3,
     "metadata": {},
     "output_type": "execute_result"
    }
   ],
   "source": [
    "population[0:10]"
   ]
  },
  {
   "cell_type": "code",
   "execution_count": 4,
   "id": "131db4e4-1d8b-43c4-9ceb-ef78ec2d6adf",
   "metadata": {},
   "outputs": [
    {
     "data": {
      "text/plain": [
       "array([72, 50, 29, 72, 27, 23, 25, 66, 21, 18])"
      ]
     },
     "execution_count": 4,
     "metadata": {},
     "output_type": "execute_result"
    }
   ],
   "source": [
    "np.random.seed(42)\n",
    "samp = np.random.choice(a = population, size = 100)\n",
    "samp[:10]"
   ]
  },
  {
   "cell_type": "code",
   "execution_count": 5,
   "id": "6f6841e9-7efd-4bd9-85ea-0ad1f82fd2fc",
   "metadata": {},
   "outputs": [
    {
     "name": "stdout",
     "output_type": "stream",
     "text": [
      "Popülasyon ortalaması: 39.3782\n",
      "\n",
      "Örneklem ortalaması: 39.54\n"
     ]
    }
   ],
   "source": [
    "print(f\"Popülasyon ortalaması: {population.mean()}\")\n",
    "\n",
    "print(f\"\\nÖrneklem ortalaması: {samp.mean()}\")"
   ]
  },
  {
   "cell_type": "code",
   "execution_count": 6,
   "id": "e0233894-a667-41d3-834e-8482a124898e",
   "metadata": {},
   "outputs": [
    {
     "name": "stdout",
     "output_type": "stream",
     "text": [
      "Popülasyon Ortalaması: 39.52\n",
      "Örneklemlerin ortalamalarının aritmetik ortalaması: 39.38\n"
     ]
    }
   ],
   "source": [
    "from typing import List, Tuple\n",
    "def multiple_samples(\n",
    "    population: np.ndarray,\n",
    "    sample_size: int,\n",
    "    n_samples: int,\n",
    "    random_seed: int=42\n",
    ")->Tuple[List[np.ndarray], float, float]:\n",
    "    \n",
    "    samples = [\n",
    "        np.random.choice(a=population, size=sample_size)\n",
    "        for _ in range(n_samples)\n",
    "    ]\n",
    "\n",
    "    sample_means = [sample.mean() for sample in samples]\n",
    "    samples_mean = np.mean(sample_means)\n",
    "    population_mean = population.mean()\n",
    "\n",
    "    return samples, samples_mean, population_mean\n",
    "\n",
    "population = np.random.randint(0, 80, 10000)\n",
    "samples, samples_mean, population_mean = multiple_samples(\n",
    "    population=population,\n",
    "    sample_size=100,\n",
    "    n_samples=10\n",
    ")\n",
    "\n",
    "print(f\"Popülasyon Ortalaması: {population_mean:.2f}\")\n",
    "print(f\"Örneklemlerin ortalamalarının aritmetik ortalaması: {samples_mean:.2f}\") "
   ]
  },
  {
   "cell_type": "markdown",
   "id": "1cf93dff-5f71-4f6e-9ca2-5533e41bce6a",
   "metadata": {},
   "source": [
    "Betimsel İstatistikler"
   ]
  },
  {
   "cell_type": "code",
   "execution_count": 7,
   "id": "2b3b1258-86d0-453a-b00c-49043cb92a45",
   "metadata": {},
   "outputs": [
    {
     "data": {
      "text/html": [
       "<div>\n",
       "<style scoped>\n",
       "    .dataframe tbody tr th:only-of-type {\n",
       "        vertical-align: middle;\n",
       "    }\n",
       "\n",
       "    .dataframe tbody tr th {\n",
       "        vertical-align: top;\n",
       "    }\n",
       "\n",
       "    .dataframe thead th {\n",
       "        text-align: right;\n",
       "    }\n",
       "</style>\n",
       "<table border=\"1\" class=\"dataframe\">\n",
       "  <thead>\n",
       "    <tr style=\"text-align: right;\">\n",
       "      <th></th>\n",
       "      <th>total_bill</th>\n",
       "      <th>tip</th>\n",
       "      <th>sex</th>\n",
       "      <th>smoker</th>\n",
       "      <th>day</th>\n",
       "      <th>time</th>\n",
       "      <th>size</th>\n",
       "    </tr>\n",
       "  </thead>\n",
       "  <tbody>\n",
       "    <tr>\n",
       "      <th>0</th>\n",
       "      <td>16.99</td>\n",
       "      <td>1.01</td>\n",
       "      <td>Female</td>\n",
       "      <td>No</td>\n",
       "      <td>Sun</td>\n",
       "      <td>Dinner</td>\n",
       "      <td>2</td>\n",
       "    </tr>\n",
       "    <tr>\n",
       "      <th>1</th>\n",
       "      <td>10.34</td>\n",
       "      <td>1.66</td>\n",
       "      <td>Male</td>\n",
       "      <td>No</td>\n",
       "      <td>Sun</td>\n",
       "      <td>Dinner</td>\n",
       "      <td>3</td>\n",
       "    </tr>\n",
       "    <tr>\n",
       "      <th>2</th>\n",
       "      <td>21.01</td>\n",
       "      <td>3.50</td>\n",
       "      <td>Male</td>\n",
       "      <td>No</td>\n",
       "      <td>Sun</td>\n",
       "      <td>Dinner</td>\n",
       "      <td>3</td>\n",
       "    </tr>\n",
       "    <tr>\n",
       "      <th>3</th>\n",
       "      <td>23.68</td>\n",
       "      <td>3.31</td>\n",
       "      <td>Male</td>\n",
       "      <td>No</td>\n",
       "      <td>Sun</td>\n",
       "      <td>Dinner</td>\n",
       "      <td>2</td>\n",
       "    </tr>\n",
       "    <tr>\n",
       "      <th>4</th>\n",
       "      <td>24.59</td>\n",
       "      <td>3.61</td>\n",
       "      <td>Female</td>\n",
       "      <td>No</td>\n",
       "      <td>Sun</td>\n",
       "      <td>Dinner</td>\n",
       "      <td>4</td>\n",
       "    </tr>\n",
       "  </tbody>\n",
       "</table>\n",
       "</div>"
      ],
      "text/plain": [
       "   total_bill   tip     sex smoker  day    time  size\n",
       "0       16.99  1.01  Female     No  Sun  Dinner     2\n",
       "1       10.34  1.66    Male     No  Sun  Dinner     3\n",
       "2       21.01  3.50    Male     No  Sun  Dinner     3\n",
       "3       23.68  3.31    Male     No  Sun  Dinner     2\n",
       "4       24.59  3.61  Female     No  Sun  Dinner     4"
      ]
     },
     "execution_count": 7,
     "metadata": {},
     "output_type": "execute_result"
    }
   ],
   "source": [
    "import seaborn as sns\n",
    "tips = sns.load_dataset(\"tips\") # Seaborn örnek veri setlerinden olan \"tips\" veri setini yükler\n",
    "df = tips.copy() # tips veri setinin bir kopyasını df adıyla kaydeder\n",
    "df.head() # oluşturulan veri setinin ilk 5 elemanını çeker"
   ]
  },
  {
   "cell_type": "code",
   "execution_count": 8,
   "id": "4b7895b0-4e00-4ae3-92b3-cba1a546b814",
   "metadata": {},
   "outputs": [
    {
     "data": {
      "text/html": [
       "<div>\n",
       "<style scoped>\n",
       "    .dataframe tbody tr th:only-of-type {\n",
       "        vertical-align: middle;\n",
       "    }\n",
       "\n",
       "    .dataframe tbody tr th {\n",
       "        vertical-align: top;\n",
       "    }\n",
       "\n",
       "    .dataframe thead th {\n",
       "        text-align: right;\n",
       "    }\n",
       "</style>\n",
       "<table border=\"1\" class=\"dataframe\">\n",
       "  <thead>\n",
       "    <tr style=\"text-align: right;\">\n",
       "      <th></th>\n",
       "      <th>count</th>\n",
       "      <th>mean</th>\n",
       "      <th>std</th>\n",
       "      <th>min</th>\n",
       "      <th>25%</th>\n",
       "      <th>50%</th>\n",
       "      <th>75%</th>\n",
       "      <th>max</th>\n",
       "    </tr>\n",
       "  </thead>\n",
       "  <tbody>\n",
       "    <tr>\n",
       "      <th>total_bill</th>\n",
       "      <td>244.0</td>\n",
       "      <td>19.785943</td>\n",
       "      <td>8.902412</td>\n",
       "      <td>3.07</td>\n",
       "      <td>13.3475</td>\n",
       "      <td>17.795</td>\n",
       "      <td>24.1275</td>\n",
       "      <td>50.81</td>\n",
       "    </tr>\n",
       "    <tr>\n",
       "      <th>tip</th>\n",
       "      <td>244.0</td>\n",
       "      <td>2.998279</td>\n",
       "      <td>1.383638</td>\n",
       "      <td>1.00</td>\n",
       "      <td>2.0000</td>\n",
       "      <td>2.900</td>\n",
       "      <td>3.5625</td>\n",
       "      <td>10.00</td>\n",
       "    </tr>\n",
       "    <tr>\n",
       "      <th>size</th>\n",
       "      <td>244.0</td>\n",
       "      <td>2.569672</td>\n",
       "      <td>0.951100</td>\n",
       "      <td>1.00</td>\n",
       "      <td>2.0000</td>\n",
       "      <td>2.000</td>\n",
       "      <td>3.0000</td>\n",
       "      <td>6.00</td>\n",
       "    </tr>\n",
       "  </tbody>\n",
       "</table>\n",
       "</div>"
      ],
      "text/plain": [
       "            count       mean       std   min      25%     50%      75%    max\n",
       "total_bill  244.0  19.785943  8.902412  3.07  13.3475  17.795  24.1275  50.81\n",
       "tip         244.0   2.998279  1.383638  1.00   2.0000   2.900   3.5625  10.00\n",
       "size        244.0   2.569672  0.951100  1.00   2.0000   2.000   3.0000   6.00"
      ]
     },
     "execution_count": 8,
     "metadata": {},
     "output_type": "execute_result"
    }
   ],
   "source": [
    "df.describe().T # istatistikler bilgiler"
   ]
  },
  {
   "cell_type": "code",
   "execution_count": 9,
   "id": "ce454445-b244-48db-964a-7ccd3e0ccadf",
   "metadata": {},
   "outputs": [
    {
     "name": "stdout",
     "output_type": "stream",
     "text": [
      "Defaulting to user installation because normal site-packages is not writeable\n",
      "Requirement already satisfied: researchpy in c:\\users\\cansimsek\\appdata\\roaming\\python\\python312\\site-packages (0.3.6)\n",
      "Requirement already satisfied: scipy in c:\\programdata\\anaconda3\\lib\\site-packages (from researchpy) (1.13.1)\n",
      "Requirement already satisfied: numpy in c:\\programdata\\anaconda3\\lib\\site-packages (from researchpy) (1.26.4)\n",
      "Requirement already satisfied: pandas in c:\\programdata\\anaconda3\\lib\\site-packages (from researchpy) (2.2.2)\n",
      "Requirement already satisfied: statsmodels in c:\\programdata\\anaconda3\\lib\\site-packages (from researchpy) (0.14.2)\n",
      "Requirement already satisfied: patsy in c:\\programdata\\anaconda3\\lib\\site-packages (from researchpy) (0.5.6)\n",
      "Requirement already satisfied: python-dateutil>=2.8.2 in c:\\programdata\\anaconda3\\lib\\site-packages (from pandas->researchpy) (2.9.0.post0)\n",
      "Requirement already satisfied: pytz>=2020.1 in c:\\programdata\\anaconda3\\lib\\site-packages (from pandas->researchpy) (2024.1)\n",
      "Requirement already satisfied: tzdata>=2022.7 in c:\\programdata\\anaconda3\\lib\\site-packages (from pandas->researchpy) (2023.3)\n",
      "Requirement already satisfied: six in c:\\programdata\\anaconda3\\lib\\site-packages (from patsy->researchpy) (1.16.0)\n",
      "Requirement already satisfied: packaging>=21.3 in c:\\programdata\\anaconda3\\lib\\site-packages (from statsmodels->researchpy) (24.1)\n"
     ]
    }
   ],
   "source": [
    "!pip install researchpy"
   ]
  },
  {
   "cell_type": "code",
   "execution_count": 10,
   "id": "2cb126b1-7119-4f37-91b6-8498e7d5c0a9",
   "metadata": {
    "scrolled": true
   },
   "outputs": [
    {
     "name": "stdout",
     "output_type": "stream",
     "text": [
      "\n",
      "\n"
     ]
    },
    {
     "name": "stderr",
     "output_type": "stream",
     "text": [
      "C:\\Users\\cansimsek\\AppData\\Roaming\\Python\\Python312\\site-packages\\researchpy\\summary.py:102: FutureWarning: Setting an item of incompatible dtype is deprecated and will raise an error in a future version of pandas. Value 'total_bill' has dtype incompatible with float64, please explicitly cast to a compatible dtype first.\n",
      "  table_a.iloc[0,0] = ix\n",
      "C:\\Users\\cansimsek\\AppData\\Roaming\\Python\\Python312\\site-packages\\researchpy\\summary.py:102: FutureWarning: Setting an item of incompatible dtype is deprecated and will raise an error in a future version of pandas. Value 'tip' has dtype incompatible with float64, please explicitly cast to a compatible dtype first.\n",
      "  table_a.iloc[0,0] = ix\n",
      "C:\\Users\\cansimsek\\AppData\\Roaming\\Python\\Python312\\site-packages\\researchpy\\summary.py:102: FutureWarning: Setting an item of incompatible dtype is deprecated and will raise an error in a future version of pandas. Value 'size' has dtype incompatible with float64, please explicitly cast to a compatible dtype first.\n",
      "  table_a.iloc[0,0] = ix\n"
     ]
    },
    {
     "data": {
      "text/html": [
       "<div>\n",
       "<style scoped>\n",
       "    .dataframe tbody tr th:only-of-type {\n",
       "        vertical-align: middle;\n",
       "    }\n",
       "\n",
       "    .dataframe tbody tr th {\n",
       "        vertical-align: top;\n",
       "    }\n",
       "\n",
       "    .dataframe thead th {\n",
       "        text-align: right;\n",
       "    }\n",
       "</style>\n",
       "<table border=\"1\" class=\"dataframe\">\n",
       "  <thead>\n",
       "    <tr style=\"text-align: right;\">\n",
       "      <th></th>\n",
       "      <th>Variable</th>\n",
       "      <th>N</th>\n",
       "      <th>Mean</th>\n",
       "      <th>SD</th>\n",
       "      <th>SE</th>\n",
       "      <th>95% Conf.</th>\n",
       "      <th>Interval</th>\n",
       "    </tr>\n",
       "  </thead>\n",
       "  <tbody>\n",
       "    <tr>\n",
       "      <th>0</th>\n",
       "      <td>total_bill</td>\n",
       "      <td>244.0</td>\n",
       "      <td>19.7859</td>\n",
       "      <td>8.9024</td>\n",
       "      <td>0.5699</td>\n",
       "      <td>18.6633</td>\n",
       "      <td>20.9086</td>\n",
       "    </tr>\n",
       "    <tr>\n",
       "      <th>1</th>\n",
       "      <td>tip</td>\n",
       "      <td>244.0</td>\n",
       "      <td>2.9983</td>\n",
       "      <td>1.3836</td>\n",
       "      <td>0.0886</td>\n",
       "      <td>2.8238</td>\n",
       "      <td>3.1728</td>\n",
       "    </tr>\n",
       "    <tr>\n",
       "      <th>2</th>\n",
       "      <td>size</td>\n",
       "      <td>244.0</td>\n",
       "      <td>2.5697</td>\n",
       "      <td>0.9511</td>\n",
       "      <td>0.0609</td>\n",
       "      <td>2.4497</td>\n",
       "      <td>2.6896</td>\n",
       "    </tr>\n",
       "  </tbody>\n",
       "</table>\n",
       "</div>"
      ],
      "text/plain": [
       "     Variable      N     Mean      SD      SE  95% Conf.  Interval\n",
       "0  total_bill  244.0  19.7859  8.9024  0.5699    18.6633   20.9086\n",
       "1         tip  244.0   2.9983  1.3836  0.0886     2.8238    3.1728\n",
       "2        size  244.0   2.5697  0.9511  0.0609     2.4497    2.6896"
      ]
     },
     "execution_count": 10,
     "metadata": {},
     "output_type": "execute_result"
    }
   ],
   "source": [
    "import researchpy as rp\n",
    "rp.summary_cont(df[[\"total_bill\", \"tip\", \"size\"]])"
   ]
  },
  {
   "cell_type": "code",
   "execution_count": 11,
   "id": "379a884a-57f9-47d6-8b57-083ed81d8378",
   "metadata": {
    "scrolled": true
   },
   "outputs": [
    {
     "data": {
      "text/html": [
       "<div>\n",
       "<style scoped>\n",
       "    .dataframe tbody tr th:only-of-type {\n",
       "        vertical-align: middle;\n",
       "    }\n",
       "\n",
       "    .dataframe tbody tr th {\n",
       "        vertical-align: top;\n",
       "    }\n",
       "\n",
       "    .dataframe thead th {\n",
       "        text-align: right;\n",
       "    }\n",
       "</style>\n",
       "<table border=\"1\" class=\"dataframe\">\n",
       "  <thead>\n",
       "    <tr style=\"text-align: right;\">\n",
       "      <th></th>\n",
       "      <th>Variable</th>\n",
       "      <th>Outcome</th>\n",
       "      <th>Count</th>\n",
       "      <th>Percent</th>\n",
       "    </tr>\n",
       "  </thead>\n",
       "  <tbody>\n",
       "    <tr>\n",
       "      <th>0</th>\n",
       "      <td>sex</td>\n",
       "      <td>Male</td>\n",
       "      <td>157</td>\n",
       "      <td>64.34</td>\n",
       "    </tr>\n",
       "    <tr>\n",
       "      <th>1</th>\n",
       "      <td></td>\n",
       "      <td>Female</td>\n",
       "      <td>87</td>\n",
       "      <td>35.66</td>\n",
       "    </tr>\n",
       "    <tr>\n",
       "      <th>2</th>\n",
       "      <td>smoker</td>\n",
       "      <td>No</td>\n",
       "      <td>151</td>\n",
       "      <td>61.89</td>\n",
       "    </tr>\n",
       "    <tr>\n",
       "      <th>3</th>\n",
       "      <td></td>\n",
       "      <td>Yes</td>\n",
       "      <td>93</td>\n",
       "      <td>38.11</td>\n",
       "    </tr>\n",
       "    <tr>\n",
       "      <th>4</th>\n",
       "      <td>day</td>\n",
       "      <td>Sat</td>\n",
       "      <td>87</td>\n",
       "      <td>35.66</td>\n",
       "    </tr>\n",
       "    <tr>\n",
       "      <th>5</th>\n",
       "      <td></td>\n",
       "      <td>Sun</td>\n",
       "      <td>76</td>\n",
       "      <td>31.15</td>\n",
       "    </tr>\n",
       "    <tr>\n",
       "      <th>6</th>\n",
       "      <td></td>\n",
       "      <td>Thur</td>\n",
       "      <td>62</td>\n",
       "      <td>25.41</td>\n",
       "    </tr>\n",
       "    <tr>\n",
       "      <th>7</th>\n",
       "      <td></td>\n",
       "      <td>Fri</td>\n",
       "      <td>19</td>\n",
       "      <td>7.79</td>\n",
       "    </tr>\n",
       "  </tbody>\n",
       "</table>\n",
       "</div>"
      ],
      "text/plain": [
       "  Variable Outcome  Count  Percent\n",
       "0      sex    Male    157    64.34\n",
       "1           Female     87    35.66\n",
       "2   smoker      No    151    61.89\n",
       "3              Yes     93    38.11\n",
       "4      day     Sat     87    35.66\n",
       "5              Sun     76    31.15\n",
       "6             Thur     62    25.41\n",
       "7              Fri     19     7.79"
      ]
     },
     "execution_count": 11,
     "metadata": {},
     "output_type": "execute_result"
    }
   ],
   "source": [
    "rp.summary_cat(df[[\"sex\",\"smoker\",\"day\"]])"
   ]
  },
  {
   "cell_type": "code",
   "execution_count": 12,
   "id": "b5f59bcf-b8d0-40ba-a3b4-d66ffba8222b",
   "metadata": {},
   "outputs": [
    {
     "data": {
      "text/html": [
       "<div>\n",
       "<style scoped>\n",
       "    .dataframe tbody tr th:only-of-type {\n",
       "        vertical-align: middle;\n",
       "    }\n",
       "\n",
       "    .dataframe tbody tr th {\n",
       "        vertical-align: top;\n",
       "    }\n",
       "\n",
       "    .dataframe thead th {\n",
       "        text-align: right;\n",
       "    }\n",
       "</style>\n",
       "<table border=\"1\" class=\"dataframe\">\n",
       "  <thead>\n",
       "    <tr style=\"text-align: right;\">\n",
       "      <th></th>\n",
       "      <th>tip</th>\n",
       "      <th>total_bill</th>\n",
       "    </tr>\n",
       "  </thead>\n",
       "  <tbody>\n",
       "    <tr>\n",
       "      <th>tip</th>\n",
       "      <td>1.914455</td>\n",
       "      <td>8.323502</td>\n",
       "    </tr>\n",
       "    <tr>\n",
       "      <th>total_bill</th>\n",
       "      <td>8.323502</td>\n",
       "      <td>79.252939</td>\n",
       "    </tr>\n",
       "  </tbody>\n",
       "</table>\n",
       "</div>"
      ],
      "text/plain": [
       "                 tip  total_bill\n",
       "tip         1.914455    8.323502\n",
       "total_bill  8.323502   79.252939"
      ]
     },
     "execution_count": 12,
     "metadata": {},
     "output_type": "execute_result"
    }
   ],
   "source": [
    "df[[\"tip\",\"total_bill\"]].cov() # Kovaryans, değişkenlik ölçüsü"
   ]
  },
  {
   "cell_type": "code",
   "execution_count": 13,
   "id": "e8e9c796-dd33-47fb-9fca-6295740bc0ee",
   "metadata": {},
   "outputs": [
    {
     "data": {
      "text/html": [
       "<div>\n",
       "<style scoped>\n",
       "    .dataframe tbody tr th:only-of-type {\n",
       "        vertical-align: middle;\n",
       "    }\n",
       "\n",
       "    .dataframe tbody tr th {\n",
       "        vertical-align: top;\n",
       "    }\n",
       "\n",
       "    .dataframe thead th {\n",
       "        text-align: right;\n",
       "    }\n",
       "</style>\n",
       "<table border=\"1\" class=\"dataframe\">\n",
       "  <thead>\n",
       "    <tr style=\"text-align: right;\">\n",
       "      <th></th>\n",
       "      <th>tip</th>\n",
       "      <th>total_bill</th>\n",
       "    </tr>\n",
       "  </thead>\n",
       "  <tbody>\n",
       "    <tr>\n",
       "      <th>tip</th>\n",
       "      <td>1.000000</td>\n",
       "      <td>0.675734</td>\n",
       "    </tr>\n",
       "    <tr>\n",
       "      <th>total_bill</th>\n",
       "      <td>0.675734</td>\n",
       "      <td>1.000000</td>\n",
       "    </tr>\n",
       "  </tbody>\n",
       "</table>\n",
       "</div>"
      ],
      "text/plain": [
       "                 tip  total_bill\n",
       "tip         1.000000    0.675734\n",
       "total_bill  0.675734    1.000000"
      ]
     },
     "execution_count": 13,
     "metadata": {},
     "output_type": "execute_result"
    }
   ],
   "source": [
    "df[[\"tip\", \"total_bill\"]].corr() # Korelasyon ölçüsü"
   ]
  },
  {
   "cell_type": "markdown",
   "id": "90030e94-630b-4919-8bf0-1494e5c3773e",
   "metadata": {},
   "source": [
    "### Güven Aralığı\n",
    "\n",
    "Anakütle parametresinin tahmini değerini kapsayabilecek iki sayıdan oluşan bir aralık bulunmasıdır.\n",
    "\n",
    "İş uygulaması: Fiyat stratejisi karar destek ( Güven aralığı uygulaması )\n",
    "\n",
    "Problem: \n",
    "- CEO fiyat belirleme konusunda bilimsel bir dayanak ve esneklik istiyor.\n",
    "\n",
    "Detaylar:\n",
    " - Satıcı, alıcı ve bir ürün var.\n",
    " - Alıcılara ürüne ne kadar ücret öderdiniz diye soruluyor\n",
    " - Optimum fiyat bilimsel ve esnek olarak bulunmak isteniyor."
   ]
  },
  {
   "cell_type": "code",
   "execution_count": 14,
   "id": "e53dbae3-1141-471d-841e-005ca120161e",
   "metadata": {},
   "outputs": [],
   "source": [
    "fiyatlar = np.random.randint(10,110,1000)"
   ]
  },
  {
   "cell_type": "code",
   "execution_count": 15,
   "id": "2ee092ea-0e62-4ed1-afa6-f77c967e69e4",
   "metadata": {},
   "outputs": [
    {
     "data": {
      "text/plain": [
       "59.449"
      ]
     },
     "execution_count": 15,
     "metadata": {},
     "output_type": "execute_result"
    }
   ],
   "source": [
    "fiyatlar.mean()"
   ]
  },
  {
   "cell_type": "code",
   "execution_count": 16,
   "id": "8d7dd355-86b7-4c85-8f96-01b217b4dfc8",
   "metadata": {},
   "outputs": [],
   "source": [
    "import statsmodels.stats.api as sms"
   ]
  },
  {
   "cell_type": "code",
   "execution_count": 17,
   "id": "9e0774a0-a638-4b06-8149-8e91f7516556",
   "metadata": {},
   "outputs": [
    {
     "data": {
      "text/plain": [
       "(57.65188506384345, 61.246114936156545)"
      ]
     },
     "execution_count": 17,
     "metadata": {},
     "output_type": "execute_result"
    }
   ],
   "source": [
    "sms.DescrStatsW(fiyatlar).tconfint_mean()"
   ]
  },
  {
   "cell_type": "code",
   "execution_count": 18,
   "id": "ecb0c467-4248-46b5-b62f-e3c95001345e",
   "metadata": {},
   "outputs": [
    {
     "data": {
      "text/plain": [
       "0.6"
      ]
     },
     "execution_count": 18,
     "metadata": {},
     "output_type": "execute_result"
    }
   ],
   "source": [
    "# Bernoulli Dağılımı Uygulama\n",
    "\n",
    "from scipy.stats import bernoulli\n",
    "\n",
    "p = 0.6\n",
    "\n",
    "rv = bernoulli(p)\n",
    "\n",
    "rv.pmf(k = 1) # olasılık kütle fonksiyonu"
   ]
  },
  {
   "cell_type": "code",
   "execution_count": 19,
   "id": "94f174b0-e53a-4941-a389-233a3e26c75f",
   "metadata": {},
   "outputs": [
    {
     "name": "stdout",
     "output_type": "stream",
     "text": [
      "Atış sayısı: 2 --- Yazı olasılığı: 0.50\n",
      "Atış sayısı: 4 --- Yazı olasılığı: 0.25\n",
      "Atış sayısı: 8 --- Yazı olasılığı: 0.12\n",
      "Atış sayısı: 16 --- Yazı olasılığı: 0.81\n",
      "Atış sayısı: 32 --- Yazı olasılığı: 0.47\n",
      "Atış sayısı: 64 --- Yazı olasılığı: 0.66\n",
      "Atış sayısı: 128 --- Yazı olasılığı: 0.41\n",
      "Atış sayısı: 256 --- Yazı olasılığı: 0.52\n",
      "Atış sayısı: 512 --- Yazı olasılığı: 0.50\n",
      "Atış sayısı: 1024 --- Yazı olasılığı: 0.48\n",
      "Atış sayısı: 2048 --- Yazı olasılığı: 0.51\n",
      "Atış sayısı: 4096 --- Yazı olasılığı: 0.50\n",
      "Atış sayısı: 8192 --- Yazı olasılığı: 0.49\n",
      "Atış sayısı: 16384 --- Yazı olasılığı: 0.51\n",
      "Atış sayısı: 32768 --- Yazı olasılığı: 0.50\n",
      "Atış sayısı: 65536 --- Yazı olasılığı: 0.50\n",
      "Atış sayısı: 131072 --- Yazı olasılığı: 0.50\n",
      "Atış sayısı: 262144 --- Yazı olasılığı: 0.50\n",
      "Atış sayısı: 524288 --- Yazı olasılığı: 0.50\n",
      "Atış sayısı: 1048576 --- Yazı olasılığı: 0.50\n"
     ]
    }
   ],
   "source": [
    "# Büyük sayılar yasayı\n",
    "rng = np.random.RandomState(42)\n",
    "\n",
    "for i in range(1,21):\n",
    "    deney_sayisi = 2**i\n",
    "    yazi_turalar = rng.randint(0,2,size=deney_sayisi)\n",
    "    yazi_olasiliklari = np.mean(yazi_turalar)\n",
    "    print(f\"Atış sayısı: {deney_sayisi} --- Yazı olasılığı: {yazi_olasiliklari:.2f}\")"
   ]
  },
  {
   "cell_type": "code",
   "execution_count": 20,
   "id": "ed8d9ebb-4326-4196-9b0f-772026cc2029",
   "metadata": {},
   "outputs": [],
   "source": [
    "# İş Uygulaması: Reklam Harcaması Optimizasyonu\n",
    "# Problem: Çeşitli mecralarda reklam veriliyor, reklamların tıklanma ve geri dönüşüm oranları optimize edilmeye çalışılıyor.\n",
    "# Buna yönelik olarak belirli bir mecrada çeşitli senaryolara göre reklama tıklama olasılıkları hesaplanmak isteniyor.\n",
    "# Dağılım ve reklam tıklama olasılığı biliniyor(0.01)\n",
    "# Bu reklamı 100 kişi gördüğünde 1, 5 ve 10 tıklanma olasılığı nelerdir?\n",
    "\n",
    "from scipy.stats import binom"
   ]
  },
  {
   "cell_type": "code",
   "execution_count": 21,
   "id": "b2b78a3c-7cf9-4873-b678-de838ae81fff",
   "metadata": {},
   "outputs": [
    {
     "name": "stdout",
     "output_type": "stream",
     "text": [
      "0.36972963764972666\n",
      "0.002897787123761478\n",
      "7.006035693977194e-08\n"
     ]
    }
   ],
   "source": [
    "p = 0.01\n",
    "n = 100\n",
    "rv = binom(n, p)\n",
    "\n",
    "print(rv.pmf(1))\n",
    "print(rv.pmf(5))\n",
    "print(rv.pmf(10))"
   ]
  },
  {
   "cell_type": "code",
   "execution_count": 22,
   "id": "41b3446b-6910-40f8-896e-a6fe71265089",
   "metadata": {},
   "outputs": [
    {
     "name": "stdout",
     "output_type": "stream",
     "text": [
      "      Parametre        Değer                         Açıklama\n",
      "     Lambda (λ)          0.2             Ortalama hata sayısı\n",
      "Hata Sayısı (k)            5              İstenen hata sayısı\n",
      "       Olasılık 0.0000021833 Tam olarak 5 hata olma olasılığı\n"
     ]
    }
   ],
   "source": [
    "# Poisson Dağılımı\n",
    "# Belirli bir zaman aralığında belirli bir alanda nadiren rastlanan olayların olasılıklarını hesaplamak için kullanılır.\n",
    "# Örnek: Bir üniversitede 5000 not girişinde 5 tane notun yanlış girilmesi olasılığı nedir?\n",
    "# Dağılımın poisson olduğun biliniyor ve Lambda = 0.2\n",
    "\n",
    "import pandas as pd\n",
    "import math\n",
    "\n",
    "def calculate_poisson(lambda_deg, k):\n",
    "    # e üzeri eksi lambda\n",
    "    a = math.exp(-lambda_deg)\n",
    "\n",
    "    # lambda üzeri k hesabı\n",
    "    b = lambda_deg**k\n",
    "\n",
    "    # k faktoriyel hesabı\n",
    "    k_factorial = math.factorial(k)\n",
    "\n",
    "    # Poisson formülü\n",
    "    probability = (a * b) / k_factorial\n",
    "\n",
    "    return probability\n",
    "\n",
    "lambda_deg = 0.2 # ortalama hata sayısı\n",
    "k = 5            # istenen hata sayısı\n",
    "\n",
    "result = calculate_poisson(0.2, 5)\n",
    "\n",
    "poisson = pd.DataFrame({\n",
    "    'Parametre': ['Lambda (λ)', 'Hata Sayısı (k)', 'Olasılık'],\n",
    "    'Değer': [lambda_deg, k, f'{result:.10f}'],\n",
    "    'Açıklama': [\n",
    "        'Ortalama hata sayısı',\n",
    "        'İstenen hata sayısı',\n",
    "        'Tam olarak 5 hata olma olasılığı'\n",
    "    ]\n",
    "})\n",
    "\n",
    "print(poisson.to_string(index=False))"
   ]
  },
  {
   "cell_type": "code",
   "execution_count": 23,
   "id": "2ad27d57-b02d-4b67-8c20-70c4ae68461a",
   "metadata": {},
   "outputs": [
    {
     "name": "stdout",
     "output_type": "stream",
     "text": [
      "İlan Giriş Hata Olasılıkları\n",
      "\n",
      "Hiç hatalı ilan girilmeme olasılığı: 0.9048374180359595\n",
      "\n",
      "Üç hatalı ilan girişi olması olasılığı: 0.00015080623633932663\n",
      "\n",
      "Beş hatalı ilan girişi olması olasılığı: 7.540311816966331e-08\n"
     ]
    }
   ],
   "source": [
    "# İş Uygulaması: İlan Giriş Hata Olasılıkları\n",
    "\"\"\"\n",
    "Detaylar:\n",
    "- Bir yıl süresince ölçümler yapılıyor\n",
    "- Dağılımın Poisson dağılımı olduğu biliniyor ve lambda değeri 0.1 (ortalama hata sayısı)\n",
    "- Hiç hata olmaması, 3 hata olması ve 5 hata olması olasılıkları nedir?\n",
    "\"\"\"\n",
    "def hesapla_poisson(lmbda, k):\n",
    "    a = math.exp(-lmbda)\n",
    "    \n",
    "    b = lmbda**k\n",
    "    \n",
    "    k_faktoriyel = math.factorial(k)\n",
    "\n",
    "    olasilik = (a * b) / k_faktoriyel\n",
    "\n",
    "    return olasilik\n",
    "\n",
    "lmbda = 0.1\n",
    "k1 = 0\n",
    "k2 = 3\n",
    "k3 = 5\n",
    "\n",
    "sonuc1 = hesapla_poisson(lmbda, k1)\n",
    "sonuc2 = hesapla_poisson(lmbda, k2)\n",
    "sonuc3 = hesapla_poisson(lmbda, k3)\n",
    "\n",
    "print(\"İlan Giriş Hata Olasılıkları\\n\")\n",
    "print(f\"Hiç hatalı ilan girilmeme olasılığı: {sonuc1}\")\n",
    "print(f\"\\nÜç hatalı ilan girişi olması olasılığı: {sonuc2}\")\n",
    "print(f\"\\nBeş hatalı ilan girişi olması olasılığı: {sonuc3}\")"
   ]
  },
  {
   "cell_type": "markdown",
   "id": "ecea292b-4875-41c1-b6f1-6ddaedaf89e0",
   "metadata": {},
   "source": [
    " Normal Dağılım\n",
    " İş uygulaması, Satış olasılıklarının hesaplanması\n",
    " Problem:\n",
    " - Bir yatırım/toplantı öncesinde gelecek ay ile ilgili satışların\n",
    " belirli değerlerde gerçekleşmesi olasılıkları isteniyor.\n",
    "\n",
    " Detaylar:\n",
    " - Dağılımın normal dağılım olduğu biliniyor\n",
    " - Aylık ortalama satış sayısı 80k, standart sapması 5k\n",
    " - 90k'dan fazla satış yapma olasılığı nedir?"
   ]
  },
  {
   "cell_type": "code",
   "execution_count": 24,
   "id": "fb6e767a-7eb2-450d-a742-3a4150b9c368",
   "metadata": {},
   "outputs": [],
   "source": [
    "from scipy.stats import norm"
   ]
  },
  {
   "cell_type": "code",
   "execution_count": 25,
   "id": "dfefb1dd-074f-4513-9a1a-d98bf36e0872",
   "metadata": {},
   "outputs": [
    {
     "data": {
      "text/plain": [
       "0.02275013194817921"
      ]
     },
     "execution_count": 25,
     "metadata": {},
     "output_type": "execute_result"
    }
   ],
   "source": [
    "# 90'dan fazla olması olasılığı\n",
    "1-norm.cdf(90,80,5) #kümülatif yoğunluk fonksiyonu"
   ]
  },
  {
   "cell_type": "code",
   "execution_count": 26,
   "id": "c9133859-3cd5-4b44-bb95-a2cce7b18eaf",
   "metadata": {},
   "outputs": [
    {
     "data": {
      "text/plain": [
       "0.9772498680518208"
      ]
     },
     "execution_count": 26,
     "metadata": {},
     "output_type": "execute_result"
    }
   ],
   "source": [
    "# 70'den fazla olması olaslığı\n",
    "1-norm.cdf(70,80,5)"
   ]
  },
  {
   "cell_type": "code",
   "execution_count": 27,
   "id": "2d13181f-ecc6-410f-b8dd-66cc3a4a94ba",
   "metadata": {},
   "outputs": [
    {
     "data": {
      "text/plain": [
       "0.08075665923377107"
      ]
     },
     "execution_count": 27,
     "metadata": {},
     "output_type": "execute_result"
    }
   ],
   "source": [
    "# 73'den az olması olasılığı\n",
    "norm.cdf(73,80,5)"
   ]
  },
  {
   "cell_type": "code",
   "execution_count": 28,
   "id": "d6f9dc4c-e562-4444-b812-a4b212144fe9",
   "metadata": {},
   "outputs": [
    {
     "data": {
      "text/plain": [
       "0.13590512198327787"
      ]
     },
     "execution_count": 28,
     "metadata": {},
     "output_type": "execute_result"
    }
   ],
   "source": [
    "# 85k ile 90k arasında olma olasılığı\n",
    "\n",
    "final_result = norm.cdf(90,80,5) - norm.cdf(85,80,5)\n",
    "final_result"
   ]
  },
  {
   "cell_type": "code",
   "execution_count": 29,
   "id": "154ad280-e25c-4d3b-98d2-dd217817fd24",
   "metadata": {},
   "outputs": [
    {
     "name": "stdout",
     "output_type": "stream",
     "text": [
      "0.9048374180359595\n"
     ]
    }
   ],
   "source": [
    "\"\"\"\n",
    "Bir futbolcunun penaltı atışları hakkında şu verilere ulaşılmıştır:\n",
    "Penaltı vuruş sonuçları poisson dağılımı göstermektedir.\n",
    "Ortalama hata sayısı (Lambda) 0.1 dir.\n",
    "Penaltılarda hiç gol kaçırmama olasılığı nedir?\n",
    "\"\"\"\n",
    "\n",
    "from scipy.stats import poisson\n",
    "\n",
    "lambda_ = 0.1\n",
    "\n",
    "dist = poisson(mu=lambda_)\n",
    "\n",
    "print(dist.pmf(k=0))"
   ]
  },
  {
   "cell_type": "code",
   "execution_count": null,
   "id": "1e2f9725-660f-402f-b5e6-49bfc02c2c9a",
   "metadata": {},
   "outputs": [],
   "source": []
  }
 ],
 "metadata": {
  "kernelspec": {
   "display_name": "Python 3 (ipykernel)",
   "language": "python",
   "name": "python3"
  },
  "language_info": {
   "codemirror_mode": {
    "name": "ipython",
    "version": 3
   },
   "file_extension": ".py",
   "mimetype": "text/x-python",
   "name": "python",
   "nbconvert_exporter": "python",
   "pygments_lexer": "ipython3",
   "version": "3.12.4"
  }
 },
 "nbformat": 4,
 "nbformat_minor": 5
}
