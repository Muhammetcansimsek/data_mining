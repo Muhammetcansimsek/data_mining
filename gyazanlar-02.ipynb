{
 "cells": [
  {
   "cell_type": "markdown",
   "id": "6843151e-e4fc-4e1a-87fb-3d18069c45af",
   "metadata": {},
   "source": [
    "### VERİ BİLİMİ İÇİN İSTATİSTİK 201"
   ]
  },
  {
   "cell_type": "markdown",
   "id": "07f5601a-ab59-4d8e-be80-41cb83ebc10c",
   "metadata": {},
   "source": [
    "**1. Hipotez Testleri**"
   ]
  },
  {
   "cell_type": "markdown",
   "id": "f54581a5-8bbe-474c-9cff-fc5bf7ddb920",
   "metadata": {},
   "source": [
    "Tanım: Bir inanışı(bir savı veya tahmini vs.) test etmek için kullanılan istatistiksel bir tekniktir\n",
    "\n",
    "##### Hipotez Testi Adımları\n",
    "1. **Adım1:** Hipotezlerin kurulması ve yönlerinin belirlenmesi\n",
    "2. **Adım2:** Anlamlılık düzeylerinin ve tablo değerlerinin bilinmesi\n",
    "3. **Adım3:** Test istatistiğinin belirlenmesi ve test istatistiğinin hesaplanması\n",
    "4. **Adım4:** Hesaplanan test istatistiği ile alfaya denk gelen tablo değerlerinin karşılaştırılması.\n",
    "    Test istatistiği (Zh) > Tablo Değeri (Zt) ise H0 Red\n",
    "5. **Adım5:** Elde edilen değerler yorumlanır"
   ]
  },
  {
   "cell_type": "markdown",
   "id": "33330b40-063c-4613-8cf5-39ca0170b67e",
   "metadata": {},
   "source": [
    "##### Tek Örneklem T Testi\n",
    "Popülasyon ortalası ile varsayımsal bir değer arasında istatistiksel olarak anlamı\n",
    "bir fark olup olmadığını test etmek için kullanılan parametrik bir testtir."
   ]
  },
  {
   "cell_type": "code",
   "execution_count": 1,
   "id": "27baaaaf-4122-445c-ac02-eee7d0e0696e",
   "metadata": {},
   "outputs": [
    {
     "data": {
      "text/plain": [
       "DescribeResult(nobs=50, minmax=(17, 251), mean=154.38, variance=2578.0363265306123, skewness=-0.32398897278694483, kurtosis=-0.05849823498415985)"
      ]
     },
     "execution_count": 1,
     "metadata": {},
     "output_type": "execute_result"
    }
   ],
   "source": [
    "import numpy as np\n",
    "import scipy.stats as stats\n",
    "\n",
    "olcumler = np.array([17, 160, 234, 149, 145, 107, 197, 75, 201, 225, 211, 119, 157, 145, 127, 244, 163, 114,\n",
    "                     145, 65, 112, 185, 202, 146, 203, 224, 203, 114, 188, 156,187, 154, 177, 95, 165, 50,\n",
    "                     110, 216, 138, 151, 166, 135, 155, 84, 251, 173, 131, 207, 121, 120])\n",
    "stats.describe(olcumler)"
   ]
  },
  {
   "cell_type": "code",
   "execution_count": 2,
   "id": "32e41a89-8843-495c-9af5-9fc3077d7275",
   "metadata": {},
   "outputs": [
    {
     "data": {
      "text/plain": [
       "ShapiroResult(statistic=0.9853103897061022, pvalue=0.7848671719373956)"
      ]
     },
     "execution_count": 2,
     "metadata": {},
     "output_type": "execute_result"
    }
   ],
   "source": [
    "# varsayımlar\n",
    "# normallik varsayımı\n",
    "# Shapiro-Wilks Testi\n",
    "from scipy.stats import shapiro\n",
    "shapiro(olcumler) # pvalue değeri 0.05 değerinden küçük olmadığı için bu durumda H0 hipotezi reddedilemez\n",
    "# Sonuç: Örnek dağılımı ile teorik normal dağılım arasında istatistiksel olarak anlamlı bir farklılık yoktur."
   ]
  },
  {
   "cell_type": "code",
   "execution_count": 3,
   "id": "055bee11-b378-465e-9ee5-43e3166562c8",
   "metadata": {},
   "outputs": [
    {
     "data": {
      "text/plain": [
       "TtestResult(statistic=-2.1753117985877966, pvalue=0.034460415195071446, df=49)"
      ]
     },
     "execution_count": 3,
     "metadata": {},
     "output_type": "execute_result"
    }
   ],
   "source": [
    "# Tek örneklem T testi uygulaması\n",
    "stats.ttest_1samp(olcumler,popmean=170)\n"
   ]
  },
  {
   "cell_type": "markdown",
   "id": "380f02e8-5fcd-43c8-b9ed-38c9c82b6368",
   "metadata": {},
   "source": [
    "Yukarıdaki hesaplamaya göre:\n",
    " - H0: Web sitesinde geçirilen ortalama süre 170 saniyedir.\n",
    " - H1: Web sitesinde geçirilen ortalama süre 170 saniye değildir.\n",
    "pvalue değeri 0.03 < 0.05 olduğu için H0 hipotezi reddedilir, yani bu durumda H1 hipotezi geçerlidir.\n",
    "Ortalama değerimiz de 154.38 olduğu için şu çıkarımı yapabiliriz ki\n",
    "'Web sitesinde kullanıcıların geçirdiği ortalam süre 170 saniyeden küçüktür' diyebiliriz."
   ]
  },
  {
   "cell_type": "markdown",
   "id": "66275c6f-c0cc-4af7-bbb0-486571e8901e",
   "metadata": {},
   "source": [
    "##### Nonparametrik Tek Örneklem Testi"
   ]
  },
  {
   "cell_type": "code",
   "execution_count": 4,
   "id": "5a35b4ca-1ef4-4a41-9f84-ac97d4991c44",
   "metadata": {},
   "outputs": [],
   "source": [
    "from statsmodels.stats.descriptivestats import sign_test"
   ]
  },
  {
   "cell_type": "code",
   "execution_count": 5,
   "id": "e1b18bb5-e270-4b4d-86db-4d651d1b7af5",
   "metadata": {},
   "outputs": [
    {
     "data": {
      "text/plain": [
       "(-7.0, 0.06490864707227217)"
      ]
     },
     "execution_count": 5,
     "metadata": {},
     "output_type": "execute_result"
    }
   ],
   "source": [
    "sign_test(olcumler, 170)"
   ]
  },
  {
   "cell_type": "markdown",
   "id": "aed3a442-63ab-4a09-b603-699c0ecc1d55",
   "metadata": {},
   "source": [
    "##### TEK ÖRNEKLEM ORAN TESTİ\n",
    " Oransal bir ifade test edilmek istenildiğinde kullanılan bir test türüdür."
   ]
  },
  {
   "cell_type": "code",
   "execution_count": 6,
   "id": "e8cfd9d9-0f68-4533-8360-43a7e4b926c0",
   "metadata": {},
   "outputs": [],
   "source": [
    "# İş Uygulaması: Dönüşüm Oranı Testi\n",
    "# gerçekleşen olay / o duruma maruz kalan kişi sayısı\n",
    "# Problem: \n",
    "# Bir yazılım ile bir mecrada reklam verilmiş ve bu reklama ilişkin yazılım tarafından 0.125 dönüşün oranı elde \n",
    "# edildiği ifade edilmiştir. Fakat bu durum kontrol edilmek isteniyor. Çünkü bu yüksek bir oran ve gelirler incelendiğinde örtüşmüyor\n",
    "# Detaylar: \n",
    "# 500 kişi dış mecrada reklamlara tıklamış, 40 tanesi sitemize gelip alışveriş yapmış.\n",
    "# Örnek üzerinde elde edilmiş dönüşüm oranı: 40/500: 0.08\n",
    "# H0: p=0.125\n",
    "# H1: p!=0.125"
   ]
  },
  {
   "cell_type": "code",
   "execution_count": 7,
   "id": "13d2ff1e-2f83-45e1-af31-37e365bd0479",
   "metadata": {},
   "outputs": [],
   "source": [
    "from statsmodels.stats.proportion import proportions_ztest"
   ]
  },
  {
   "cell_type": "code",
   "execution_count": 8,
   "id": "6939bc09-8817-47e2-8507-c3c99b691b1f",
   "metadata": {},
   "outputs": [
    {
     "data": {
      "text/plain": [
       "(-3.7090151628513017, 0.0002080669689845979)"
      ]
     },
     "execution_count": 8,
     "metadata": {},
     "output_type": "execute_result"
    }
   ],
   "source": [
    "count = 40\n",
    "nobs = 500\n",
    "value = 0.125\n",
    "\n",
    "proportions_ztest(count, nobs, value)"
   ]
  },
  {
   "cell_type": "code",
   "execution_count": 9,
   "id": "041101dc-46f9-4329-9e32-2e88f7fe8ed8",
   "metadata": {},
   "outputs": [],
   "source": [
    "# alfa 0.0002 < 0.05 olduğu için H0 hipotezi reddedilir\n",
    "# Ürün satın alışına ilişkin dönüşüm oranımız 0.125 değildir. %95 oranı ile bu çıkarımı yapabiliyorz"
   ]
  },
  {
   "cell_type": "markdown",
   "id": "c9d5a40a-38be-445c-ab09-91fb3f0775c2",
   "metadata": {},
   "source": [
    "##### BAĞIMSIZ İKİ ÖRNKELEM T TESTİ (AB TESTİ)\n",
    "- Normallik varsayımı\n",
    "- Varyans homojenliği varsayımı\n",
    "\n",
    "İş Uygulaması: ML Modelinin Başarı Testi(AB Testi)\n",
    "- Problem:\n",
    "Bir ML projesine yatırım yapılmış. Ürettiği tahminler neticesinde oluşan gelir ile eski sistemin ürettiği gelirler karşılaştırılıp\n",
    "anlamlı bir farklılık olup olmadığı test edilmek isteniyor."
   ]
  },
  {
   "cell_type": "code",
   "execution_count": 10,
   "id": "737668d9-9858-485b-86ee-8eababbeff95",
   "metadata": {},
   "outputs": [
    {
     "data": {
      "text/html": [
       "<div>\n",
       "<style scoped>\n",
       "    .dataframe tbody tr th:only-of-type {\n",
       "        vertical-align: middle;\n",
       "    }\n",
       "\n",
       "    .dataframe tbody tr th {\n",
       "        vertical-align: top;\n",
       "    }\n",
       "\n",
       "    .dataframe thead th {\n",
       "        text-align: right;\n",
       "    }\n",
       "</style>\n",
       "<table border=\"1\" class=\"dataframe\">\n",
       "  <thead>\n",
       "    <tr style=\"text-align: right;\">\n",
       "      <th></th>\n",
       "      <th>0</th>\n",
       "      <th>1</th>\n",
       "      <th>2</th>\n",
       "      <th>3</th>\n",
       "      <th>4</th>\n",
       "      <th>5</th>\n",
       "      <th>6</th>\n",
       "      <th>7</th>\n",
       "      <th>8</th>\n",
       "      <th>9</th>\n",
       "      <th>...</th>\n",
       "      <th>50</th>\n",
       "      <th>51</th>\n",
       "      <th>52</th>\n",
       "      <th>53</th>\n",
       "      <th>54</th>\n",
       "      <th>55</th>\n",
       "      <th>56</th>\n",
       "      <th>57</th>\n",
       "      <th>58</th>\n",
       "      <th>59</th>\n",
       "    </tr>\n",
       "  </thead>\n",
       "  <tbody>\n",
       "    <tr>\n",
       "      <th>gelir</th>\n",
       "      <td>30</td>\n",
       "      <td>27</td>\n",
       "      <td>21</td>\n",
       "      <td>27</td>\n",
       "      <td>29</td>\n",
       "      <td>30</td>\n",
       "      <td>20</td>\n",
       "      <td>20</td>\n",
       "      <td>27</td>\n",
       "      <td>32</td>\n",
       "      <td>...</td>\n",
       "      <td>33</td>\n",
       "      <td>33</td>\n",
       "      <td>33</td>\n",
       "      <td>31</td>\n",
       "      <td>32</td>\n",
       "      <td>33</td>\n",
       "      <td>26</td>\n",
       "      <td>32</td>\n",
       "      <td>33</td>\n",
       "      <td>29</td>\n",
       "    </tr>\n",
       "    <tr>\n",
       "      <th>GRUP</th>\n",
       "      <td>A</td>\n",
       "      <td>A</td>\n",
       "      <td>A</td>\n",
       "      <td>A</td>\n",
       "      <td>A</td>\n",
       "      <td>A</td>\n",
       "      <td>A</td>\n",
       "      <td>A</td>\n",
       "      <td>A</td>\n",
       "      <td>A</td>\n",
       "      <td>...</td>\n",
       "      <td>B</td>\n",
       "      <td>B</td>\n",
       "      <td>B</td>\n",
       "      <td>B</td>\n",
       "      <td>B</td>\n",
       "      <td>B</td>\n",
       "      <td>B</td>\n",
       "      <td>B</td>\n",
       "      <td>B</td>\n",
       "      <td>B</td>\n",
       "    </tr>\n",
       "  </tbody>\n",
       "</table>\n",
       "<p>2 rows × 60 columns</p>\n",
       "</div>"
      ],
      "text/plain": [
       "       0   1   2   3   4   5   6   7   8   9   ...  50  51  52  53  54  55  \\\n",
       "gelir  30  27  21  27  29  30  20  20  27  32  ...  33  33  33  31  32  33   \n",
       "GRUP    A   A   A   A   A   A   A   A   A   A  ...   B   B   B   B   B   B   \n",
       "\n",
       "       56  57  58  59  \n",
       "gelir  26  32  33  29  \n",
       "GRUP    B   B   B   B  \n",
       "\n",
       "[2 rows x 60 columns]"
      ]
     },
     "execution_count": 10,
     "metadata": {},
     "output_type": "execute_result"
    }
   ],
   "source": [
    "import pandas as pd\n",
    "A = pd.DataFrame([30, 27, 21, 27, 29, 30, 20, 20, 27, 32, 35, 22, 24, 23, 25,\n",
    "                  27, 23, 27, 23, 25, 21, 18, 24, 26, 33, 26, 27, 28, 19, 25],\n",
    "                columns=['gelir']) \n",
    "B = pd.DataFrame([37, 39, 31, 31, 34, 38, 30, 36, 29, 28, 38, 28, 37, 37, 30,\n",
    "     32, 31, 31, 27, 32, 33, 33, 33, 31, 32, 33, 26, 32, 33, 29],\n",
    "                columns=['gelir'])\n",
    "\n",
    "A['GRUP'] = 'A'\n",
    "B['GRUP'] = 'B'\n",
    "\n",
    "AB = pd.concat([A,B])\n",
    "\n",
    "AB = AB.reset_index(drop=True)\n",
    "\n",
    "AB.T"
   ]
  },
  {
   "cell_type": "code",
   "execution_count": 11,
   "id": "1a65b922-29ce-497c-b702-7ddad7b7329c",
   "metadata": {},
   "outputs": [
    {
     "data": {
      "text/plain": [
       "<Axes: xlabel='GRUP', ylabel='gelir'>"
      ]
     },
     "execution_count": 11,
     "metadata": {},
     "output_type": "execute_result"
    },
    {
     "data": {
      "image/png": "[encoded data removed]",
      "text/plain": [
       "<Figure size 640x480 with 1 Axes>"
      ]
     },
     "metadata": {},
     "output_type": "display_data"
    }
   ],
   "source": [
    "import seaborn as sns\n",
    "sns.boxplot(x=\"GRUP\", y=\"gelir\",data=AB)"
   ]
  },
  {
   "cell_type": "code",
   "execution_count": null,
   "id": "27be73e5-2d2e-4d87-aed4-0a8da3e69666",
   "metadata": {},
   "outputs": [],
   "source": []
  }
 ],
 "metadata": {
  "kernelspec": {
   "display_name": "Python 3 (ipykernel)",
   "language": "python",
   "name": "python3"
  },
  "language_info": {
   "codemirror_mode": {
    "name": "ipython",
    "version": 3
   },
   "file_extension": ".py",
   "mimetype": "text/x-python",
   "name": "python",
   "nbconvert_exporter": "python",
   "pygments_lexer": "ipython3",
   "version": "3.12.4"
  }
 },
 "nbformat": 4,
 "nbformat_minor": 5
}
